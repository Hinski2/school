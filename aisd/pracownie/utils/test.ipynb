{
 "cells": [
  {
   "cell_type": "code",
   "execution_count": 103,
   "metadata": {},
   "outputs": [],
   "source": [
    "from tqdm.auto import tqdm\n",
    "import time\n",
    "import subprocess\n",
    "import random\n",
    "\n",
    "def dist(n):\n",
    "    nums = []\n",
    "    for i in range(1, n + 1):\n",
    "        for j in range(1, n + 1):\n",
    "            nums.append(i * j)\n",
    "            \n",
    "    nums = sorted(nums)\n",
    "    last = -1\n",
    "    ans = []\n",
    "    while len(nums):\n",
    "        num = nums.pop()\n",
    "        if num != last:\n",
    "            ans.append(num)\n",
    "        last = num\n",
    "        \n",
    "    return len(ans)"
   ]
  },
  {
   "cell_type": "code",
   "execution_count": 104,
   "metadata": {},
   "outputs": [],
   "source": [
    "wa = False\n",
    "n = 1\n",
    "\n",
    "class Test():\n",
    "    def __init__(self):\n",
    "        self.generate_test()\n",
    "        \n",
    "    def generate_test(self): \n",
    "        global n\n",
    "        with open(\"test.in\", 'w') as test:\n",
    "            self.n = n\n",
    "            self.k = dist(n)\n",
    "            test.write(f\"{self.n} {self.k}\\n\")\n",
    "            n += 1\n",
    "        \n",
    "    def check_solutions(self, a_out, b_out):\n",
    "        global wa\n",
    "        # a: brut, b: better_solution\n",
    "        with open(a_out, 'r') as a_out, open(b_out, 'r') as b_out:\n",
    "            # better check brut \n",
    "            self.test_data_brut = []\n",
    "            for _ in range(self.k):\n",
    "                x = int(a_out.readline().strip())\n",
    "                self.test_data_brut.append(x)\n",
    "                \n",
    "            \n",
    "            self.test_data_chad = []\n",
    "            for _ in range(self.k):\n",
    "                x = int(b_out.readline().strip())\n",
    "                self.test_data_chad.append(x)\n",
    "                \n",
    "            self.better_check()\n",
    "    \n",
    "    def better_check(self):\n",
    "        global wa\n",
    "        if self.test_data_brut != self.test_data_chad:\n",
    "            print(\"WA\")\n",
    "            wa = True\n",
    "            return"
   ]
  },
  {
   "cell_type": "code",
   "execution_count": 105,
   "metadata": {},
   "outputs": [],
   "source": [
    "# convention a: brut, b: better_solutoin\n",
    "class Referee():\n",
    "    def __init__(self, program_a: str, program_b: str, max_time):\n",
    "        # program a = sth.cpp (give full name with .cpp)\n",
    "        \n",
    "        self.program_a = program_a\n",
    "        self.program_b = program_b\n",
    "        self.max_time = max_time\n",
    "        \n",
    "        # compile programs \n",
    "        self.exe_a = self.compile(program_a)\n",
    "        self.exe_b = self.compile(program_b)\n",
    "        \n",
    "    def compile(self, program: str) -> str:\n",
    "        exe_name = program.split('.')[0]\n",
    "        compile_command = ['g++', program, '-o', exe_name]\n",
    "        subprocess.run(compile_command, check=True)\n",
    "        return exe_name\n",
    "    \n",
    "    def do_tests(self): \n",
    "        self.times = []\n",
    "        for _ in tqdm(range(200)): \n",
    "            # create test \n",
    "            self.test = Test()\n",
    "            \n",
    "            # test program_a\n",
    "            start_time_a = time.time()\n",
    "            with open(\"test.in\", \"r\") as test_input, open(f\"{self.exe_a}.out\", \"w\") as output_a:\n",
    "                try:\n",
    "                    subprocess.run(f\"./{self.exe_a}\", stdin=test_input, stdout=output_a, stderr=subprocess.DEVNULL, timeout=self.max_time * 2, check=True)\n",
    "                except subprocess.TimeoutExpired:\n",
    "                    print(f\"{self.exe_a} exceeded time limit\")\n",
    "                    exit(1)\n",
    "                except subprocess.CalledProcessError:\n",
    "                    print(f\"{self.exe_a} ended with an error\")\n",
    "                    exit(2)\n",
    "            end_time_a = time.time()\n",
    "            \n",
    "            # test program_b\n",
    "            start_time_b = time.time()\n",
    "            with open(\"test.in\", \"r\") as test_input, open(f\"{self.exe_b}.out\", \"w\") as output_b:\n",
    "                try:\n",
    "                    subprocess.run(f\"./{self.exe_b}\", stdin=test_input, stdout=output_b, stderr=subprocess.DEVNULL, timeout=self.max_time * 2, check=True)\n",
    "                except subprocess.TimeoutExpired:\n",
    "                    print(f\"{self.exe_b} exceeded time limit\") \n",
    "                    exit(1)\n",
    "                except subprocess.CalledProcessError:\n",
    "                    print(f\"{self.exe_b} ended with an error\")\n",
    "                    exit(2)\n",
    "            end_time_b = time.time()\n",
    "            \n",
    "            \n",
    "            # check solution\n",
    "            global wa\n",
    "            wa = False\n",
    "            self.test.check_solutions(f\"{self.exe_a}.out\", f\"{self.exe_b}.out\")\n",
    "            if wa == True:\n",
    "               break \n",
    "            \n",
    "            # solutions are ok\n",
    "            self.times.append([end_time_a - start_time_a, end_time_b - start_time_b])\n",
    "        \n",
    "        else:\n",
    "            print(\"everything ok 🚀\") "
   ]
  },
  {
   "cell_type": "code",
   "execution_count": null,
   "metadata": {},
   "outputs": [
    {
     "name": "stderr",
     "output_type": "stream",
     "text": [
      " 61%|██████    | 122/200 [00:25<00:46,  1.68it/s]"
     ]
    }
   ],
   "source": [
    "referee = Referee('brut_solution.cpp', 'gigachad_solution.cpp', 2)\n",
    "referee.do_tests()"
   ]
  },
  {
   "cell_type": "code",
   "execution_count": null,
   "metadata": {},
   "outputs": [
    {
     "data": {
      "application/vnd.microsoft.datawrangler.viewer.v0+json": {
       "columns": [
        {
         "name": "index",
         "rawType": "int64",
         "type": "integer"
        },
        {
         "name": "brut",
         "rawType": "float64",
         "type": "float"
        },
        {
         "name": "chad",
         "rawType": "float64",
         "type": "float"
        }
       ],
       "conversionMethod": "pd.DataFrame",
       "ref": "9c726e71-e1ab-4fea-b96d-ebd5bdd1891b",
       "rows": [
        [
         "0",
         "2.6767959594726562",
         "0.03621625900268555"
        ]
       ],
       "shape": {
        "columns": 2,
        "rows": 1
       }
      },
      "text/html": [
       "<div>\n",
       "<style scoped>\n",
       "    .dataframe tbody tr th:only-of-type {\n",
       "        vertical-align: middle;\n",
       "    }\n",
       "\n",
       "    .dataframe tbody tr th {\n",
       "        vertical-align: top;\n",
       "    }\n",
       "\n",
       "    .dataframe thead th {\n",
       "        text-align: right;\n",
       "    }\n",
       "</style>\n",
       "<table border=\"1\" class=\"dataframe\">\n",
       "  <thead>\n",
       "    <tr style=\"text-align: right;\">\n",
       "      <th></th>\n",
       "      <th>brut</th>\n",
       "      <th>chad</th>\n",
       "    </tr>\n",
       "  </thead>\n",
       "  <tbody>\n",
       "    <tr>\n",
       "      <th>0</th>\n",
       "      <td>2.676796</td>\n",
       "      <td>0.036216</td>\n",
       "    </tr>\n",
       "  </tbody>\n",
       "</table>\n",
       "</div>"
      ],
      "text/plain": [
       "       brut      chad\n",
       "0  2.676796  0.036216"
      ]
     },
     "execution_count": 102,
     "metadata": {},
     "output_type": "execute_result"
    }
   ],
   "source": [
    "import pandas as pd\n",
    "df = pd.DataFrame(referee.times)\n",
    "df.columns = ['brut', 'chad']\n",
    "df = df.sort_values(by='chad', ascending=False)\n",
    "df"
   ]
  }
 ],
 "metadata": {
  "kernelspec": {
   "display_name": "pytorch",
   "language": "python",
   "name": "python3"
  },
  "language_info": {
   "codemirror_mode": {
    "name": "ipython",
    "version": 3
   },
   "file_extension": ".py",
   "mimetype": "text/x-python",
   "name": "python",
   "nbconvert_exporter": "python",
   "pygments_lexer": "ipython3",
   "version": "3.10.14"
  }
 },
 "nbformat": 4,
 "nbformat_minor": 2
}
