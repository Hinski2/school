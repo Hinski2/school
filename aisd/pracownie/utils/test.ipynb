{
 "cells": [
  {
   "cell_type": "code",
   "execution_count": 71,
   "metadata": {},
   "outputs": [],
   "source": [
    "from tqdm.auto import tqdm\n",
    "import time\n",
    "import subprocess\n",
    "import random"
   ]
  },
  {
   "cell_type": "code",
   "execution_count": 72,
   "metadata": {},
   "outputs": [],
   "source": [
    "wa = False\n",
    "\n",
    "class Test():\n",
    "    def __init__(self):\n",
    "        self.generate_test()\n",
    "        \n",
    "    def generate_test(self): \n",
    "        with open(\"test.in\", 'w') as test:\n",
    "            self.n = random.randint(3, 4)\n",
    "            self.p = random.randint(1, 2)\n",
    "            self.mod = random.randint(100, 1_000_000)\n",
    "            \n",
    "            test.write(f\"{self.n} {self.p} {self.mod}\\n\")\n",
    "            \n",
    "            for _ in range(self.p):\n",
    "                for _ in range(3):\n",
    "                    row = \"\".join('x' if random.random() < 0.5 else '.' for _ in range(3))\n",
    "                    test.write(row + \"\\n\")\n",
    "        \n",
    "    def check_solutions(self, a_out, b_out):\n",
    "        global wa\n",
    "        # a: brut, b: better_solution\n",
    "        with open(a_out, 'r') as a_out, open(b_out, 'r') as b_out:\n",
    "            self.test_data_brut = int(a_out.readline().strip())\n",
    "            self.test_data_chad = int(b_out.readline().strip())\n",
    "                \n",
    "            self.better_check()\n",
    "    \n",
    "    def better_check(self):\n",
    "        global wa\n",
    "        if self.test_data_brut != self.test_data_chad:\n",
    "            print(\"WA\")\n",
    "            wa = True\n",
    "            return"
   ]
  },
  {
   "cell_type": "code",
   "execution_count": 73,
   "metadata": {},
   "outputs": [],
   "source": [
    "# convention a: brut, b: better_solutoin\n",
    "class Referee():\n",
    "    def __init__(self, program_a: str, program_b: str, max_time):\n",
    "        # program a = sth.cpp (give full name with .cpp)\n",
    "        \n",
    "        self.program_a = program_a\n",
    "        self.program_b = program_b\n",
    "        self.max_time = max_time\n",
    "        \n",
    "        # compile programs \n",
    "        self.exe_a = self.compile(program_a)\n",
    "        self.exe_b = self.compile(program_b)\n",
    "        \n",
    "    def compile(self, program: str) -> str:\n",
    "        exe_name = program.split('.')[0]\n",
    "        compile_command = ['g++', program, '-o', exe_name]\n",
    "        subprocess.run(compile_command, check=True)\n",
    "        return exe_name\n",
    "    \n",
    "    def do_tests(self): \n",
    "        self.times = []\n",
    "        for _ in tqdm(range(2000)): \n",
    "            # create test \n",
    "            self.test = Test()\n",
    "            \n",
    "            # test program_a\n",
    "            start_time_a = time.time()\n",
    "            with open(\"test.in\", \"r\") as test_input, open(f\"{self.exe_a}.out\", \"w\") as output_a:\n",
    "                try:\n",
    "                    subprocess.run(f\"./{self.exe_a}\", stdin=test_input, stdout=output_a, stderr=subprocess.DEVNULL, timeout=self.max_time * 2, check=True)\n",
    "                except subprocess.TimeoutExpired:\n",
    "                    print(f\"{self.exe_a} exceeded time limit\")\n",
    "                    exit(1)\n",
    "                except subprocess.CalledProcessError:\n",
    "                    print(f\"{self.exe_a} ended with an error\")\n",
    "                    exit(2)\n",
    "            end_time_a = time.time()\n",
    "            \n",
    "            # test program_b\n",
    "            start_time_b = time.time()\n",
    "            with open(\"test.in\", \"r\") as test_input, open(f\"{self.exe_b}.out\", \"w\") as output_b:\n",
    "                try:\n",
    "                    subprocess.run(f\"./{self.exe_b}\", stdin=test_input, stdout=output_b, stderr=subprocess.DEVNULL, timeout=self.max_time * 2, check=True)\n",
    "                except subprocess.TimeoutExpired:\n",
    "                    print(f\"{self.exe_b} exceeded time limit\") \n",
    "                    exit(1)\n",
    "                except subprocess.CalledProcessError:\n",
    "                    print(f\"{self.exe_b} ended with an error\")\n",
    "                    exit(2)\n",
    "            end_time_b = time.time()\n",
    "            \n",
    "            \n",
    "            # check solution\n",
    "            global wa\n",
    "            wa = False\n",
    "            self.test.check_solutions(f\"{self.exe_a}.out\", f\"{self.exe_b}.out\")\n",
    "            if wa == True:\n",
    "               break \n",
    "            \n",
    "            # solutions are ok\n",
    "            self.times.append([end_time_a - start_time_a, end_time_b - start_time_b])\n",
    "        \n",
    "        else:\n",
    "            print(\"everything ok 🚀\") "
   ]
  },
  {
   "cell_type": "code",
   "execution_count": 74,
   "metadata": {},
   "outputs": [
    {
     "name": "stderr",
     "output_type": "stream",
     "text": [
      "100%|██████████| 2000/2000 [03:32<00:00,  9.40it/s]"
     ]
    },
    {
     "name": "stdout",
     "output_type": "stream",
     "text": [
      "everything ok 🚀\n"
     ]
    },
    {
     "name": "stderr",
     "output_type": "stream",
     "text": [
      "\n"
     ]
    }
   ],
   "source": [
    "referee = Referee('brut_solution.cpp', 'gigachad_solution.cpp', 2)\n",
    "referee.do_tests()"
   ]
  },
  {
   "cell_type": "code",
   "execution_count": 75,
   "metadata": {},
   "outputs": [
    {
     "data": {
      "application/vnd.microsoft.datawrangler.viewer.v0+json": {
       "columns": [
        {
         "name": "index",
         "rawType": "int64",
         "type": "integer"
        },
        {
         "name": "brut",
         "rawType": "float64",
         "type": "float"
        },
        {
         "name": "chad",
         "rawType": "float64",
         "type": "float"
        }
       ],
       "conversionMethod": "pd.DataFrame",
       "ref": "81dd56c9-89c3-412b-828c-ca495f456237",
       "rows": [
        [
         "430",
         "0.2925746440887451",
         "0.13968443870544434"
        ],
        [
         "1068",
         "0.04711604118347168",
         "0.03252291679382324"
        ],
        [
         "1069",
         "0.2888000011444092",
         "0.030515670776367188"
        ],
        [
         "1467",
         "0.12731695175170898",
         "0.021197795867919922"
        ],
        [
         "7",
         "0.18160367012023926",
         "0.020702362060546875"
        ],
        [
         "1062",
         "0.1854228973388672",
         "0.02068018913269043"
        ],
        [
         "1064",
         "0.18454408645629883",
         "0.01995849609375"
        ],
        [
         "501",
         "0.18717622756958008",
         "0.019709110260009766"
        ],
        [
         "1071",
         "0.02541065216064453",
         "0.019647598266601562"
        ],
        [
         "16",
         "0.18328428268432617",
         "0.019478797912597656"
        ],
        [
         "11",
         "0.1832716464996338",
         "0.0194547176361084"
        ],
        [
         "1070",
         "0.1916508674621582",
         "0.019182443618774414"
        ],
        [
         "17",
         "0.03437495231628418",
         "0.019154787063598633"
        ],
        [
         "1063",
         "0.03467416763305664",
         "0.019153833389282227"
        ],
        [
         "13",
         "0.28534579277038574",
         "0.018985748291015625"
        ],
        [
         "1336",
         "0.2411947250366211",
         "0.01871633529663086"
        ],
        [
         "1061",
         "0.031477928161621094",
         "0.018677473068237305"
        ],
        [
         "12",
         "0.03368067741394043",
         "0.018536806106567383"
        ],
        [
         "1713",
         "0.2344346046447754",
         "0.018477678298950195"
        ],
        [
         "1073",
         "0.28307557106018066",
         "0.018440961837768555"
        ],
        [
         "15",
         "0.18602752685546875",
         "0.018398046493530273"
        ],
        [
         "1457",
         "0.12829899787902832",
         "0.018393278121948242"
        ],
        [
         "10",
         "0.28258347511291504",
         "0.01833820343017578"
        ],
        [
         "1452",
         "0.12833929061889648",
         "0.018286943435668945"
        ],
        [
         "1242",
         "0.2342216968536377",
         "0.018239736557006836"
        ],
        [
         "1067",
         "0.18612098693847656",
         "0.018126249313354492"
        ],
        [
         "926",
         "0.2350907325744629",
         "0.018088102340698242"
        ],
        [
         "1065",
         "0.03619503974914551",
         "0.018067359924316406"
        ],
        [
         "973",
         "0.23618650436401367",
         "0.01798272132873535"
        ],
        [
         "14",
         "0.18669748306274414",
         "0.01794743537902832"
        ],
        [
         "1074",
         "0.23294568061828613",
         "0.017873525619506836"
        ],
        [
         "869",
         "0.23806452751159668",
         "0.017829179763793945"
        ],
        [
         "1406",
         "0.12981677055358887",
         "0.0177762508392334"
        ],
        [
         "319",
         "0.12790632247924805",
         "0.017774105072021484"
        ],
        [
         "352",
         "0.23685193061828613",
         "0.01776289939880371"
        ],
        [
         "297",
         "0.23221778869628906",
         "0.017759084701538086"
        ],
        [
         "100",
         "0.23482966423034668",
         "0.017748594284057617"
        ],
        [
         "1792",
         "0.23653292655944824",
         "0.01774430274963379"
        ],
        [
         "539",
         "0.28885984420776367",
         "0.017712831497192383"
        ],
        [
         "992",
         "0.18147897720336914",
         "0.01770639419555664"
        ],
        [
         "1066",
         "0.03325510025024414",
         "0.017677783966064453"
        ],
        [
         "1072",
         "0.02532792091369629",
         "0.017670869827270508"
        ],
        [
         "21",
         "0.025554180145263672",
         "0.017635345458984375"
        ],
        [
         "975",
         "0.23346638679504395",
         "0.017523765563964844"
        ],
        [
         "8",
         "0.03573155403137207",
         "0.01751708984375"
        ],
        [
         "466",
         "0.18430304527282715",
         "0.017498493194580078"
        ],
        [
         "71",
         "0.12806963920593262",
         "0.017455101013183594"
        ],
        [
         "1216",
         "0.232346773147583",
         "0.01740741729736328"
        ],
        [
         "55",
         "0.13018178939819336",
         "0.017404556274414062"
        ],
        [
         "1547",
         "0.13631486892700195",
         "0.01736283302307129"
        ]
       ],
       "shape": {
        "columns": 2,
        "rows": 2000
       }
      },
      "text/html": [
       "<div>\n",
       "<style scoped>\n",
       "    .dataframe tbody tr th:only-of-type {\n",
       "        vertical-align: middle;\n",
       "    }\n",
       "\n",
       "    .dataframe tbody tr th {\n",
       "        vertical-align: top;\n",
       "    }\n",
       "\n",
       "    .dataframe thead th {\n",
       "        text-align: right;\n",
       "    }\n",
       "</style>\n",
       "<table border=\"1\" class=\"dataframe\">\n",
       "  <thead>\n",
       "    <tr style=\"text-align: right;\">\n",
       "      <th></th>\n",
       "      <th>brut</th>\n",
       "      <th>chad</th>\n",
       "    </tr>\n",
       "  </thead>\n",
       "  <tbody>\n",
       "    <tr>\n",
       "      <th>430</th>\n",
       "      <td>0.292575</td>\n",
       "      <td>0.139684</td>\n",
       "    </tr>\n",
       "    <tr>\n",
       "      <th>1068</th>\n",
       "      <td>0.047116</td>\n",
       "      <td>0.032523</td>\n",
       "    </tr>\n",
       "    <tr>\n",
       "      <th>1069</th>\n",
       "      <td>0.288800</td>\n",
       "      <td>0.030516</td>\n",
       "    </tr>\n",
       "    <tr>\n",
       "      <th>1467</th>\n",
       "      <td>0.127317</td>\n",
       "      <td>0.021198</td>\n",
       "    </tr>\n",
       "    <tr>\n",
       "      <th>7</th>\n",
       "      <td>0.181604</td>\n",
       "      <td>0.020702</td>\n",
       "    </tr>\n",
       "    <tr>\n",
       "      <th>...</th>\n",
       "      <td>...</td>\n",
       "      <td>...</td>\n",
       "    </tr>\n",
       "    <tr>\n",
       "      <th>1214</th>\n",
       "      <td>0.017249</td>\n",
       "      <td>0.006413</td>\n",
       "    </tr>\n",
       "    <tr>\n",
       "      <th>1318</th>\n",
       "      <td>0.018109</td>\n",
       "      <td>0.006398</td>\n",
       "    </tr>\n",
       "    <tr>\n",
       "      <th>702</th>\n",
       "      <td>0.016330</td>\n",
       "      <td>0.006385</td>\n",
       "    </tr>\n",
       "    <tr>\n",
       "      <th>1389</th>\n",
       "      <td>0.016883</td>\n",
       "      <td>0.006381</td>\n",
       "    </tr>\n",
       "    <tr>\n",
       "      <th>1323</th>\n",
       "      <td>0.016993</td>\n",
       "      <td>0.006269</td>\n",
       "    </tr>\n",
       "  </tbody>\n",
       "</table>\n",
       "<p>2000 rows × 2 columns</p>\n",
       "</div>"
      ],
      "text/plain": [
       "          brut      chad\n",
       "430   0.292575  0.139684\n",
       "1068  0.047116  0.032523\n",
       "1069  0.288800  0.030516\n",
       "1467  0.127317  0.021198\n",
       "7     0.181604  0.020702\n",
       "...        ...       ...\n",
       "1214  0.017249  0.006413\n",
       "1318  0.018109  0.006398\n",
       "702   0.016330  0.006385\n",
       "1389  0.016883  0.006381\n",
       "1323  0.016993  0.006269\n",
       "\n",
       "[2000 rows x 2 columns]"
      ]
     },
     "execution_count": 75,
     "metadata": {},
     "output_type": "execute_result"
    }
   ],
   "source": [
    "import pandas as pd\n",
    "df = pd.DataFrame(referee.times)\n",
    "df.columns = ['brut', 'chad']\n",
    "df = df.sort_values(by='chad', ascending=False)\n",
    "df"
   ]
  },
  {
   "cell_type": "code",
   "execution_count": 76,
   "metadata": {},
   "outputs": [
    {
     "data": {
      "application/vnd.microsoft.datawrangler.viewer.v0+json": {
       "columns": [
        {
         "name": "index",
         "rawType": "int64",
         "type": "integer"
        },
        {
         "name": "brut",
         "rawType": "float64",
         "type": "float"
        },
        {
         "name": "chad",
         "rawType": "float64",
         "type": "float"
        }
       ],
       "conversionMethod": "pd.DataFrame",
       "ref": "c7df7992-f1d0-4623-b066-1bfc64a2c0a3",
       "rows": [
        [
         "522",
         "0.2973747253417969",
         "0.012197494506835938"
        ],
        [
         "516",
         "0.296522855758667",
         "0.013185739517211914"
        ],
        [
         "430",
         "0.2925746440887451",
         "0.13968443870544434"
        ],
        [
         "539",
         "0.28885984420776367",
         "0.017712831497192383"
        ],
        [
         "1069",
         "0.2888000011444092",
         "0.030515670776367188"
        ],
        [
         "13",
         "0.28534579277038574",
         "0.018985748291015625"
        ],
        [
         "1073",
         "0.28307557106018066",
         "0.018440961837768555"
        ],
        [
         "10",
         "0.28258347511291504",
         "0.01833820343017578"
        ],
        [
         "517",
         "0.249373197555542",
         "0.008060932159423828"
        ],
        [
         "265",
         "0.24802327156066895",
         "0.014726400375366211"
        ],
        [
         "1611",
         "0.247955322265625",
         "0.008948564529418945"
        ],
        [
         "540",
         "0.24791669845581055",
         "0.013381481170654297"
        ],
        [
         "1176",
         "0.24645662307739258",
         "0.008368492126464844"
        ],
        [
         "1380",
         "0.24567794799804688",
         "0.011805295944213867"
        ],
        [
         "477",
         "0.24558115005493164",
         "0.009532451629638672"
        ],
        [
         "1201",
         "0.2450273036956787",
         "0.008018016815185547"
        ],
        [
         "942",
         "0.24498677253723145",
         "0.014688253402709961"
        ],
        [
         "1661",
         "0.24492406845092773",
         "0.015295028686523438"
        ],
        [
         "728",
         "0.24480700492858887",
         "0.009413957595825195"
        ],
        [
         "1571",
         "0.2444016933441162",
         "0.016365528106689453"
        ],
        [
         "1374",
         "0.24434328079223633",
         "0.010702133178710938"
        ],
        [
         "1676",
         "0.24372363090515137",
         "0.009185075759887695"
        ],
        [
         "1569",
         "0.2435905933380127",
         "0.010175943374633789"
        ],
        [
         "527",
         "0.24358868598937988",
         "0.013974428176879883"
        ],
        [
         "1078",
         "0.2434847354888916",
         "0.014345645904541016"
        ],
        [
         "1562",
         "0.24341893196105957",
         "0.007256031036376953"
        ],
        [
         "1760",
         "0.24338626861572266",
         "0.012777566909790039"
        ],
        [
         "1369",
         "0.2429196834564209",
         "0.009422779083251953"
        ],
        [
         "1055",
         "0.24288511276245117",
         "0.013038873672485352"
        ],
        [
         "861",
         "0.2428112030029297",
         "0.01695561408996582"
        ],
        [
         "1344",
         "0.24278926849365234",
         "0.01728963851928711"
        ],
        [
         "264",
         "0.2427823543548584",
         "0.015399694442749023"
        ],
        [
         "834",
         "0.2425546646118164",
         "0.009392023086547852"
        ],
        [
         "1675",
         "0.24254965782165527",
         "0.015137910842895508"
        ],
        [
         "1568",
         "0.2424466609954834",
         "0.016138076782226562"
        ],
        [
         "1625",
         "0.24243402481079102",
         "0.008748769760131836"
        ],
        [
         "717",
         "0.2424311637878418",
         "0.008153200149536133"
        ],
        [
         "1269",
         "0.24229192733764648",
         "0.015468120574951172"
        ],
        [
         "971",
         "0.24204540252685547",
         "0.016230106353759766"
        ],
        [
         "312",
         "0.24175524711608887",
         "0.010024309158325195"
        ],
        [
         "287",
         "0.24174213409423828",
         "0.014986038208007812"
        ],
        [
         "1466",
         "0.24171209335327148",
         "0.009196758270263672"
        ],
        [
         "1854",
         "0.24163293838500977",
         "0.015415668487548828"
        ],
        [
         "292",
         "0.2415452003479004",
         "0.016676664352416992"
        ],
        [
         "1377",
         "0.24144601821899414",
         "0.011091232299804688"
        ],
        [
         "506",
         "0.2413327693939209",
         "0.013702630996704102"
        ],
        [
         "912",
         "0.2413313388824463",
         "0.008322000503540039"
        ],
        [
         "727",
         "0.241288423538208",
         "0.00863504409790039"
        ],
        [
         "1845",
         "0.2412099838256836",
         "0.013585567474365234"
        ],
        [
         "1336",
         "0.2411947250366211",
         "0.01871633529663086"
        ]
       ],
       "shape": {
        "columns": 2,
        "rows": 2000
       }
      },
      "text/html": [
       "<div>\n",
       "<style scoped>\n",
       "    .dataframe tbody tr th:only-of-type {\n",
       "        vertical-align: middle;\n",
       "    }\n",
       "\n",
       "    .dataframe tbody tr th {\n",
       "        vertical-align: top;\n",
       "    }\n",
       "\n",
       "    .dataframe thead th {\n",
       "        text-align: right;\n",
       "    }\n",
       "</style>\n",
       "<table border=\"1\" class=\"dataframe\">\n",
       "  <thead>\n",
       "    <tr style=\"text-align: right;\">\n",
       "      <th></th>\n",
       "      <th>brut</th>\n",
       "      <th>chad</th>\n",
       "    </tr>\n",
       "  </thead>\n",
       "  <tbody>\n",
       "    <tr>\n",
       "      <th>522</th>\n",
       "      <td>0.297375</td>\n",
       "      <td>0.012197</td>\n",
       "    </tr>\n",
       "    <tr>\n",
       "      <th>516</th>\n",
       "      <td>0.296523</td>\n",
       "      <td>0.013186</td>\n",
       "    </tr>\n",
       "    <tr>\n",
       "      <th>430</th>\n",
       "      <td>0.292575</td>\n",
       "      <td>0.139684</td>\n",
       "    </tr>\n",
       "    <tr>\n",
       "      <th>539</th>\n",
       "      <td>0.288860</td>\n",
       "      <td>0.017713</td>\n",
       "    </tr>\n",
       "    <tr>\n",
       "      <th>1069</th>\n",
       "      <td>0.288800</td>\n",
       "      <td>0.030516</td>\n",
       "    </tr>\n",
       "    <tr>\n",
       "      <th>...</th>\n",
       "      <td>...</td>\n",
       "      <td>...</td>\n",
       "    </tr>\n",
       "    <tr>\n",
       "      <th>593</th>\n",
       "      <td>-2.135943</td>\n",
       "      <td>0.008410</td>\n",
       "    </tr>\n",
       "    <tr>\n",
       "      <th>1440</th>\n",
       "      <td>-2.215400</td>\n",
       "      <td>0.009101</td>\n",
       "    </tr>\n",
       "    <tr>\n",
       "      <th>1152</th>\n",
       "      <td>-2.290623</td>\n",
       "      <td>0.013471</td>\n",
       "    </tr>\n",
       "    <tr>\n",
       "      <th>1718</th>\n",
       "      <td>-2.305947</td>\n",
       "      <td>0.008778</td>\n",
       "    </tr>\n",
       "    <tr>\n",
       "      <th>320</th>\n",
       "      <td>-2.329402</td>\n",
       "      <td>0.010094</td>\n",
       "    </tr>\n",
       "  </tbody>\n",
       "</table>\n",
       "<p>2000 rows × 2 columns</p>\n",
       "</div>"
      ],
      "text/plain": [
       "          brut      chad\n",
       "522   0.297375  0.012197\n",
       "516   0.296523  0.013186\n",
       "430   0.292575  0.139684\n",
       "539   0.288860  0.017713\n",
       "1069  0.288800  0.030516\n",
       "...        ...       ...\n",
       "593  -2.135943  0.008410\n",
       "1440 -2.215400  0.009101\n",
       "1152 -2.290623  0.013471\n",
       "1718 -2.305947  0.008778\n",
       "320  -2.329402  0.010094\n",
       "\n",
       "[2000 rows x 2 columns]"
      ]
     },
     "execution_count": 76,
     "metadata": {},
     "output_type": "execute_result"
    }
   ],
   "source": [
    "df.mean()\n",
    "df.sort_values(by='brut', ascending=False)"
   ]
  }
 ],
 "metadata": {
  "kernelspec": {
   "display_name": "pytorch",
   "language": "python",
   "name": "python3"
  },
  "language_info": {
   "codemirror_mode": {
    "name": "ipython",
    "version": 3
   },
   "file_extension": ".py",
   "mimetype": "text/x-python",
   "name": "python",
   "nbconvert_exporter": "python",
   "pygments_lexer": "ipython3",
   "version": "3.10.14"
  }
 },
 "nbformat": 4,
 "nbformat_minor": 2
}
