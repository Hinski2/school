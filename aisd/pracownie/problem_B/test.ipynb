{
 "cells": [
  {
   "cell_type": "code",
   "execution_count": null,
   "metadata": {},
   "outputs": [],
   "source": [
    "def solve(n, k):\n",
    "    nums = []\n",
    "    for i in range(1, n + 1):\n",
    "        for j in range(1, n + 1):\n",
    "            nums.append(i * j)\n",
    "            \n",
    "    nums = sorted(nums)\n",
    "    last = -1\n",
    "    ans = []\n",
    "    while len(ans) < k:\n",
    "        num = nums.pop()\n",
    "        if num != last:\n",
    "            ans.append(num)\n",
    "        last = num\n",
    "        \n",
    "    return ans\n",
    "\n",
    "def dist(n):\n",
    "    nums = []\n",
    "    for i in range(1, n + 1):\n",
    "        for j in range(1, n + 1):\n",
    "            nums.append(i * j)\n",
    "            \n",
    "    nums = sorted(nums)\n",
    "    last = -1\n",
    "    ans = []\n",
    "    while len(nums):\n",
    "        num = nums.pop()\n",
    "        if num != last:\n",
    "            ans.append(num)\n",
    "        last = num\n",
    "        \n",
    "    return ans"
   ]
  },
  {
   "cell_type": "code",
   "execution_count": null,
   "metadata": {},
   "outputs": [
    {
     "name": "stdout",
     "output_type": "stream",
     "text": [
      "[25, 20, 16, 15, 12, 10, 9, 8, 6, 5, 4, 3, 2, 1]\n"
     ]
    }
   ],
   "source": [
    "print(solve(5, 14))\n",
    "dist(10)"
   ]
  }
 ],
 "metadata": {
  "kernelspec": {
   "display_name": "pytorch",
   "language": "python",
   "name": "python3"
  },
  "language_info": {
   "codemirror_mode": {
    "name": "ipython",
    "version": 3
   },
   "file_extension": ".py",
   "mimetype": "text/x-python",
   "name": "python",
   "nbconvert_exporter": "python",
   "pygments_lexer": "ipython3",
   "version": "3.10.14"
  }
 },
 "nbformat": 4,
 "nbformat_minor": 2
}
