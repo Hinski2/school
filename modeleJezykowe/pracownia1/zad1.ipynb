{
 "cells": [
  {
   "cell_type": "markdown",
   "metadata": {},
   "source": [
    "# zad 1 Jakub Iliński"
   ]
  },
  {
   "cell_type": "code",
   "execution_count": 2,
   "metadata": {},
   "outputs": [
    {
     "name": "stderr",
     "output_type": "stream",
     "text": [
      "/home/hinski2/miniconda3/envs/ml/lib/python3.12/site-packages/tqdm/auto.py:21: TqdmWarning: IProgress not found. Please update jupyter and ipywidgets. See https://ipywidgets.readthedocs.io/en/stable/user_install.html\n",
      "  from .autonotebook import tqdm as notebook_tqdm\n"
     ]
    },
    {
     "data": {
      "text/plain": [
       "device(type='cuda', index=0)"
      ]
     },
     "execution_count": 2,
     "metadata": {},
     "output_type": "execute_result"
    }
   ],
   "source": [
    "from transformers import AutoTokenizer, AutoModelForCausalLM\n",
    "from typing import List, Tuple\n",
    "\n",
    "PAPUGA = 'flax-community/papuGaPT2'\n",
    "DEVICE = \"cuda\"\n",
    "\n",
    "tokenizer = AutoTokenizer.from_pretrained(PAPUGA)\n",
    "model = AutoModelForCausalLM.from_pretrained(PAPUGA).to(DEVICE)\n",
    "model.device"
   ]
  },
  {
   "cell_type": "code",
   "execution_count": null,
   "metadata": {},
   "outputs": [],
   "source": [
    "class Chat:\n",
    "    def __init__(self) -> None:\n",
    "        self.chat_history: List[Tuple[str, str]] = []\n",
    "        self.persona: str = \"System: Jesteś asystenetem w sklepie z szeroka gamą produktów wspinaczkowych, twoim zadaniem jest pomóc klientowi w wyborze produktu\"\n",
    "        \n",
    "    def build_prompt(self, user_input: str) -> str:\n",
    "        history = self.chat_history[-8:]\n",
    "        conversation = [f\"System: {self.persona}\"]\n",
    "        for role, text in history:\n",
    "            conversation.append(f\"{role}: {text}\")\n",
    "        conversation.append(f\"Asystent:\")\n",
    "        return \"\\n\".join(conversation)\n",
    "        \n",
    "    def generate_candidates(self, prompt: str, num: int = 100, max_new_tokens: int = 50) -> List[str]:\n",
    "        input_ids = tokenizer(prompt, return_tensors=\"pt\").to(DEVICE)\n",
    "        \n",
    "        out = model.generate(\n",
    "            **input_ids,\n",
    "            temperature=0.1,\n",
    "            top_p=0.95,\n",
    "            repetition_penalty=1.15,\n",
    "            no_repeat_ngram_size=3,\n",
    "            max_new_tokens=max_new_tokens,\n",
    "            do_sample=True,\n",
    "            num_return_sequences=num,\n",
    "            eos_token_id=tokenizer.eos_token_id,\n",
    "            pad_token_id=tokenizer.eos_token_id,\n",
    "        )\n",
    "        \n",
    "        texts: List[str] = []\n",
    "        for seq in out:\n",
    "            full = tokenizer.decode(seq, skip_special_tokens=True)\n",
    "            new = full[len(prompt):]\n",
    "            texts.append(new.strip())\n",
    "            \n",
    "        return self.handle_text(texts)\n",
    "    \n",
    "    def handle_text(self, texts: List[str]) -> List[str]:\n",
    "        ans: List[str] = []\n",
    "        for text in texts: \n",
    "            dot_pos: int = text.rfind('.')\n",
    "            \n",
    "            if dot_pos != -1:\n",
    "                ans.append(text[:dot_pos + 1])\n",
    "            else:\n",
    "                ans.append(text + '.')\n",
    "                \n",
    "        return ans\n",
    "    \n",
    "    def select_output(self, candidates: List[str]) -> str:\n",
    "        \n",
    "        def heuristic(candidate: str) -> int:\n",
    "            score = 0\n",
    "            for char in candidate.lower():\n",
    "                if  ord('a') <= ord(char) <= ord('z') or \\\n",
    "                    ord('0') <= ord(char) <= ord('9') or \\\n",
    "                    char in [' ', ',', '.', '!', '?', 'ń', 'ż', 'ć', 'ź', 'ś', 'ó']:\n",
    "                    score += 2 \n",
    "                else:\n",
    "                    score -= 20\n",
    "                    \n",
    "            return score\n",
    "        \n",
    "        return min(candidates, key=heuristic)     \n",
    "    \n",
    "    def run(self) -> None:\n",
    "        while True:\n",
    "            user_input: str = input().strip()\n",
    "            prompt: str = self.build_prompt(user_input)\n",
    "            candidates: List[str] = self.generate_candidates(prompt)\n",
    "            output = self.select_output(candidates)\n",
    "            print(output)\n",
    "            \n",
    "            self.chat_history.append((\"Klient\", user_input))\n",
    "            self.chat_history.append((\"Asystent\", output))"
   ]
  },
  {
   "cell_type": "code",
   "execution_count": null,
   "metadata": {},
   "outputs": [
    {
     "name": "stdout",
     "output_type": "stream",
     "text": [
      "Asystentka sklepu internetowego. Osoba odpowiedzialna za obsługę klienta i sprzedaż na każdym etapie współpracy (od momentu złożenia\n",
      "osoba zajmująca się obsługą klientów sklepów internetowych oraz ich sprzedażą internetową; odpowiadająca również m/innymi do\n",
      "pracownik działu obsługi Klienta Sklepu Internetowego lub jego oddziału - odpowiedzialny także np.: przy obsłudze zamówień składanych przez Klientów\n",
      "sprzedawca-sprzedawca Sklepów Internetowych , który zajmuje sie obsługa sprzedaży internetowej . Odpowiadał też wcześniej\n"
     ]
    }
   ],
   "source": [
    "chat = Chat()\n",
    "chat.run()"
   ]
  }
 ],
 "metadata": {
  "kernelspec": {
   "display_name": "ml",
   "language": "python",
   "name": "python3"
  },
  "language_info": {
   "codemirror_mode": {
    "name": "ipython",
    "version": 3
   },
   "file_extension": ".py",
   "mimetype": "text/x-python",
   "name": "python",
   "nbconvert_exporter": "python",
   "pygments_lexer": "ipython3",
   "version": "3.12.11"
  }
 },
 "nbformat": 4,
 "nbformat_minor": 2
}
