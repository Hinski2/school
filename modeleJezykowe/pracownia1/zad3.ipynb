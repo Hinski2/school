{
 "cells": [
  {
   "cell_type": "markdown",
   "metadata": {},
   "source": [
    "# zad 3 Jakub Iliński"
   ]
  },
  {
   "cell_type": "code",
   "execution_count": null,
   "metadata": {},
   "outputs": [
    {
     "data": {
      "text/plain": [
       "device(type='cuda', index=0)"
      ]
     },
     "execution_count": 22,
     "metadata": {},
     "output_type": "execute_result"
    }
   ],
   "source": [
    "from transformers import AutoTokenizer, AutoModelForCausalLM\n",
    "from typing import List, Tuple\n",
    "import torch\n",
    "import torch.nn.functional as F \n",
    "\n",
    "PAPUGA = 'flax-community/papuGaPT2'\n",
    "DEVICE = \"cuda\"\n",
    "\n",
    "tokenizer = AutoTokenizer.from_pretrained(PAPUGA)\n",
    "model = AutoModelForCausalLM.from_pretrained(PAPUGA).to(DEVICE)\n",
    "model.device"
   ]
  },
  {
   "cell_type": "code",
   "execution_count": 23,
   "metadata": {},
   "outputs": [],
   "source": [
    "POSITIVE_SENTENCES: List[str] = [\n",
    "    \"Parking monitorowany w cenie.\",\n",
    "    \"Hotel czysty, pokoje były sprzątane bardzo dokłądnie.\",\n",
    "    \"Generalnie mogę go polecić, kierował mnie na potrzebne badania, analizował ich wyniki, cierpliwie odpowiadał na pytania.\",\n",
    "    \"Fajny klimat pofabrykanckich kamienic.\",\n",
    "    \"Sala zabaw dla dzieci, plac zabaw na zewnątrz, kominek, tenis stołowy.\",\n",
    "]\n",
    "\n",
    "NEGATIVE_SENTENCES: List[str] = [\n",
    "    \"W wielu pokojach niedziałająca klimatyzacja.\",\n",
    "    \"Jedzenie mimo rzekomych dni europejskich monotonne.\",\n",
    "    \"Drożej niż u konkurencji w podobnym standardzie.\",\n",
    "    \"Może za szybko zrezygnowałam, ale szkoda mi było wydawać pieniędzy na spotkania, które nie przynosiły efektu.\",\n",
    "    \"Omijaj to miejsce!\",\n",
    "]"
   ]
  },
  {
   "cell_type": "code",
   "execution_count": 24,
   "metadata": {},
   "outputs": [],
   "source": [
    "def log_probs_from_logits(logits, labels):\n",
    "    logp = F.log_softmax(logits, dim=-1)\n",
    "    logp_label = torch.gather(logp, 2, labels.unsqueeze(2)).squeeze(-1)\n",
    "    return logp_label\n",
    "\n",
    "def get_prob(context: str, label: str) -> float:\n",
    "    full = context + label\n",
    "    \n",
    "    input_ids_full = tokenizer(full, return_tensors='pt')['input_ids'].to(DEVICE)\n",
    "    input_ids_context = tokenizer(context, return_tensors='pt')['input_ids'].to(DEVICE)\n",
    "    \n",
    "    with torch.no_grad():\n",
    "        output = model(input_ids=input_ids_full)\n",
    "        logits, labels = output.logits[:, :-1, :], input_ids_full[:, 1:]\n",
    "        log_probs = log_probs_from_logits(logits, labels)\n",
    "        \n",
    "    context_len, full_len = input_ids_context.size(1), input_ids_full.size(1)\n",
    "    start, end = max(context_len - 1, 0), full_len - 1\n",
    "    \n",
    "    label_log_probs = log_probs[:, start:end]\n",
    "    return float(label_log_probs.mean().item())"
   ]
  },
  {
   "cell_type": "code",
   "execution_count": 25,
   "metadata": {},
   "outputs": [],
   "source": [
    "from abc import ABC, abstractmethod\n",
    "\n",
    "class Template(ABC):\n",
    "    context: str\n",
    "    positive_label: str\n",
    "    negative_label: str\n",
    "    \n",
    "    @abstractmethod\n",
    "    def __init__(self, text: str) -> None: ...\n",
    "    \n",
    "class TemplateA(Template):\n",
    "    def __init__(self, text: str) -> None:\n",
    "        self.context = f\"Opinia: {text}\\nSentyment: \"\n",
    "        self.positive_label = \"pozytywny.\"\n",
    "        self.negative_label = \"negatywny.\"\n",
    "        \n",
    "class TemplateB(Template):\n",
    "    def __init__(self, text: str) -> None:\n",
    "        self.context = f\"{text}, Czy ta opinia jest pozytywna: \"\n",
    "        self.positive_label = \"tak.\"\n",
    "        self.negative_label = \"nie.\"\n",
    "        \n",
    "class TemplateC(Template):\n",
    "    def __init__(self, text: str) -> None:\n",
    "        self.context = f\"{text}, Czy ta opinia ma sentyment: \"\n",
    "        self.positive_label = \"pozytywny.\"\n",
    "        self.negative_label = \"negatywny.\""
   ]
  },
  {
   "cell_type": "code",
   "execution_count": 26,
   "metadata": {},
   "outputs": [],
   "source": [
    "def predict_sentiment(text: str, temp: type[Template]) -> Tuple[str, float, float]:\n",
    "    t = temp(text)\n",
    "    pos_prob = get_prob(t.context, t.positive_label)\n",
    "    neg_prob = get_prob(t.context, t.negative_label)\n",
    "    sentiment = \"GOOD\" if pos_prob > neg_prob else \"BAD\"\n",
    "    return (sentiment, pos_prob, neg_prob)\n",
    "\n",
    "def evaluate(samples: List[str], temp: type[Template]) -> float:\n",
    "    hits = 0\n",
    "    for sample in samples: \n",
    "        if sample[0] == \"G\":\n",
    "            label, text = sample[:4], sample[4:] \n",
    "        else:\n",
    "            label, text = sample[:3], sample[3:]\n",
    "            \n",
    "        out, pos_prob, neg_prob = predict_sentiment(text, temp)\n",
    "        if out == label:\n",
    "            hits += 1\n",
    "    return hits / len(samples)\n",
    "\n",
    "def load_reviews() -> List[str]:\n",
    "    with open(\"reviews_for_task3.txt\", \"r\") as file:\n",
    "        return [line.rstrip(\"\\n\") for line in file if line.strip()]"
   ]
  },
  {
   "cell_type": "code",
   "execution_count": 27,
   "metadata": {},
   "outputs": [
    {
     "name": "stdout",
     "output_type": "stream",
     "text": [
      "A: 50.00% B: 50.00% C: 70.00%\n"
     ]
    }
   ],
   "source": [
    "quick_test = [f\"GOOD {s}\" for s in POSITIVE_SENTENCES] + [f\"BAD {s}\" for s in NEGATIVE_SENTENCES]\n",
    "\n",
    "acc_A = evaluate(quick_test, TemplateA)\n",
    "acc_B = evaluate(quick_test, TemplateB)\n",
    "acc_C = evaluate(quick_test, TemplateC)\n",
    "\n",
    "print(f\"A: {acc_A:.2%} B: {acc_B:.2%} C: {acc_C:.2%}\")"
   ]
  },
  {
   "cell_type": "code",
   "execution_count": 28,
   "metadata": {},
   "outputs": [
    {
     "name": "stdout",
     "output_type": "stream",
     "text": [
      "A: 56.00% B: 52.50% C: 66.25%\n"
     ]
    }
   ],
   "source": [
    "test = load_reviews()\n",
    "\n",
    "acc_A = evaluate(test, TemplateA)\n",
    "acc_B = evaluate(test, TemplateB)\n",
    "acc_C = evaluate(test, TemplateC)\n",
    "\n",
    "print(f\"A: {acc_A:.2%} B: {acc_B:.2%} C: {acc_C:.2%}\")"
   ]
  }
 ],
 "metadata": {
  "kernelspec": {
   "display_name": "ml",
   "language": "python",
   "name": "python3"
  },
  "language_info": {
   "codemirror_mode": {
    "name": "ipython",
    "version": 3
   },
   "file_extension": ".py",
   "mimetype": "text/x-python",
   "name": "python",
   "nbconvert_exporter": "python",
   "pygments_lexer": "ipython3",
   "version": "3.12.11"
  }
 },
 "nbformat": 4,
 "nbformat_minor": 2
}
