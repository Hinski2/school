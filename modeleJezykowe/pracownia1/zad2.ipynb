{
 "cells": [
  {
   "cell_type": "markdown",
   "metadata": {},
   "source": [
    "# zad 2 Jakub Ilińki"
   ]
  },
  {
   "cell_type": "code",
   "execution_count": null,
   "metadata": {},
   "outputs": [
    {
     "data": {
      "text/plain": [
       "device(type='cuda', index=0)"
      ]
     },
     "execution_count": 37,
     "metadata": {},
     "output_type": "execute_result"
    }
   ],
   "source": [
    "from transformers import AutoTokenizer, AutoModelForCausalLM\n",
    "from typing import List\n",
    "import torch\n",
    "import numpy as np\n",
    "from torch.nn import functional as F\n",
    "\n",
    "PAPUGA = 'flax-community/papuGaPT2'\n",
    "DEVICE = \"cuda\"\n",
    "\n",
    "tokenizer = AutoTokenizer.from_pretrained(PAPUGA)\n",
    "model = AutoModelForCausalLM.from_pretrained(PAPUGA).to(DEVICE)\n",
    "model.device"
   ]
  },
  {
   "cell_type": "code",
   "execution_count": 38,
   "metadata": {},
   "outputs": [],
   "source": [
    "class Sentence:\n",
    "    def __init__(self, text: str):\n",
    "        self.text = text\n",
    "        self.prob = self.sentence_prob()\n",
    "    \n",
    "    @staticmethod \n",
    "    def log_probs_from_logits(logits, labels):\n",
    "        logp = F.log_softmax(logits, dim=-1)\n",
    "        logp_label = torch.gather(logp, 2, labels.unsqueeze(2)).squeeze(-1)\n",
    "        return logp_label\n",
    "    \n",
    "    def sentence_prob(self):\n",
    "        input_ids = tokenizer(self.text, return_tensors='pt')['input_ids'].to(DEVICE)\n",
    "        \n",
    "        with torch.no_grad():\n",
    "            output = model(input_ids=input_ids)\n",
    "            log_probs = self.log_probs_from_logits(output.logits[:, :-1, :], input_ids[:, 1:])\n",
    "            seq_log_probs = torch.sum(log_probs)\n",
    "            \n",
    "        return seq_log_probs.cpu().numpy()\n",
    "        \n",
    "    def print(self) -> None:\n",
    "        text = self.text  \n",
    "        text = text.capitalize()\n",
    "        text += '.'\n",
    "        print(text)"
   ]
  },
  {
   "cell_type": "code",
   "execution_count": 39,
   "metadata": {},
   "outputs": [],
   "source": [
    "from itertools import permutations\n",
    "\n",
    "def generate_all_possible_sentences(text: str) -> List[str]: \n",
    "    words: List[str] = list(text.split())\n",
    "    return [\" \".join(p) for p in permutations(words)]\n",
    "\n",
    "def get_k_most_propable(sentences: List[Sentence], k: int) -> List[Sentence]:\n",
    "    sorted_sentences = sorted(sentences, key=lambda s: float(s.prob), reverse=True)\n",
    "    return sorted_sentences[:k]"
   ]
  },
  {
   "cell_type": "code",
   "execution_count": 40,
   "metadata": {},
   "outputs": [
    {
     "name": "stdout",
     "output_type": "stream",
     "text": [
      "\n",
      "Miała babuleńka dwa rogate koziołki.\n",
      "Miała babuleńka dwa koziołki rogate.\n",
      "Dwa rogate koziołki miała babuleńka.\n",
      "Dwa babuleńka miała koziołki rogate.\n",
      "Miała dwa koziołki rogate babuleńka.\n",
      "\n",
      "Wiewiurki zaczepiają przechodniów w parku.\n",
      "W parku wiewiurki zaczepiają przechodniów.\n",
      "Wiewiurki zaczepiają w parku przechodniów.\n",
      "Wiewiurki zaczepiają przechodniów parku w.\n",
      "Wiewiurki w parku zaczepiają przechodniów.\n"
     ]
    }
   ],
   "source": [
    "strings = [\n",
    "    \"babuleńka miała dwa rogate koziołki\",\n",
    "    \"wiewiurki w parku zaczepiają przechodniów\"\n",
    "]\n",
    "\n",
    "k = 5\n",
    "for string in strings: \n",
    "    print()\n",
    "    \n",
    "    all_sequences = [Sentence(s) for s in generate_all_possible_sentences(string)]\n",
    "    k_most_propable = get_k_most_propable(all_sequences, k)\n",
    "    for s in k_most_propable:\n",
    "        s.print()"
   ]
  }
 ],
 "metadata": {
  "kernelspec": {
   "display_name": "ml",
   "language": "python",
   "name": "python3"
  },
  "language_info": {
   "codemirror_mode": {
    "name": "ipython",
    "version": 3
   },
   "file_extension": ".py",
   "mimetype": "text/x-python",
   "name": "python",
   "nbconvert_exporter": "python",
   "pygments_lexer": "ipython3",
   "version": "3.12.11"
  }
 },
 "nbformat": 4,
 "nbformat_minor": 2
}
