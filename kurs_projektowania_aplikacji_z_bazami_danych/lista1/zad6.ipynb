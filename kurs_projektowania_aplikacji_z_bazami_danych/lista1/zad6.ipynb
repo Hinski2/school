{
    "metadata": {
        "kernelspec": {
            "name": "SQL",
            "display_name": "SQL",
            "language": "sql"
        },
        "language_info": {
            "name": "sql",
            "version": ""
        }
    },
    "nbformat_minor": 2,
    "nbformat": 4,
    "cells": [
        {
            "cell_type": "code",
            "source": [
                "-- LineTotal = OderQty * (1 - UnitPriceDiscoutn) * UnitPrice\r\n",
                "\r\n",
                "\r\n",
                "select c.FirstName, c.LastName, sum(d.UnitPrice * d.OrderQty - d.LineTotal) Savings\r\n",
                "from SalesLT.Customer c \r\n",
                "join SalesLT.SalesOrderHeader h on c.CustomerID = h.CustomerID\r\n",
                "join SalesLT.SalesOrderDetail d on h.SalesOrderID = d.SalesOrderID\r\n",
                "group by c.CustomerID, c.FirstName, c.LastName\r\n",
                "order by Savings desc"
            ],
            "metadata": {
                "azdata_cell_guid": "815a454e-72d4-4eec-aace-1eb5a452832b",
                "language": "sql",
                "tags": []
            },
            "outputs": [
                {
                    "output_type": "display_data",
                    "data": {
                        "text/html": "(32 rows affected)"
                    },
                    "metadata": {}
                },
                {
                    "output_type": "display_data",
                    "data": {
                        "text/html": "Total execution time: 00:00:00.033"
                    },
                    "metadata": {}
                },
                {
                    "output_type": "execute_result",
                    "metadata": {},
                    "execution_count": 5,
                    "data": {
                        "application/vnd.dataresource+json": {
                            "schema": {
                                "fields": [
                                    {
                                        "name": "FirstName"
                                    },
                                    {
                                        "name": "LastName"
                                    },
                                    {
                                        "name": "Savings"
                                    }
                                ]
                            },
                            "data": [
                                {
                                    "FirstName": "Kevin",
                                    "LastName": "Liu",
                                    "Savings": "2459.245214"
                                },
                                {
                                    "FirstName": "Raja",
                                    "LastName": "Venugopal",
                                    "Savings": "677.988000"
                                },
                                {
                                    "FirstName": "Jeffrey",
                                    "LastName": "Kurtz",
                                    "Savings": "632.788800"
                                },
                                {
                                    "FirstName": "Krishna",
                                    "LastName": "Sunkammurali",
                                    "Savings": "553.756776"
                                },
                                {
                                    "FirstName": "Terry",
                                    "LastName": "Eminhizer",
                                    "Savings": "472.257486"
                                },
                                {
                                    "FirstName": "Pamala",
                                    "LastName": "Kotc",
                                    "Savings": "236.550492"
                                },
                                {
                                    "FirstName": "Jon",
                                    "LastName": "Grande",
                                    "Savings": "95.414182"
                                },
                                {
                                    "FirstName": "Frank",
                                    "LastName": "Campbell",
                                    "Savings": "90.398400"
                                },
                                {
                                    "FirstName": "Donald",
                                    "LastName": "Blanton",
                                    "Savings": "45.199200"
                                },
                                {
                                    "FirstName": "Roger",
                                    "LastName": "Van Houten",
                                    "Savings": "45.199200"
                                },
                                {
                                    "FirstName": "Guy",
                                    "LastName": "Gilbert",
                                    "Savings": "1.459976"
                                },
                                {
                                    "FirstName": "Cory",
                                    "LastName": "Booth",
                                    "Savings": "1.355692"
                                },
                                {
                                    "FirstName": "Walter",
                                    "LastName": "Mays",
                                    "Savings": "1.147124"
                                },
                                {
                                    "FirstName": "Melissa",
                                    "LastName": "Marple",
                                    "Savings": "0.000000"
                                },
                                {
                                    "FirstName": "Matthew",
                                    "LastName": "Miller",
                                    "Savings": "0.000000"
                                },
                                {
                                    "FirstName": "Linda",
                                    "LastName": "Mitchell",
                                    "Savings": "0.000000"
                                },
                                {
                                    "FirstName": "Joseph",
                                    "LastName": "Mitzner",
                                    "Savings": "0.000000"
                                },
                                {
                                    "FirstName": "Vassar",
                                    "LastName": "Stern",
                                    "Savings": "0.000000"
                                },
                                {
                                    "FirstName": "Andrea",
                                    "LastName": "Thomsen",
                                    "Savings": "0.000000"
                                },
                                {
                                    "FirstName": "Michael John",
                                    "LastName": "Troyer",
                                    "Savings": "0.000000"
                                },
                                {
                                    "FirstName": "Christopher",
                                    "LastName": "Beck",
                                    "Savings": "0.000000"
                                },
                                {
                                    "FirstName": "Janeth",
                                    "LastName": "Esteves",
                                    "Savings": "0.000000"
                                },
                                {
                                    "FirstName": "Walter",
                                    "LastName": "Brian",
                                    "Savings": "0.000000"
                                },
                                {
                                    "FirstName": "Richard",
                                    "LastName": "Byham",
                                    "Savings": "0.000000"
                                },
                                {
                                    "FirstName": "Rosmarie",
                                    "LastName": "Carroll",
                                    "Savings": "0.000000"
                                },
                                {
                                    "FirstName": "Brigid",
                                    "LastName": "Cavendish",
                                    "Savings": "0.000000"
                                },
                                {
                                    "FirstName": "Pei",
                                    "LastName": "Chow",
                                    "Savings": "0.000000"
                                },
                                {
                                    "FirstName": "Anthony",
                                    "LastName": "Chor",
                                    "Savings": "0.000000"
                                },
                                {
                                    "FirstName": "Catherine",
                                    "LastName": "Abel",
                                    "Savings": "0.000000"
                                },
                                {
                                    "FirstName": "David",
                                    "LastName": "Hodgson",
                                    "Savings": "0.000000"
                                },
                                {
                                    "FirstName": "Joyce",
                                    "LastName": "Jarvis",
                                    "Savings": "0.000000"
                                },
                                {
                                    "FirstName": "Rebecca",
                                    "LastName": "Laszlo",
                                    "Savings": "0.000000"
                                }
                            ]
                        },
                        "text/html": [
                            "<table>",
                            "<tr><th>FirstName</th><th>LastName</th><th>Savings</th></tr>",
                            "<tr><td>Kevin</td><td>Liu</td><td>2459.245214</td></tr>",
                            "<tr><td>Raja</td><td>Venugopal</td><td>677.988000</td></tr>",
                            "<tr><td>Jeffrey</td><td>Kurtz</td><td>632.788800</td></tr>",
                            "<tr><td>Krishna</td><td>Sunkammurali</td><td>553.756776</td></tr>",
                            "<tr><td>Terry</td><td>Eminhizer</td><td>472.257486</td></tr>",
                            "<tr><td>Pamala</td><td>Kotc</td><td>236.550492</td></tr>",
                            "<tr><td>Jon</td><td>Grande</td><td>95.414182</td></tr>",
                            "<tr><td>Frank</td><td>Campbell</td><td>90.398400</td></tr>",
                            "<tr><td>Donald</td><td>Blanton</td><td>45.199200</td></tr>",
                            "<tr><td>Roger</td><td>Van Houten</td><td>45.199200</td></tr>",
                            "<tr><td>Guy</td><td>Gilbert</td><td>1.459976</td></tr>",
                            "<tr><td>Cory</td><td>Booth</td><td>1.355692</td></tr>",
                            "<tr><td>Walter</td><td>Mays</td><td>1.147124</td></tr>",
                            "<tr><td>Melissa</td><td>Marple</td><td>0.000000</td></tr>",
                            "<tr><td>Matthew</td><td>Miller</td><td>0.000000</td></tr>",
                            "<tr><td>Linda</td><td>Mitchell</td><td>0.000000</td></tr>",
                            "<tr><td>Joseph</td><td>Mitzner</td><td>0.000000</td></tr>",
                            "<tr><td>Vassar</td><td>Stern</td><td>0.000000</td></tr>",
                            "<tr><td>Andrea</td><td>Thomsen</td><td>0.000000</td></tr>",
                            "<tr><td>Michael John</td><td>Troyer</td><td>0.000000</td></tr>",
                            "<tr><td>Christopher</td><td>Beck</td><td>0.000000</td></tr>",
                            "<tr><td>Janeth</td><td>Esteves</td><td>0.000000</td></tr>",
                            "<tr><td>Walter</td><td>Brian</td><td>0.000000</td></tr>",
                            "<tr><td>Richard</td><td>Byham</td><td>0.000000</td></tr>",
                            "<tr><td>Rosmarie</td><td>Carroll</td><td>0.000000</td></tr>",
                            "<tr><td>Brigid</td><td>Cavendish</td><td>0.000000</td></tr>",
                            "<tr><td>Pei</td><td>Chow</td><td>0.000000</td></tr>",
                            "<tr><td>Anthony</td><td>Chor</td><td>0.000000</td></tr>",
                            "<tr><td>Catherine</td><td>Abel</td><td>0.000000</td></tr>",
                            "<tr><td>David</td><td>Hodgson</td><td>0.000000</td></tr>",
                            "<tr><td>Joyce</td><td>Jarvis</td><td>0.000000</td></tr>",
                            "<tr><td>Rebecca</td><td>Laszlo</td><td>0.000000</td></tr>",
                            "</table>"
                        ]
                    }
                }
            ],
            "execution_count": 5
        },
        {
            "cell_type": "code",
            "source": [
                "insert into t (val) \r\n",
                "values (42)"
            ],
            "metadata": {
                "language": "sql",
                "azdata_cell_guid": "c4fee61e-5abb-41f9-8922-857efca8ce71"
            },
            "outputs": [],
            "execution_count": null
        }
    ]
}