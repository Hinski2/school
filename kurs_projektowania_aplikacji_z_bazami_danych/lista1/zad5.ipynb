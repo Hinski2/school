{
    "metadata": {
        "kernelspec": {
            "name": "SQL",
            "display_name": "SQL",
            "language": "sql"
        },
        "language_info": {
            "name": "sql",
            "version": ""
        }
    },
    "nbformat_minor": 2,
    "nbformat": 4,
    "cells": [
        {
            "cell_type": "code",
            "source": [
                "select OrderQty, unitPrice, UnitPriceDiscount, LineTotal\r\n",
                "from SalesLT.SalesOrderDetail\r\n",
                "order by UnitPriceDiscount desc"
            ],
            "metadata": {
                "azdata_cell_guid": "5d3d08ce-8b4e-4bc0-a1d1-9eb052c4e8db",
                "language": "sql"
            },
            "outputs": [
                {
                    "output_type": "display_data",
                    "data": {
                        "text/html": "(542 rows affected)"
                    },
                    "metadata": {}
                },
                {
                    "output_type": "display_data",
                    "data": {
                        "text/html": "Total execution time: 00:00:00.042"
                    },
                    "metadata": {}
                },
                {
                    "output_type": "execute_result",
                    "metadata": {},
                    "execution_count": 16,
                    "data": {
                        "application/vnd.dataresource+json": {
                            "schema": {
                                "fields": [
                                    {
                                        "name": "OrderQty"
                                    },
                                    {
                                        "name": "unitPrice"
                                    },
                                    {
                                        "name": "UnitPriceDiscount"
                                    },
                                    {
                                        "name": "LineTotal"
                                    }
                                ]
                            },
                            "data": [
                                {
                                    "OrderQty": "2",
                                    "unitPrice": "112.998",
                                    "UnitPriceDiscount": "0.40",
                                    "LineTotal": "135.597600"
                                },
                                {
                                    "OrderQty": "3",
                                    "unitPrice": "112.998",
                                    "UnitPriceDiscount": "0.40",
                                    "LineTotal": "203.396400"
                                },
                                {
                                    "OrderQty": "3",
                                    "unitPrice": "112.998",
                                    "UnitPriceDiscount": "0.40",
                                    "LineTotal": "203.396400"
                                },
                                {
                                    "OrderQty": "6",
                                    "unitPrice": "112.998",
                                    "UnitPriceDiscount": "0.40",
                                    "LineTotal": "406.792800"
                                },
                                {
                                    "OrderQty": "1",
                                    "unitPrice": "112.998",
                                    "UnitPriceDiscount": "0.40",
                                    "LineTotal": "67.798800"
                                },
                                {
                                    "OrderQty": "2",
                                    "unitPrice": "112.998",
                                    "UnitPriceDiscount": "0.40",
                                    "LineTotal": "135.597600"
                                },
                                {
                                    "OrderQty": "2",
                                    "unitPrice": "112.998",
                                    "UnitPriceDiscount": "0.40",
                                    "LineTotal": "135.597600"
                                },
                                {
                                    "OrderQty": "1",
                                    "unitPrice": "112.998",
                                    "UnitPriceDiscount": "0.40",
                                    "LineTotal": "67.798800"
                                },
                                {
                                    "OrderQty": "3",
                                    "unitPrice": "112.998",
                                    "UnitPriceDiscount": "0.40",
                                    "LineTotal": "203.396400"
                                },
                                {
                                    "OrderQty": "1",
                                    "unitPrice": "112.998",
                                    "UnitPriceDiscount": "0.40",
                                    "LineTotal": "67.798800"
                                },
                                {
                                    "OrderQty": "1",
                                    "unitPrice": "112.998",
                                    "UnitPriceDiscount": "0.40",
                                    "LineTotal": "67.798800"
                                },
                                {
                                    "OrderQty": "4",
                                    "unitPrice": "112.998",
                                    "UnitPriceDiscount": "0.40",
                                    "LineTotal": "271.195200"
                                },
                                {
                                    "OrderQty": "1",
                                    "unitPrice": "112.998",
                                    "UnitPriceDiscount": "0.40",
                                    "LineTotal": "67.798800"
                                },
                                {
                                    "OrderQty": "3",
                                    "unitPrice": "112.998",
                                    "UnitPriceDiscount": "0.40",
                                    "LineTotal": "203.396400"
                                },
                                {
                                    "OrderQty": "5",
                                    "unitPrice": "112.998",
                                    "UnitPriceDiscount": "0.40",
                                    "LineTotal": "338.994000"
                                },
                                {
                                    "OrderQty": "5",
                                    "unitPrice": "112.998",
                                    "UnitPriceDiscount": "0.40",
                                    "LineTotal": "338.994000"
                                },
                                {
                                    "OrderQty": "4",
                                    "unitPrice": "112.998",
                                    "UnitPriceDiscount": "0.40",
                                    "LineTotal": "271.195200"
                                },
                                {
                                    "OrderQty": "1",
                                    "unitPrice": "112.998",
                                    "UnitPriceDiscount": "0.40",
                                    "LineTotal": "67.798800"
                                },
                                {
                                    "OrderQty": "2",
                                    "unitPrice": "112.998",
                                    "UnitPriceDiscount": "0.40",
                                    "LineTotal": "135.597600"
                                },
                                {
                                    "OrderQty": "25",
                                    "unitPrice": "850.495",
                                    "UnitPriceDiscount": "0.10",
                                    "LineTotal": "19136.137500"
                                },
                                {
                                    "OrderQty": "17",
                                    "unitPrice": "27.4945",
                                    "UnitPriceDiscount": "0.05",
                                    "LineTotal": "444.036175"
                                },
                                {
                                    "OrderQty": "15",
                                    "unitPrice": "34.925",
                                    "UnitPriceDiscount": "0.05",
                                    "LineTotal": "497.681250"
                                },
                                {
                                    "OrderQty": "15",
                                    "unitPrice": "19.2445",
                                    "UnitPriceDiscount": "0.05",
                                    "LineTotal": "274.234125"
                                },
                                {
                                    "OrderQty": "23",
                                    "unitPrice": "34.925",
                                    "UnitPriceDiscount": "0.05",
                                    "LineTotal": "763.111250"
                                },
                                {
                                    "OrderQty": "15",
                                    "unitPrice": "29.6945",
                                    "UnitPriceDiscount": "0.05",
                                    "LineTotal": "423.146625"
                                },
                                {
                                    "OrderQty": "16",
                                    "unitPrice": "29.6945",
                                    "UnitPriceDiscount": "0.05",
                                    "LineTotal": "451.356400"
                                },
                                {
                                    "OrderQty": "23",
                                    "unitPrice": "34.925",
                                    "UnitPriceDiscount": "0.05",
                                    "LineTotal": "763.111250"
                                },
                                {
                                    "OrderQty": "17",
                                    "unitPrice": "4.3725",
                                    "UnitPriceDiscount": "0.05",
                                    "LineTotal": "70.615875"
                                },
                                {
                                    "OrderQty": "11",
                                    "unitPrice": "2.8942",
                                    "UnitPriceDiscount": "0.02",
                                    "LineTotal": "31.199476"
                                },
                                {
                                    "OrderQty": "13",
                                    "unitPrice": "40.5942",
                                    "UnitPriceDiscount": "0.02",
                                    "LineTotal": "517.170108"
                                },
                                {
                                    "OrderQty": "12",
                                    "unitPrice": "20.2942",
                                    "UnitPriceDiscount": "0.02",
                                    "LineTotal": "238.659792"
                                },
                                {
                                    "OrderQty": "11",
                                    "unitPrice": "5.2142",
                                    "UnitPriceDiscount": "0.02",
                                    "LineTotal": "56.209076"
                                },
                                {
                                    "OrderQty": "11",
                                    "unitPrice": "20.2942",
                                    "UnitPriceDiscount": "0.02",
                                    "LineTotal": "218.771476"
                                },
                                {
                                    "OrderQty": "13",
                                    "unitPrice": "986.5742",
                                    "UnitPriceDiscount": "0.02",
                                    "LineTotal": "12568.955308"
                                },
                                {
                                    "OrderQty": "11",
                                    "unitPrice": "2.8942",
                                    "UnitPriceDiscount": "0.02",
                                    "LineTotal": "31.199476"
                                },
                                {
                                    "OrderQty": "11",
                                    "unitPrice": "430.563",
                                    "UnitPriceDiscount": "0.02",
                                    "LineTotal": "4641.469140"
                                },
                                {
                                    "OrderQty": "12",
                                    "unitPrice": "1382.7606",
                                    "UnitPriceDiscount": "0.02",
                                    "LineTotal": "16261.264656"
                                },
                                {
                                    "OrderQty": "12",
                                    "unitPrice": "20.2942",
                                    "UnitPriceDiscount": "0.02",
                                    "LineTotal": "238.659792"
                                },
                                {
                                    "OrderQty": "11",
                                    "unitPrice": "31.3142",
                                    "UnitPriceDiscount": "0.02",
                                    "LineTotal": "337.567076"
                                },
                                {
                                    "OrderQty": "11",
                                    "unitPrice": "5.2142",
                                    "UnitPriceDiscount": "0.02",
                                    "LineTotal": "56.209076"
                                },
                                {
                                    "OrderQty": "13",
                                    "unitPrice": "5.2142",
                                    "UnitPriceDiscount": "0.02",
                                    "LineTotal": "66.428908"
                                },
                                {
                                    "OrderQty": "14",
                                    "unitPrice": "5.2142",
                                    "UnitPriceDiscount": "0.02",
                                    "LineTotal": "71.538824"
                                },
                                {
                                    "OrderQty": "14",
                                    "unitPrice": "40.5942",
                                    "UnitPriceDiscount": "0.02",
                                    "LineTotal": "556.952424"
                                },
                                {
                                    "OrderQty": "3",
                                    "unitPrice": "24.294",
                                    "UnitPriceDiscount": "0.00",
                                    "LineTotal": "72.882000"
                                },
                                {
                                    "OrderQty": "5",
                                    "unitPrice": "54.894",
                                    "UnitPriceDiscount": "0.00",
                                    "LineTotal": "274.470000"
                                },
                                {
                                    "OrderQty": "5",
                                    "unitPrice": "149.874",
                                    "UnitPriceDiscount": "0.00",
                                    "LineTotal": "749.370000"
                                },
                                {
                                    "OrderQty": "10",
                                    "unitPrice": "1376.994",
                                    "UnitPriceDiscount": "0.00",
                                    "LineTotal": "13769.940000"
                                },
                                {
                                    "OrderQty": "5",
                                    "unitPrice": "1376.994",
                                    "UnitPriceDiscount": "0.00",
                                    "LineTotal": "6884.970000"
                                },
                                {
                                    "OrderQty": "5",
                                    "unitPrice": "818.70",
                                    "UnitPriceDiscount": "0.00",
                                    "LineTotal": "4093.500000"
                                },
                                {
                                    "OrderQty": "2",
                                    "unitPrice": "461.694",
                                    "UnitPriceDiscount": "0.00",
                                    "LineTotal": "923.388000"
                                },
                                {
                                    "OrderQty": "5",
                                    "unitPrice": "72.876",
                                    "UnitPriceDiscount": "0.00",
                                    "LineTotal": "364.380000"
                                },
                                {
                                    "OrderQty": "4",
                                    "unitPrice": "1391.994",
                                    "UnitPriceDiscount": "0.00",
                                    "LineTotal": "5567.976000"
                                },
                                {
                                    "OrderQty": "8",
                                    "unitPrice": "1376.994",
                                    "UnitPriceDiscount": "0.00",
                                    "LineTotal": "11015.952000"
                                },
                                {
                                    "OrderQty": "8",
                                    "unitPrice": "41.994",
                                    "UnitPriceDiscount": "0.00",
                                    "LineTotal": "335.952000"
                                },
                                {
                                    "OrderQty": "3",
                                    "unitPrice": "12.144",
                                    "UnitPriceDiscount": "0.00",
                                    "LineTotal": "36.432000"
                                },
                                {
                                    "OrderQty": "3",
                                    "unitPrice": "105.294",
                                    "UnitPriceDiscount": "0.00",
                                    "LineTotal": "315.882000"
                                },
                                {
                                    "OrderQty": "5",
                                    "unitPrice": "48.594",
                                    "UnitPriceDiscount": "0.00",
                                    "LineTotal": "242.970000"
                                },
                                {
                                    "OrderQty": "3",
                                    "unitPrice": "31.584",
                                    "UnitPriceDiscount": "0.00",
                                    "LineTotal": "94.752000"
                                },
                                {
                                    "OrderQty": "2",
                                    "unitPrice": "158.43",
                                    "UnitPriceDiscount": "0.00",
                                    "LineTotal": "316.860000"
                                },
                                {
                                    "OrderQty": "3",
                                    "unitPrice": "32.394",
                                    "UnitPriceDiscount": "0.00",
                                    "LineTotal": "97.182000"
                                },
                                {
                                    "OrderQty": "3",
                                    "unitPrice": "5.394",
                                    "UnitPriceDiscount": "0.00",
                                    "LineTotal": "16.182000"
                                },
                                {
                                    "OrderQty": "1",
                                    "unitPrice": "24.294",
                                    "UnitPriceDiscount": "0.00",
                                    "LineTotal": "24.294000"
                                },
                                {
                                    "OrderQty": "3",
                                    "unitPrice": "1020.594",
                                    "UnitPriceDiscount": "0.00",
                                    "LineTotal": "3061.782000"
                                },
                                {
                                    "OrderQty": "2",
                                    "unitPrice": "1020.594",
                                    "UnitPriceDiscount": "0.00",
                                    "LineTotal": "2041.188000"
                                },
                                {
                                    "OrderQty": "1",
                                    "unitPrice": "323.994",
                                    "UnitPriceDiscount": "0.00",
                                    "LineTotal": "323.994000"
                                },
                                {
                                    "OrderQty": "3",
                                    "unitPrice": "158.43",
                                    "UnitPriceDiscount": "0.00",
                                    "LineTotal": "475.290000"
                                },
                                {
                                    "OrderQty": "7",
                                    "unitPrice": "20.994",
                                    "UnitPriceDiscount": "0.00",
                                    "LineTotal": "146.958000"
                                },
                                {
                                    "OrderQty": "5",
                                    "unitPrice": "32.994",
                                    "UnitPriceDiscount": "0.00",
                                    "LineTotal": "164.970000"
                                },
                                {
                                    "OrderQty": "1",
                                    "unitPrice": "37.254",
                                    "UnitPriceDiscount": "0.00",
                                    "LineTotal": "37.254000"
                                },
                                {
                                    "OrderQty": "4",
                                    "unitPrice": "20.994",
                                    "UnitPriceDiscount": "0.00",
                                    "LineTotal": "83.976000"
                                },
                                {
                                    "OrderQty": "3",
                                    "unitPrice": "1391.994",
                                    "UnitPriceDiscount": "0.00",
                                    "LineTotal": "4175.982000"
                                },
                                {
                                    "OrderQty": "2",
                                    "unitPrice": "323.994",
                                    "UnitPriceDiscount": "0.00",
                                    "LineTotal": "647.988000"
                                },
                                {
                                    "OrderQty": "5",
                                    "unitPrice": "32.394",
                                    "UnitPriceDiscount": "0.00",
                                    "LineTotal": "161.970000"
                                },
                                {
                                    "OrderQty": "1",
                                    "unitPrice": "31.584",
                                    "UnitPriceDiscount": "0.00",
                                    "LineTotal": "31.584000"
                                },
                                {
                                    "OrderQty": "2",
                                    "unitPrice": "32.394",
                                    "UnitPriceDiscount": "0.00",
                                    "LineTotal": "64.788000"
                                },
                                {
                                    "OrderQty": "7",
                                    "unitPrice": "818.70",
                                    "UnitPriceDiscount": "0.00",
                                    "LineTotal": "5730.900000"
                                },
                                {
                                    "OrderQty": "2",
                                    "unitPrice": "37.254",
                                    "UnitPriceDiscount": "0.00",
                                    "LineTotal": "74.508000"
                                },
                                {
                                    "OrderQty": "6",
                                    "unitPrice": "23.484",
                                    "UnitPriceDiscount": "0.00",
                                    "LineTotal": "140.904000"
                                },
                                {
                                    "OrderQty": "5",
                                    "unitPrice": "1020.594",
                                    "UnitPriceDiscount": "0.00",
                                    "LineTotal": "5102.970000"
                                },
                                {
                                    "OrderQty": "3",
                                    "unitPrice": "72.00",
                                    "UnitPriceDiscount": "0.00",
                                    "LineTotal": "216.000000"
                                },
                                {
                                    "OrderQty": "2",
                                    "unitPrice": "356.898",
                                    "UnitPriceDiscount": "0.00",
                                    "LineTotal": "713.796000"
                                },
                                {
                                    "OrderQty": "3",
                                    "unitPrice": "1020.594",
                                    "UnitPriceDiscount": "0.00",
                                    "LineTotal": "3061.782000"
                                },
                                {
                                    "OrderQty": "3",
                                    "unitPrice": "20.994",
                                    "UnitPriceDiscount": "0.00",
                                    "LineTotal": "62.982000"
                                },
                                {
                                    "OrderQty": "1",
                                    "unitPrice": "72.162",
                                    "UnitPriceDiscount": "0.00",
                                    "LineTotal": "72.162000"
                                },
                                {
                                    "OrderQty": "5",
                                    "unitPrice": "24.294",
                                    "UnitPriceDiscount": "0.00",
                                    "LineTotal": "121.470000"
                                },
                                {
                                    "OrderQty": "5",
                                    "unitPrice": "32.394",
                                    "UnitPriceDiscount": "0.00",
                                    "LineTotal": "161.970000"
                                },
                                {
                                    "OrderQty": "3",
                                    "unitPrice": "20.994",
                                    "UnitPriceDiscount": "0.00",
                                    "LineTotal": "62.982000"
                                },
                                {
                                    "OrderQty": "1",
                                    "unitPrice": "5.394",
                                    "UnitPriceDiscount": "0.00",
                                    "LineTotal": "5.394000"
                                },
                                {
                                    "OrderQty": "5",
                                    "unitPrice": "48.594",
                                    "UnitPriceDiscount": "0.00",
                                    "LineTotal": "242.970000"
                                },
                                {
                                    "OrderQty": "3",
                                    "unitPrice": "1466.01",
                                    "UnitPriceDiscount": "0.00",
                                    "LineTotal": "4398.030000"
                                },
                                {
                                    "OrderQty": "5",
                                    "unitPrice": "1020.594",
                                    "UnitPriceDiscount": "0.00",
                                    "LineTotal": "5102.970000"
                                },
                                {
                                    "OrderQty": "5",
                                    "unitPrice": "672.294",
                                    "UnitPriceDiscount": "0.00",
                                    "LineTotal": "3361.470000"
                                },
                                {
                                    "OrderQty": "4",
                                    "unitPrice": "672.294",
                                    "UnitPriceDiscount": "0.00",
                                    "LineTotal": "2689.176000"
                                },
                                {
                                    "OrderQty": "4",
                                    "unitPrice": "38.10",
                                    "UnitPriceDiscount": "0.00",
                                    "LineTotal": "152.400000"
                                },
                                {
                                    "OrderQty": "2",
                                    "unitPrice": "29.994",
                                    "UnitPriceDiscount": "0.00",
                                    "LineTotal": "59.988000"
                                },
                                {
                                    "OrderQty": "4",
                                    "unitPrice": "323.994",
                                    "UnitPriceDiscount": "0.00",
                                    "LineTotal": "1295.976000"
                                },
                                {
                                    "OrderQty": "5",
                                    "unitPrice": "323.994",
                                    "UnitPriceDiscount": "0.00",
                                    "LineTotal": "1619.970000"
                                },
                                {
                                    "OrderQty": "6",
                                    "unitPrice": "4.77",
                                    "UnitPriceDiscount": "0.00",
                                    "LineTotal": "28.620000"
                                },
                                {
                                    "OrderQty": "3",
                                    "unitPrice": "1466.01",
                                    "UnitPriceDiscount": "0.00",
                                    "LineTotal": "4398.030000"
                                },
                                {
                                    "OrderQty": "5",
                                    "unitPrice": "20.994",
                                    "UnitPriceDiscount": "0.00",
                                    "LineTotal": "104.970000"
                                },
                                {
                                    "OrderQty": "5",
                                    "unitPrice": "38.10",
                                    "UnitPriceDiscount": "0.00",
                                    "LineTotal": "190.500000"
                                },
                                {
                                    "OrderQty": "3",
                                    "unitPrice": "202.332",
                                    "UnitPriceDiscount": "0.00",
                                    "LineTotal": "606.996000"
                                },
                                {
                                    "OrderQty": "3",
                                    "unitPrice": "32.394",
                                    "UnitPriceDiscount": "0.00",
                                    "LineTotal": "97.182000"
                                },
                                {
                                    "OrderQty": "3",
                                    "unitPrice": "323.994",
                                    "UnitPriceDiscount": "0.00",
                                    "LineTotal": "971.982000"
                                },
                                {
                                    "OrderQty": "8",
                                    "unitPrice": "2.994",
                                    "UnitPriceDiscount": "0.00",
                                    "LineTotal": "23.952000"
                                },
                                {
                                    "OrderQty": "6",
                                    "unitPrice": "1466.01",
                                    "UnitPriceDiscount": "0.00",
                                    "LineTotal": "8796.060000"
                                },
                                {
                                    "OrderQty": "4",
                                    "unitPrice": "5.394",
                                    "UnitPriceDiscount": "0.00",
                                    "LineTotal": "21.576000"
                                },
                                {
                                    "OrderQty": "2",
                                    "unitPrice": "14.694",
                                    "UnitPriceDiscount": "0.00",
                                    "LineTotal": "29.388000"
                                },
                                {
                                    "OrderQty": "5",
                                    "unitPrice": "1020.594",
                                    "UnitPriceDiscount": "0.00",
                                    "LineTotal": "5102.970000"
                                },
                                {
                                    "OrderQty": "3",
                                    "unitPrice": "1466.01",
                                    "UnitPriceDiscount": "0.00",
                                    "LineTotal": "4398.030000"
                                },
                                {
                                    "OrderQty": "5",
                                    "unitPrice": "672.294",
                                    "UnitPriceDiscount": "0.00",
                                    "LineTotal": "3361.470000"
                                },
                                {
                                    "OrderQty": "7",
                                    "unitPrice": "32.994",
                                    "UnitPriceDiscount": "0.00",
                                    "LineTotal": "230.958000"
                                },
                                {
                                    "OrderQty": "4",
                                    "unitPrice": "323.994",
                                    "UnitPriceDiscount": "0.00",
                                    "LineTotal": "1295.976000"
                                },
                                {
                                    "OrderQty": "5",
                                    "unitPrice": "672.294",
                                    "UnitPriceDiscount": "0.00",
                                    "LineTotal": "3361.470000"
                                },
                                {
                                    "OrderQty": "7",
                                    "unitPrice": "1466.01",
                                    "UnitPriceDiscount": "0.00",
                                    "LineTotal": "10262.070000"
                                },
                                {
                                    "OrderQty": "6",
                                    "unitPrice": "37.254",
                                    "UnitPriceDiscount": "0.00",
                                    "LineTotal": "223.524000"
                                },
                                {
                                    "OrderQty": "3",
                                    "unitPrice": "29.994",
                                    "UnitPriceDiscount": "0.00",
                                    "LineTotal": "89.982000"
                                },
                                {
                                    "OrderQty": "1",
                                    "unitPrice": "32.394",
                                    "UnitPriceDiscount": "0.00",
                                    "LineTotal": "32.394000"
                                },
                                {
                                    "OrderQty": "2",
                                    "unitPrice": "5.394",
                                    "UnitPriceDiscount": "0.00",
                                    "LineTotal": "10.788000"
                                },
                                {
                                    "OrderQty": "3",
                                    "unitPrice": "672.294",
                                    "UnitPriceDiscount": "0.00",
                                    "LineTotal": "2016.882000"
                                },
                                {
                                    "OrderQty": "1",
                                    "unitPrice": "31.584",
                                    "UnitPriceDiscount": "0.00",
                                    "LineTotal": "31.584000"
                                },
                                {
                                    "OrderQty": "7",
                                    "unitPrice": "818.70",
                                    "UnitPriceDiscount": "0.00",
                                    "LineTotal": "5730.900000"
                                },
                                {
                                    "OrderQty": "5",
                                    "unitPrice": "32.394",
                                    "UnitPriceDiscount": "0.00",
                                    "LineTotal": "161.970000"
                                },
                                {
                                    "OrderQty": "2",
                                    "unitPrice": "158.43",
                                    "UnitPriceDiscount": "0.00",
                                    "LineTotal": "316.860000"
                                },
                                {
                                    "OrderQty": "3",
                                    "unitPrice": "218.454",
                                    "UnitPriceDiscount": "0.00",
                                    "LineTotal": "655.362000"
                                },
                                {
                                    "OrderQty": "4",
                                    "unitPrice": "461.694",
                                    "UnitPriceDiscount": "0.00",
                                    "LineTotal": "1846.776000"
                                },
                                {
                                    "OrderQty": "6",
                                    "unitPrice": "38.10",
                                    "UnitPriceDiscount": "0.00",
                                    "LineTotal": "228.600000"
                                },
                                {
                                    "OrderQty": "3",
                                    "unitPrice": "356.898",
                                    "UnitPriceDiscount": "0.00",
                                    "LineTotal": "1070.694000"
                                },
                                {
                                    "OrderQty": "2",
                                    "unitPrice": "202.332",
                                    "UnitPriceDiscount": "0.00",
                                    "LineTotal": "404.664000"
                                },
                                {
                                    "OrderQty": "4",
                                    "unitPrice": "24.294",
                                    "UnitPriceDiscount": "0.00",
                                    "LineTotal": "97.176000"
                                },
                                {
                                    "OrderQty": "3",
                                    "unitPrice": "37.254",
                                    "UnitPriceDiscount": "0.00",
                                    "LineTotal": "111.762000"
                                },
                                {
                                    "OrderQty": "1",
                                    "unitPrice": "48.594",
                                    "UnitPriceDiscount": "0.00",
                                    "LineTotal": "48.594000"
                                },
                                {
                                    "OrderQty": "7",
                                    "unitPrice": "5.394",
                                    "UnitPriceDiscount": "0.00",
                                    "LineTotal": "37.758000"
                                },
                                {
                                    "OrderQty": "1",
                                    "unitPrice": "1020.594",
                                    "UnitPriceDiscount": "0.00",
                                    "LineTotal": "1020.594000"
                                },
                                {
                                    "OrderQty": "3",
                                    "unitPrice": "24.294",
                                    "UnitPriceDiscount": "0.00",
                                    "LineTotal": "72.882000"
                                },
                                {
                                    "OrderQty": "1",
                                    "unitPrice": "1020.594",
                                    "UnitPriceDiscount": "0.00",
                                    "LineTotal": "1020.594000"
                                },
                                {
                                    "OrderQty": "7",
                                    "unitPrice": "32.394",
                                    "UnitPriceDiscount": "0.00",
                                    "LineTotal": "226.758000"
                                },
                                {
                                    "OrderQty": "3",
                                    "unitPrice": "38.10",
                                    "UnitPriceDiscount": "0.00",
                                    "LineTotal": "114.300000"
                                },
                                {
                                    "OrderQty": "1",
                                    "unitPrice": "72.00",
                                    "UnitPriceDiscount": "0.00",
                                    "LineTotal": "72.000000"
                                },
                                {
                                    "OrderQty": "1",
                                    "unitPrice": "2.994",
                                    "UnitPriceDiscount": "0.00",
                                    "LineTotal": "2.994000"
                                },
                                {
                                    "OrderQty": "4",
                                    "unitPrice": "5.394",
                                    "UnitPriceDiscount": "0.00",
                                    "LineTotal": "21.576000"
                                },
                                {
                                    "OrderQty": "2",
                                    "unitPrice": "461.694",
                                    "UnitPriceDiscount": "0.00",
                                    "LineTotal": "923.388000"
                                },
                                {
                                    "OrderQty": "8",
                                    "unitPrice": "1376.994",
                                    "UnitPriceDiscount": "0.00",
                                    "LineTotal": "11015.952000"
                                },
                                {
                                    "OrderQty": "2",
                                    "unitPrice": "1376.994",
                                    "UnitPriceDiscount": "0.00",
                                    "LineTotal": "2753.988000"
                                },
                                {
                                    "OrderQty": "1",
                                    "unitPrice": "72.162",
                                    "UnitPriceDiscount": "0.00",
                                    "LineTotal": "72.162000"
                                },
                                {
                                    "OrderQty": "1",
                                    "unitPrice": "149.874",
                                    "UnitPriceDiscount": "0.00",
                                    "LineTotal": "149.874000"
                                },
                                {
                                    "OrderQty": "3",
                                    "unitPrice": "29.994",
                                    "UnitPriceDiscount": "0.00",
                                    "LineTotal": "89.982000"
                                },
                                {
                                    "OrderQty": "7",
                                    "unitPrice": "2.994",
                                    "UnitPriceDiscount": "0.00",
                                    "LineTotal": "20.958000"
                                },
                                {
                                    "OrderQty": "4",
                                    "unitPrice": "72.00",
                                    "UnitPriceDiscount": "0.00",
                                    "LineTotal": "288.000000"
                                },
                                {
                                    "OrderQty": "5",
                                    "unitPrice": "4.77",
                                    "UnitPriceDiscount": "0.00",
                                    "LineTotal": "23.850000"
                                },
                                {
                                    "OrderQty": "2",
                                    "unitPrice": "20.994",
                                    "UnitPriceDiscount": "0.00",
                                    "LineTotal": "41.988000"
                                },
                                {
                                    "OrderQty": "1",
                                    "unitPrice": "323.994",
                                    "UnitPriceDiscount": "0.00",
                                    "LineTotal": "323.994000"
                                },
                                {
                                    "OrderQty": "6",
                                    "unitPrice": "38.10",
                                    "UnitPriceDiscount": "0.00",
                                    "LineTotal": "228.600000"
                                },
                                {
                                    "OrderQty": "7",
                                    "unitPrice": "41.994",
                                    "UnitPriceDiscount": "0.00",
                                    "LineTotal": "293.958000"
                                },
                                {
                                    "OrderQty": "2",
                                    "unitPrice": "37.152",
                                    "UnitPriceDiscount": "0.00",
                                    "LineTotal": "74.304000"
                                },
                                {
                                    "OrderQty": "7",
                                    "unitPrice": "1376.994",
                                    "UnitPriceDiscount": "0.00",
                                    "LineTotal": "9638.958000"
                                },
                                {
                                    "OrderQty": "5",
                                    "unitPrice": "1391.994",
                                    "UnitPriceDiscount": "0.00",
                                    "LineTotal": "6959.970000"
                                },
                                {
                                    "OrderQty": "2",
                                    "unitPrice": "14.694",
                                    "UnitPriceDiscount": "0.00",
                                    "LineTotal": "29.388000"
                                },
                                {
                                    "OrderQty": "7",
                                    "unitPrice": "41.994",
                                    "UnitPriceDiscount": "0.00",
                                    "LineTotal": "293.958000"
                                },
                                {
                                    "OrderQty": "2",
                                    "unitPrice": "16.272",
                                    "UnitPriceDiscount": "0.00",
                                    "LineTotal": "32.544000"
                                },
                                {
                                    "OrderQty": "3",
                                    "unitPrice": "5.394",
                                    "UnitPriceDiscount": "0.00",
                                    "LineTotal": "16.182000"
                                },
                                {
                                    "OrderQty": "1",
                                    "unitPrice": "149.874",
                                    "UnitPriceDiscount": "0.00",
                                    "LineTotal": "149.874000"
                                },
                                {
                                    "OrderQty": "2",
                                    "unitPrice": "48.594",
                                    "UnitPriceDiscount": "0.00",
                                    "LineTotal": "97.188000"
                                },
                                {
                                    "OrderQty": "3",
                                    "unitPrice": "323.994",
                                    "UnitPriceDiscount": "0.00",
                                    "LineTotal": "971.982000"
                                },
                                {
                                    "OrderQty": "3",
                                    "unitPrice": "461.694",
                                    "UnitPriceDiscount": "0.00",
                                    "LineTotal": "1385.082000"
                                },
                                {
                                    "OrderQty": "3",
                                    "unitPrice": "29.994",
                                    "UnitPriceDiscount": "0.00",
                                    "LineTotal": "89.982000"
                                },
                                {
                                    "OrderQty": "4",
                                    "unitPrice": "24.294",
                                    "UnitPriceDiscount": "0.00",
                                    "LineTotal": "97.176000"
                                },
                                {
                                    "OrderQty": "1",
                                    "unitPrice": "323.994",
                                    "UnitPriceDiscount": "0.00",
                                    "LineTotal": "323.994000"
                                },
                                {
                                    "OrderQty": "1",
                                    "unitPrice": "461.694",
                                    "UnitPriceDiscount": "0.00",
                                    "LineTotal": "461.694000"
                                },
                                {
                                    "OrderQty": "1",
                                    "unitPrice": "809.76",
                                    "UnitPriceDiscount": "0.00",
                                    "LineTotal": "809.760000"
                                },
                                {
                                    "OrderQty": "1",
                                    "unitPrice": "26.724",
                                    "UnitPriceDiscount": "0.00",
                                    "LineTotal": "26.724000"
                                },
                                {
                                    "OrderQty": "2",
                                    "unitPrice": "29.994",
                                    "UnitPriceDiscount": "0.00",
                                    "LineTotal": "59.988000"
                                },
                                {
                                    "OrderQty": "2",
                                    "unitPrice": "158.43",
                                    "UnitPriceDiscount": "0.00",
                                    "LineTotal": "316.860000"
                                },
                                {
                                    "OrderQty": "1",
                                    "unitPrice": "48.594",
                                    "UnitPriceDiscount": "0.00",
                                    "LineTotal": "48.594000"
                                },
                                {
                                    "OrderQty": "5",
                                    "unitPrice": "1391.994",
                                    "UnitPriceDiscount": "0.00",
                                    "LineTotal": "6959.970000"
                                },
                                {
                                    "OrderQty": "2",
                                    "unitPrice": "461.694",
                                    "UnitPriceDiscount": "0.00",
                                    "LineTotal": "923.388000"
                                },
                                {
                                    "OrderQty": "1",
                                    "unitPrice": "218.454",
                                    "UnitPriceDiscount": "0.00",
                                    "LineTotal": "218.454000"
                                },
                                {
                                    "OrderQty": "1",
                                    "unitPrice": "1391.994",
                                    "UnitPriceDiscount": "0.00",
                                    "LineTotal": "1391.994000"
                                },
                                {
                                    "OrderQty": "1",
                                    "unitPrice": "1391.994",
                                    "UnitPriceDiscount": "0.00",
                                    "LineTotal": "1391.994000"
                                },
                                {
                                    "OrderQty": "2",
                                    "unitPrice": "158.43",
                                    "UnitPriceDiscount": "0.00",
                                    "LineTotal": "316.860000"
                                },
                                {
                                    "OrderQty": "1",
                                    "unitPrice": "26.724",
                                    "UnitPriceDiscount": "0.00",
                                    "LineTotal": "26.724000"
                                },
                                {
                                    "OrderQty": "1",
                                    "unitPrice": "37.152",
                                    "UnitPriceDiscount": "0.00",
                                    "LineTotal": "37.152000"
                                },
                                {
                                    "OrderQty": "3",
                                    "unitPrice": "24.294",
                                    "UnitPriceDiscount": "0.00",
                                    "LineTotal": "72.882000"
                                },
                                {
                                    "OrderQty": "1",
                                    "unitPrice": "149.874",
                                    "UnitPriceDiscount": "0.00",
                                    "LineTotal": "149.874000"
                                },
                                {
                                    "OrderQty": "6",
                                    "unitPrice": "158.43",
                                    "UnitPriceDiscount": "0.00",
                                    "LineTotal": "950.580000"
                                },
                                {
                                    "OrderQty": "1",
                                    "unitPrice": "158.43",
                                    "UnitPriceDiscount": "0.00",
                                    "LineTotal": "158.430000"
                                },
                                {
                                    "OrderQty": "2",
                                    "unitPrice": "461.694",
                                    "UnitPriceDiscount": "0.00",
                                    "LineTotal": "923.388000"
                                },
                                {
                                    "OrderQty": "1",
                                    "unitPrice": "445.41",
                                    "UnitPriceDiscount": "0.00",
                                    "LineTotal": "445.410000"
                                },
                                {
                                    "OrderQty": "1",
                                    "unitPrice": "54.894",
                                    "UnitPriceDiscount": "0.00",
                                    "LineTotal": "54.894000"
                                },
                                {
                                    "OrderQty": "3",
                                    "unitPrice": "445.41",
                                    "UnitPriceDiscount": "0.00",
                                    "LineTotal": "1336.230000"
                                },
                                {
                                    "OrderQty": "1",
                                    "unitPrice": "445.41",
                                    "UnitPriceDiscount": "0.00",
                                    "LineTotal": "445.410000"
                                },
                                {
                                    "OrderQty": "1",
                                    "unitPrice": "728.91",
                                    "UnitPriceDiscount": "0.00",
                                    "LineTotal": "728.910000"
                                },
                                {
                                    "OrderQty": "2",
                                    "unitPrice": "29.994",
                                    "UnitPriceDiscount": "0.00",
                                    "LineTotal": "59.988000"
                                },
                                {
                                    "OrderQty": "2",
                                    "unitPrice": "32.394",
                                    "UnitPriceDiscount": "0.00",
                                    "LineTotal": "64.788000"
                                },
                                {
                                    "OrderQty": "1",
                                    "unitPrice": "1430.442",
                                    "UnitPriceDiscount": "0.00",
                                    "LineTotal": "1430.442000"
                                },
                                {
                                    "OrderQty": "2",
                                    "unitPrice": "445.41",
                                    "UnitPriceDiscount": "0.00",
                                    "LineTotal": "890.820000"
                                },
                                {
                                    "OrderQty": "1",
                                    "unitPrice": "12.144",
                                    "UnitPriceDiscount": "0.00",
                                    "LineTotal": "12.144000"
                                },
                                {
                                    "OrderQty": "2",
                                    "unitPrice": "63.90",
                                    "UnitPriceDiscount": "0.00",
                                    "LineTotal": "127.800000"
                                },
                                {
                                    "OrderQty": "1",
                                    "unitPrice": "54.894",
                                    "UnitPriceDiscount": "0.00",
                                    "LineTotal": "54.894000"
                                },
                                {
                                    "OrderQty": "1",
                                    "unitPrice": "728.91",
                                    "UnitPriceDiscount": "0.00",
                                    "LineTotal": "728.910000"
                                },
                                {
                                    "OrderQty": "1",
                                    "unitPrice": "4.77",
                                    "UnitPriceDiscount": "0.00",
                                    "LineTotal": "4.770000"
                                },
                                {
                                    "OrderQty": "1",
                                    "unitPrice": "445.41",
                                    "UnitPriceDiscount": "0.00",
                                    "LineTotal": "445.410000"
                                },
                                {
                                    "OrderQty": "1",
                                    "unitPrice": "1430.442",
                                    "UnitPriceDiscount": "0.00",
                                    "LineTotal": "1430.442000"
                                },
                                {
                                    "OrderQty": "2",
                                    "unitPrice": "445.41",
                                    "UnitPriceDiscount": "0.00",
                                    "LineTotal": "890.820000"
                                },
                                {
                                    "OrderQty": "2",
                                    "unitPrice": "1430.442",
                                    "UnitPriceDiscount": "0.00",
                                    "LineTotal": "2860.884000"
                                },
                                {
                                    "OrderQty": "3",
                                    "unitPrice": "5.394",
                                    "UnitPriceDiscount": "0.00",
                                    "LineTotal": "16.182000"
                                },
                                {
                                    "OrderQty": "5",
                                    "unitPrice": "37.152",
                                    "UnitPriceDiscount": "0.00",
                                    "LineTotal": "185.760000"
                                },
                                {
                                    "OrderQty": "2",
                                    "unitPrice": "218.454",
                                    "UnitPriceDiscount": "0.00",
                                    "LineTotal": "436.908000"
                                },
                                {
                                    "OrderQty": "4",
                                    "unitPrice": "1391.994",
                                    "UnitPriceDiscount": "0.00",
                                    "LineTotal": "5567.976000"
                                },
                                {
                                    "OrderQty": "4",
                                    "unitPrice": "41.994",
                                    "UnitPriceDiscount": "0.00",
                                    "LineTotal": "167.976000"
                                },
                                {
                                    "OrderQty": "6",
                                    "unitPrice": "14.694",
                                    "UnitPriceDiscount": "0.00",
                                    "LineTotal": "88.164000"
                                },
                                {
                                    "OrderQty": "4",
                                    "unitPrice": "63.90",
                                    "UnitPriceDiscount": "0.00",
                                    "LineTotal": "255.600000"
                                },
                                {
                                    "OrderQty": "6",
                                    "unitPrice": "149.874",
                                    "UnitPriceDiscount": "0.00",
                                    "LineTotal": "899.244000"
                                },
                                {
                                    "OrderQty": "3",
                                    "unitPrice": "16.272",
                                    "UnitPriceDiscount": "0.00",
                                    "LineTotal": "48.816000"
                                },
                                {
                                    "OrderQty": "1",
                                    "unitPrice": "158.43",
                                    "UnitPriceDiscount": "0.00",
                                    "LineTotal": "158.430000"
                                },
                                {
                                    "OrderQty": "4",
                                    "unitPrice": "809.76",
                                    "UnitPriceDiscount": "0.00",
                                    "LineTotal": "3239.040000"
                                },
                                {
                                    "OrderQty": "5",
                                    "unitPrice": "818.70",
                                    "UnitPriceDiscount": "0.00",
                                    "LineTotal": "4093.500000"
                                },
                                {
                                    "OrderQty": "4",
                                    "unitPrice": "72.894",
                                    "UnitPriceDiscount": "0.00",
                                    "LineTotal": "291.576000"
                                },
                                {
                                    "OrderQty": "1",
                                    "unitPrice": "20.994",
                                    "UnitPriceDiscount": "0.00",
                                    "LineTotal": "20.994000"
                                },
                                {
                                    "OrderQty": "1",
                                    "unitPrice": "149.874",
                                    "UnitPriceDiscount": "0.00",
                                    "LineTotal": "149.874000"
                                },
                                {
                                    "OrderQty": "4",
                                    "unitPrice": "26.724",
                                    "UnitPriceDiscount": "0.00",
                                    "LineTotal": "106.896000"
                                },
                                {
                                    "OrderQty": "5",
                                    "unitPrice": "323.994",
                                    "UnitPriceDiscount": "0.00",
                                    "LineTotal": "1619.970000"
                                },
                                {
                                    "OrderQty": "6",
                                    "unitPrice": "242.994",
                                    "UnitPriceDiscount": "0.00",
                                    "LineTotal": "1457.964000"
                                },
                                {
                                    "OrderQty": "3",
                                    "unitPrice": "1391.994",
                                    "UnitPriceDiscount": "0.00",
                                    "LineTotal": "4175.982000"
                                },
                                {
                                    "OrderQty": "2",
                                    "unitPrice": "218.454",
                                    "UnitPriceDiscount": "0.00",
                                    "LineTotal": "436.908000"
                                },
                                {
                                    "OrderQty": "4",
                                    "unitPrice": "809.76",
                                    "UnitPriceDiscount": "0.00",
                                    "LineTotal": "3239.040000"
                                },
                                {
                                    "OrderQty": "6",
                                    "unitPrice": "202.332",
                                    "UnitPriceDiscount": "0.00",
                                    "LineTotal": "1213.992000"
                                },
                                {
                                    "OrderQty": "9",
                                    "unitPrice": "32.394",
                                    "UnitPriceDiscount": "0.00",
                                    "LineTotal": "291.546000"
                                },
                                {
                                    "OrderQty": "7",
                                    "unitPrice": "323.994",
                                    "UnitPriceDiscount": "0.00",
                                    "LineTotal": "2267.958000"
                                },
                                {
                                    "OrderQty": "5",
                                    "unitPrice": "323.994",
                                    "UnitPriceDiscount": "0.00",
                                    "LineTotal": "1619.970000"
                                },
                                {
                                    "OrderQty": "4",
                                    "unitPrice": "672.294",
                                    "UnitPriceDiscount": "0.00",
                                    "LineTotal": "2689.176000"
                                },
                                {
                                    "OrderQty": "1",
                                    "unitPrice": "672.294",
                                    "UnitPriceDiscount": "0.00",
                                    "LineTotal": "672.294000"
                                },
                                {
                                    "OrderQty": "1",
                                    "unitPrice": "672.294",
                                    "UnitPriceDiscount": "0.00",
                                    "LineTotal": "672.294000"
                                },
                                {
                                    "OrderQty": "5",
                                    "unitPrice": "1020.594",
                                    "UnitPriceDiscount": "0.00",
                                    "LineTotal": "5102.970000"
                                },
                                {
                                    "OrderQty": "6",
                                    "unitPrice": "29.994",
                                    "UnitPriceDiscount": "0.00",
                                    "LineTotal": "179.964000"
                                },
                                {
                                    "OrderQty": "8",
                                    "unitPrice": "4.77",
                                    "UnitPriceDiscount": "0.00",
                                    "LineTotal": "38.160000"
                                },
                                {
                                    "OrderQty": "1",
                                    "unitPrice": "72.162",
                                    "UnitPriceDiscount": "0.00",
                                    "LineTotal": "72.162000"
                                },
                                {
                                    "OrderQty": "6",
                                    "unitPrice": "32.394",
                                    "UnitPriceDiscount": "0.00",
                                    "LineTotal": "194.364000"
                                },
                                {
                                    "OrderQty": "6",
                                    "unitPrice": "1.374",
                                    "UnitPriceDiscount": "0.00",
                                    "LineTotal": "8.244000"
                                },
                                {
                                    "OrderQty": "10",
                                    "unitPrice": "2.994",
                                    "UnitPriceDiscount": "0.00",
                                    "LineTotal": "29.940000"
                                },
                                {
                                    "OrderQty": "1",
                                    "unitPrice": "356.898",
                                    "UnitPriceDiscount": "0.00",
                                    "LineTotal": "356.898000"
                                },
                                {
                                    "OrderQty": "1",
                                    "unitPrice": "672.294",
                                    "UnitPriceDiscount": "0.00",
                                    "LineTotal": "672.294000"
                                },
                                {
                                    "OrderQty": "2",
                                    "unitPrice": "14.694",
                                    "UnitPriceDiscount": "0.00",
                                    "LineTotal": "29.388000"
                                },
                                {
                                    "OrderQty": "9",
                                    "unitPrice": "14.694",
                                    "UnitPriceDiscount": "0.00",
                                    "LineTotal": "132.246000"
                                },
                                {
                                    "OrderQty": "2",
                                    "unitPrice": "323.994",
                                    "UnitPriceDiscount": "0.00",
                                    "LineTotal": "647.988000"
                                },
                                {
                                    "OrderQty": "3",
                                    "unitPrice": "323.994",
                                    "UnitPriceDiscount": "0.00",
                                    "LineTotal": "971.982000"
                                },
                                {
                                    "OrderQty": "1",
                                    "unitPrice": "323.994",
                                    "UnitPriceDiscount": "0.00",
                                    "LineTotal": "323.994000"
                                },
                                {
                                    "OrderQty": "2",
                                    "unitPrice": "323.994",
                                    "UnitPriceDiscount": "0.00",
                                    "LineTotal": "647.988000"
                                },
                                {
                                    "OrderQty": "1",
                                    "unitPrice": "356.898",
                                    "UnitPriceDiscount": "0.00",
                                    "LineTotal": "356.898000"
                                },
                                {
                                    "OrderQty": "1",
                                    "unitPrice": "356.898",
                                    "UnitPriceDiscount": "0.00",
                                    "LineTotal": "356.898000"
                                },
                                {
                                    "OrderQty": "1",
                                    "unitPrice": "63.90",
                                    "UnitPriceDiscount": "0.00",
                                    "LineTotal": "63.900000"
                                },
                                {
                                    "OrderQty": "4",
                                    "unitPrice": "218.454",
                                    "UnitPriceDiscount": "0.00",
                                    "LineTotal": "873.816000"
                                },
                                {
                                    "OrderQty": "2",
                                    "unitPrice": "461.694",
                                    "UnitPriceDiscount": "0.00",
                                    "LineTotal": "923.388000"
                                },
                                {
                                    "OrderQty": "2",
                                    "unitPrice": "818.70",
                                    "UnitPriceDiscount": "0.00",
                                    "LineTotal": "1637.400000"
                                },
                                {
                                    "OrderQty": "1",
                                    "unitPrice": "323.994",
                                    "UnitPriceDiscount": "0.00",
                                    "LineTotal": "323.994000"
                                },
                                {
                                    "OrderQty": "1",
                                    "unitPrice": "149.874",
                                    "UnitPriceDiscount": "0.00",
                                    "LineTotal": "149.874000"
                                },
                                {
                                    "OrderQty": "1",
                                    "unitPrice": "809.76",
                                    "UnitPriceDiscount": "0.00",
                                    "LineTotal": "809.760000"
                                },
                                {
                                    "OrderQty": "4",
                                    "unitPrice": "1376.994",
                                    "UnitPriceDiscount": "0.00",
                                    "LineTotal": "5507.976000"
                                },
                                {
                                    "OrderQty": "2",
                                    "unitPrice": "158.43",
                                    "UnitPriceDiscount": "0.00",
                                    "LineTotal": "316.860000"
                                },
                                {
                                    "OrderQty": "4",
                                    "unitPrice": "1391.994",
                                    "UnitPriceDiscount": "0.00",
                                    "LineTotal": "5567.976000"
                                },
                                {
                                    "OrderQty": "1",
                                    "unitPrice": "48.594",
                                    "UnitPriceDiscount": "0.00",
                                    "LineTotal": "48.594000"
                                },
                                {
                                    "OrderQty": "6",
                                    "unitPrice": "41.994",
                                    "UnitPriceDiscount": "0.00",
                                    "LineTotal": "251.964000"
                                },
                                {
                                    "OrderQty": "2",
                                    "unitPrice": "461.694",
                                    "UnitPriceDiscount": "0.00",
                                    "LineTotal": "923.388000"
                                },
                                {
                                    "OrderQty": "3",
                                    "unitPrice": "461.694",
                                    "UnitPriceDiscount": "0.00",
                                    "LineTotal": "1385.082000"
                                },
                                {
                                    "OrderQty": "5",
                                    "unitPrice": "1376.994",
                                    "UnitPriceDiscount": "0.00",
                                    "LineTotal": "6884.970000"
                                },
                                {
                                    "OrderQty": "3",
                                    "unitPrice": "37.152",
                                    "UnitPriceDiscount": "0.00",
                                    "LineTotal": "111.456000"
                                },
                                {
                                    "OrderQty": "1",
                                    "unitPrice": "72.162",
                                    "UnitPriceDiscount": "0.00",
                                    "LineTotal": "72.162000"
                                },
                                {
                                    "OrderQty": "2",
                                    "unitPrice": "24.294",
                                    "UnitPriceDiscount": "0.00",
                                    "LineTotal": "48.588000"
                                },
                                {
                                    "OrderQty": "1",
                                    "unitPrice": "149.874",
                                    "UnitPriceDiscount": "0.00",
                                    "LineTotal": "149.874000"
                                },
                                {
                                    "OrderQty": "7",
                                    "unitPrice": "41.994",
                                    "UnitPriceDiscount": "0.00",
                                    "LineTotal": "293.958000"
                                },
                                {
                                    "OrderQty": "1",
                                    "unitPrice": "32.994",
                                    "UnitPriceDiscount": "0.00",
                                    "LineTotal": "32.994000"
                                },
                                {
                                    "OrderQty": "3",
                                    "unitPrice": "29.994",
                                    "UnitPriceDiscount": "0.00",
                                    "LineTotal": "89.982000"
                                },
                                {
                                    "OrderQty": "3",
                                    "unitPrice": "1430.442",
                                    "UnitPriceDiscount": "0.00",
                                    "LineTotal": "4291.326000"
                                },
                                {
                                    "OrderQty": "1",
                                    "unitPrice": "1430.442",
                                    "UnitPriceDiscount": "0.00",
                                    "LineTotal": "1430.442000"
                                },
                                {
                                    "OrderQty": "10",
                                    "unitPrice": "5.394",
                                    "UnitPriceDiscount": "0.00",
                                    "LineTotal": "53.940000"
                                },
                                {
                                    "OrderQty": "10",
                                    "unitPrice": "4.77",
                                    "UnitPriceDiscount": "0.00",
                                    "LineTotal": "47.700000"
                                },
                                {
                                    "OrderQty": "4",
                                    "unitPrice": "72.894",
                                    "UnitPriceDiscount": "0.00",
                                    "LineTotal": "291.576000"
                                },
                                {
                                    "OrderQty": "6",
                                    "unitPrice": "38.10",
                                    "UnitPriceDiscount": "0.00",
                                    "LineTotal": "228.600000"
                                },
                                {
                                    "OrderQty": "3",
                                    "unitPrice": "72.00",
                                    "UnitPriceDiscount": "0.00",
                                    "LineTotal": "216.000000"
                                },
                                {
                                    "OrderQty": "4",
                                    "unitPrice": "445.41",
                                    "UnitPriceDiscount": "0.00",
                                    "LineTotal": "1781.640000"
                                },
                                {
                                    "OrderQty": "4",
                                    "unitPrice": "728.91",
                                    "UnitPriceDiscount": "0.00",
                                    "LineTotal": "2915.640000"
                                },
                                {
                                    "OrderQty": "6",
                                    "unitPrice": "2.994",
                                    "UnitPriceDiscount": "0.00",
                                    "LineTotal": "17.964000"
                                },
                                {
                                    "OrderQty": "1",
                                    "unitPrice": "445.41",
                                    "UnitPriceDiscount": "0.00",
                                    "LineTotal": "445.410000"
                                },
                                {
                                    "OrderQty": "1",
                                    "unitPrice": "1430.442",
                                    "UnitPriceDiscount": "0.00",
                                    "LineTotal": "1430.442000"
                                },
                                {
                                    "OrderQty": "1",
                                    "unitPrice": "63.90",
                                    "UnitPriceDiscount": "0.00",
                                    "LineTotal": "63.900000"
                                },
                                {
                                    "OrderQty": "1",
                                    "unitPrice": "32.394",
                                    "UnitPriceDiscount": "0.00",
                                    "LineTotal": "32.394000"
                                },
                                {
                                    "OrderQty": "1",
                                    "unitPrice": "728.91",
                                    "UnitPriceDiscount": "0.00",
                                    "LineTotal": "728.910000"
                                },
                                {
                                    "OrderQty": "2",
                                    "unitPrice": "1430.442",
                                    "UnitPriceDiscount": "0.00",
                                    "LineTotal": "2860.884000"
                                },
                                {
                                    "OrderQty": "4",
                                    "unitPrice": "32.394",
                                    "UnitPriceDiscount": "0.00",
                                    "LineTotal": "129.576000"
                                },
                                {
                                    "OrderQty": "2",
                                    "unitPrice": "602.346",
                                    "UnitPriceDiscount": "0.00",
                                    "LineTotal": "1204.692000"
                                },
                                {
                                    "OrderQty": "8",
                                    "unitPrice": "29.994",
                                    "UnitPriceDiscount": "0.00",
                                    "LineTotal": "239.952000"
                                },
                                {
                                    "OrderQty": "3",
                                    "unitPrice": "72.876",
                                    "UnitPriceDiscount": "0.00",
                                    "LineTotal": "218.628000"
                                },
                                {
                                    "OrderQty": "1",
                                    "unitPrice": "1430.442",
                                    "UnitPriceDiscount": "0.00",
                                    "LineTotal": "1430.442000"
                                },
                                {
                                    "OrderQty": "2",
                                    "unitPrice": "1430.442",
                                    "UnitPriceDiscount": "0.00",
                                    "LineTotal": "2860.884000"
                                },
                                {
                                    "OrderQty": "7",
                                    "unitPrice": "20.994",
                                    "UnitPriceDiscount": "0.00",
                                    "LineTotal": "146.958000"
                                },
                                {
                                    "OrderQty": "3",
                                    "unitPrice": "445.41",
                                    "UnitPriceDiscount": "0.00",
                                    "LineTotal": "1336.230000"
                                },
                                {
                                    "OrderQty": "2",
                                    "unitPrice": "445.41",
                                    "UnitPriceDiscount": "0.00",
                                    "LineTotal": "890.820000"
                                },
                                {
                                    "OrderQty": "2",
                                    "unitPrice": "445.41",
                                    "UnitPriceDiscount": "0.00",
                                    "LineTotal": "890.820000"
                                },
                                {
                                    "OrderQty": "1",
                                    "unitPrice": "445.41",
                                    "UnitPriceDiscount": "0.00",
                                    "LineTotal": "445.410000"
                                },
                                {
                                    "OrderQty": "1",
                                    "unitPrice": "728.91",
                                    "UnitPriceDiscount": "0.00",
                                    "LineTotal": "728.910000"
                                },
                                {
                                    "OrderQty": "2",
                                    "unitPrice": "1430.442",
                                    "UnitPriceDiscount": "0.00",
                                    "LineTotal": "2860.884000"
                                },
                                {
                                    "OrderQty": "2",
                                    "unitPrice": "242.994",
                                    "UnitPriceDiscount": "0.00",
                                    "LineTotal": "485.988000"
                                },
                                {
                                    "OrderQty": "2",
                                    "unitPrice": "54.894",
                                    "UnitPriceDiscount": "0.00",
                                    "LineTotal": "109.788000"
                                },
                                {
                                    "OrderQty": "1",
                                    "unitPrice": "31.584",
                                    "UnitPriceDiscount": "0.00",
                                    "LineTotal": "31.584000"
                                },
                                {
                                    "OrderQty": "1",
                                    "unitPrice": "200.052",
                                    "UnitPriceDiscount": "0.00",
                                    "LineTotal": "200.052000"
                                },
                                {
                                    "OrderQty": "1",
                                    "unitPrice": "602.346",
                                    "UnitPriceDiscount": "0.00",
                                    "LineTotal": "602.346000"
                                },
                                {
                                    "OrderQty": "1",
                                    "unitPrice": "602.346",
                                    "UnitPriceDiscount": "0.00",
                                    "LineTotal": "602.346000"
                                },
                                {
                                    "OrderQty": "6",
                                    "unitPrice": "32.394",
                                    "UnitPriceDiscount": "0.00",
                                    "LineTotal": "194.364000"
                                },
                                {
                                    "OrderQty": "4",
                                    "unitPrice": "32.394",
                                    "UnitPriceDiscount": "0.00",
                                    "LineTotal": "129.576000"
                                },
                                {
                                    "OrderQty": "1",
                                    "unitPrice": "14.694",
                                    "UnitPriceDiscount": "0.00",
                                    "LineTotal": "14.694000"
                                },
                                {
                                    "OrderQty": "4",
                                    "unitPrice": "38.10",
                                    "UnitPriceDiscount": "0.00",
                                    "LineTotal": "152.400000"
                                },
                                {
                                    "OrderQty": "9",
                                    "unitPrice": "32.994",
                                    "UnitPriceDiscount": "0.00",
                                    "LineTotal": "296.946000"
                                },
                                {
                                    "OrderQty": "6",
                                    "unitPrice": "20.994",
                                    "UnitPriceDiscount": "0.00",
                                    "LineTotal": "125.964000"
                                },
                                {
                                    "OrderQty": "3",
                                    "unitPrice": "20.994",
                                    "UnitPriceDiscount": "0.00",
                                    "LineTotal": "62.982000"
                                },
                                {
                                    "OrderQty": "4",
                                    "unitPrice": "202.332",
                                    "UnitPriceDiscount": "0.00",
                                    "LineTotal": "809.328000"
                                },
                                {
                                    "OrderQty": "6",
                                    "unitPrice": "37.254",
                                    "UnitPriceDiscount": "0.00",
                                    "LineTotal": "223.524000"
                                },
                                {
                                    "OrderQty": "3",
                                    "unitPrice": "1466.01",
                                    "UnitPriceDiscount": "0.00",
                                    "LineTotal": "4398.030000"
                                },
                                {
                                    "OrderQty": "4",
                                    "unitPrice": "323.994",
                                    "UnitPriceDiscount": "0.00",
                                    "LineTotal": "1295.976000"
                                },
                                {
                                    "OrderQty": "9",
                                    "unitPrice": "32.994",
                                    "UnitPriceDiscount": "0.00",
                                    "LineTotal": "296.946000"
                                },
                                {
                                    "OrderQty": "7",
                                    "unitPrice": "14.694",
                                    "UnitPriceDiscount": "0.00",
                                    "LineTotal": "102.858000"
                                },
                                {
                                    "OrderQty": "1",
                                    "unitPrice": "602.346",
                                    "UnitPriceDiscount": "0.00",
                                    "LineTotal": "602.346000"
                                },
                                {
                                    "OrderQty": "8",
                                    "unitPrice": "728.91",
                                    "UnitPriceDiscount": "0.00",
                                    "LineTotal": "5831.280000"
                                },
                                {
                                    "OrderQty": "2",
                                    "unitPrice": "728.91",
                                    "UnitPriceDiscount": "0.00",
                                    "LineTotal": "1457.820000"
                                },
                                {
                                    "OrderQty": "1",
                                    "unitPrice": "31.584",
                                    "UnitPriceDiscount": "0.00",
                                    "LineTotal": "31.584000"
                                },
                                {
                                    "OrderQty": "5",
                                    "unitPrice": "445.41",
                                    "UnitPriceDiscount": "0.00",
                                    "LineTotal": "2227.050000"
                                },
                                {
                                    "OrderQty": "3",
                                    "unitPrice": "1430.442",
                                    "UnitPriceDiscount": "0.00",
                                    "LineTotal": "4291.326000"
                                },
                                {
                                    "OrderQty": "9",
                                    "unitPrice": "1430.442",
                                    "UnitPriceDiscount": "0.00",
                                    "LineTotal": "12873.978000"
                                },
                                {
                                    "OrderQty": "2",
                                    "unitPrice": "1430.442",
                                    "UnitPriceDiscount": "0.00",
                                    "LineTotal": "2860.884000"
                                },
                                {
                                    "OrderQty": "3",
                                    "unitPrice": "445.41",
                                    "UnitPriceDiscount": "0.00",
                                    "LineTotal": "1336.230000"
                                },
                                {
                                    "OrderQty": "7",
                                    "unitPrice": "445.41",
                                    "UnitPriceDiscount": "0.00",
                                    "LineTotal": "3117.870000"
                                },
                                {
                                    "OrderQty": "2",
                                    "unitPrice": "445.41",
                                    "UnitPriceDiscount": "0.00",
                                    "LineTotal": "890.820000"
                                },
                                {
                                    "OrderQty": "1",
                                    "unitPrice": "728.91",
                                    "UnitPriceDiscount": "0.00",
                                    "LineTotal": "728.910000"
                                },
                                {
                                    "OrderQty": "3",
                                    "unitPrice": "1430.442",
                                    "UnitPriceDiscount": "0.00",
                                    "LineTotal": "4291.326000"
                                },
                                {
                                    "OrderQty": "1",
                                    "unitPrice": "1430.442",
                                    "UnitPriceDiscount": "0.00",
                                    "LineTotal": "1430.442000"
                                },
                                {
                                    "OrderQty": "1",
                                    "unitPrice": "54.942",
                                    "UnitPriceDiscount": "0.00",
                                    "LineTotal": "54.942000"
                                },
                                {
                                    "OrderQty": "1",
                                    "unitPrice": "200.052",
                                    "UnitPriceDiscount": "0.00",
                                    "LineTotal": "200.052000"
                                },
                                {
                                    "OrderQty": "1",
                                    "unitPrice": "200.052",
                                    "UnitPriceDiscount": "0.00",
                                    "LineTotal": "200.052000"
                                },
                                {
                                    "OrderQty": "6",
                                    "unitPrice": "602.346",
                                    "UnitPriceDiscount": "0.00",
                                    "LineTotal": "3614.076000"
                                },
                                {
                                    "OrderQty": "1",
                                    "unitPrice": "602.346",
                                    "UnitPriceDiscount": "0.00",
                                    "LineTotal": "602.346000"
                                },
                                {
                                    "OrderQty": "2",
                                    "unitPrice": "602.346",
                                    "UnitPriceDiscount": "0.00",
                                    "LineTotal": "1204.692000"
                                },
                                {
                                    "OrderQty": "4",
                                    "unitPrice": "20.994",
                                    "UnitPriceDiscount": "0.00",
                                    "LineTotal": "83.976000"
                                },
                                {
                                    "OrderQty": "2",
                                    "unitPrice": "858.90",
                                    "UnitPriceDiscount": "0.00",
                                    "LineTotal": "1717.800000"
                                },
                                {
                                    "OrderQty": "1",
                                    "unitPrice": "29.994",
                                    "UnitPriceDiscount": "0.00",
                                    "LineTotal": "29.994000"
                                },
                                {
                                    "OrderQty": "4",
                                    "unitPrice": "48.594",
                                    "UnitPriceDiscount": "0.00",
                                    "LineTotal": "194.376000"
                                },
                                {
                                    "OrderQty": "8",
                                    "unitPrice": "445.41",
                                    "UnitPriceDiscount": "0.00",
                                    "LineTotal": "3563.280000"
                                },
                                {
                                    "OrderQty": "3",
                                    "unitPrice": "445.41",
                                    "UnitPriceDiscount": "0.00",
                                    "LineTotal": "1336.230000"
                                },
                                {
                                    "OrderQty": "5",
                                    "unitPrice": "445.41",
                                    "UnitPriceDiscount": "0.00",
                                    "LineTotal": "2227.050000"
                                },
                                {
                                    "OrderQty": "3",
                                    "unitPrice": "728.91",
                                    "UnitPriceDiscount": "0.00",
                                    "LineTotal": "2186.730000"
                                },
                                {
                                    "OrderQty": "4",
                                    "unitPrice": "1430.442",
                                    "UnitPriceDiscount": "0.00",
                                    "LineTotal": "5721.768000"
                                },
                                {
                                    "OrderQty": "6",
                                    "unitPrice": "1430.442",
                                    "UnitPriceDiscount": "0.00",
                                    "LineTotal": "8582.652000"
                                },
                                {
                                    "OrderQty": "10",
                                    "unitPrice": "1430.442",
                                    "UnitPriceDiscount": "0.00",
                                    "LineTotal": "14304.420000"
                                },
                                {
                                    "OrderQty": "2",
                                    "unitPrice": "1430.442",
                                    "UnitPriceDiscount": "0.00",
                                    "LineTotal": "2860.884000"
                                },
                                {
                                    "OrderQty": "2",
                                    "unitPrice": "31.584",
                                    "UnitPriceDiscount": "0.00",
                                    "LineTotal": "63.168000"
                                },
                                {
                                    "OrderQty": "3",
                                    "unitPrice": "200.052",
                                    "UnitPriceDiscount": "0.00",
                                    "LineTotal": "600.156000"
                                },
                                {
                                    "OrderQty": "1",
                                    "unitPrice": "200.052",
                                    "UnitPriceDiscount": "0.00",
                                    "LineTotal": "200.052000"
                                },
                                {
                                    "OrderQty": "1",
                                    "unitPrice": "602.346",
                                    "UnitPriceDiscount": "0.00",
                                    "LineTotal": "602.346000"
                                },
                                {
                                    "OrderQty": "8",
                                    "unitPrice": "29.994",
                                    "UnitPriceDiscount": "0.00",
                                    "LineTotal": "239.952000"
                                },
                                {
                                    "OrderQty": "6",
                                    "unitPrice": "32.394",
                                    "UnitPriceDiscount": "0.00",
                                    "LineTotal": "194.364000"
                                },
                                {
                                    "OrderQty": "7",
                                    "unitPrice": "32.394",
                                    "UnitPriceDiscount": "0.00",
                                    "LineTotal": "226.758000"
                                },
                                {
                                    "OrderQty": "3",
                                    "unitPrice": "32.394",
                                    "UnitPriceDiscount": "0.00",
                                    "LineTotal": "97.182000"
                                },
                                {
                                    "OrderQty": "5",
                                    "unitPrice": "14.694",
                                    "UnitPriceDiscount": "0.00",
                                    "LineTotal": "73.470000"
                                },
                                {
                                    "OrderQty": "6",
                                    "unitPrice": "445.41",
                                    "UnitPriceDiscount": "0.00",
                                    "LineTotal": "2672.460000"
                                },
                                {
                                    "OrderQty": "6",
                                    "unitPrice": "72.00",
                                    "UnitPriceDiscount": "0.00",
                                    "LineTotal": "432.000000"
                                },
                                {
                                    "OrderQty": "2",
                                    "unitPrice": "200.052",
                                    "UnitPriceDiscount": "0.00",
                                    "LineTotal": "400.104000"
                                },
                                {
                                    "OrderQty": "6",
                                    "unitPrice": "14.694",
                                    "UnitPriceDiscount": "0.00",
                                    "LineTotal": "88.164000"
                                },
                                {
                                    "OrderQty": "4",
                                    "unitPrice": "602.346",
                                    "UnitPriceDiscount": "0.00",
                                    "LineTotal": "2409.384000"
                                },
                                {
                                    "OrderQty": "7",
                                    "unitPrice": "445.41",
                                    "UnitPriceDiscount": "0.00",
                                    "LineTotal": "3117.870000"
                                },
                                {
                                    "OrderQty": "2",
                                    "unitPrice": "200.052",
                                    "UnitPriceDiscount": "0.00",
                                    "LineTotal": "400.104000"
                                },
                                {
                                    "OrderQty": "8",
                                    "unitPrice": "38.10",
                                    "UnitPriceDiscount": "0.00",
                                    "LineTotal": "304.800000"
                                },
                                {
                                    "OrderQty": "4",
                                    "unitPrice": "728.91",
                                    "UnitPriceDiscount": "0.00",
                                    "LineTotal": "2915.640000"
                                },
                                {
                                    "OrderQty": "1",
                                    "unitPrice": "445.41",
                                    "UnitPriceDiscount": "0.00",
                                    "LineTotal": "445.410000"
                                },
                                {
                                    "OrderQty": "9",
                                    "unitPrice": "29.994",
                                    "UnitPriceDiscount": "0.00",
                                    "LineTotal": "269.946000"
                                },
                                {
                                    "OrderQty": "10",
                                    "unitPrice": "5.394",
                                    "UnitPriceDiscount": "0.00",
                                    "LineTotal": "53.940000"
                                },
                                {
                                    "OrderQty": "4",
                                    "unitPrice": "728.91",
                                    "UnitPriceDiscount": "0.00",
                                    "LineTotal": "2915.640000"
                                },
                                {
                                    "OrderQty": "8",
                                    "unitPrice": "4.77",
                                    "UnitPriceDiscount": "0.00",
                                    "LineTotal": "38.160000"
                                },
                                {
                                    "OrderQty": "5",
                                    "unitPrice": "29.994",
                                    "UnitPriceDiscount": "0.00",
                                    "LineTotal": "149.970000"
                                },
                                {
                                    "OrderQty": "4",
                                    "unitPrice": "48.594",
                                    "UnitPriceDiscount": "0.00",
                                    "LineTotal": "194.376000"
                                },
                                {
                                    "OrderQty": "3",
                                    "unitPrice": "356.898",
                                    "UnitPriceDiscount": "0.00",
                                    "LineTotal": "1070.694000"
                                },
                                {
                                    "OrderQty": "4",
                                    "unitPrice": "356.898",
                                    "UnitPriceDiscount": "0.00",
                                    "LineTotal": "1427.592000"
                                },
                                {
                                    "OrderQty": "4",
                                    "unitPrice": "858.90",
                                    "UnitPriceDiscount": "0.00",
                                    "LineTotal": "3435.600000"
                                },
                                {
                                    "OrderQty": "2",
                                    "unitPrice": "858.90",
                                    "UnitPriceDiscount": "0.00",
                                    "LineTotal": "1717.800000"
                                },
                                {
                                    "OrderQty": "4",
                                    "unitPrice": "29.994",
                                    "UnitPriceDiscount": "0.00",
                                    "LineTotal": "119.976000"
                                },
                                {
                                    "OrderQty": "1",
                                    "unitPrice": "5.394",
                                    "UnitPriceDiscount": "0.00",
                                    "LineTotal": "5.394000"
                                },
                                {
                                    "OrderQty": "10",
                                    "unitPrice": "38.10",
                                    "UnitPriceDiscount": "0.00",
                                    "LineTotal": "381.000000"
                                },
                                {
                                    "OrderQty": "2",
                                    "unitPrice": "20.994",
                                    "UnitPriceDiscount": "0.00",
                                    "LineTotal": "41.988000"
                                },
                                {
                                    "OrderQty": "8",
                                    "unitPrice": "602.346",
                                    "UnitPriceDiscount": "0.00",
                                    "LineTotal": "4818.768000"
                                },
                                {
                                    "OrderQty": "2",
                                    "unitPrice": "1430.442",
                                    "UnitPriceDiscount": "0.00",
                                    "LineTotal": "2860.884000"
                                },
                                {
                                    "OrderQty": "2",
                                    "unitPrice": "72.00",
                                    "UnitPriceDiscount": "0.00",
                                    "LineTotal": "144.000000"
                                },
                                {
                                    "OrderQty": "10",
                                    "unitPrice": "20.994",
                                    "UnitPriceDiscount": "0.00",
                                    "LineTotal": "209.940000"
                                },
                                {
                                    "OrderQty": "3",
                                    "unitPrice": "24.294",
                                    "UnitPriceDiscount": "0.00",
                                    "LineTotal": "72.882000"
                                },
                                {
                                    "OrderQty": "2",
                                    "unitPrice": "5.394",
                                    "UnitPriceDiscount": "0.00",
                                    "LineTotal": "10.788000"
                                },
                                {
                                    "OrderQty": "2",
                                    "unitPrice": "323.994",
                                    "UnitPriceDiscount": "0.00",
                                    "LineTotal": "647.988000"
                                },
                                {
                                    "OrderQty": "1",
                                    "unitPrice": "1020.594",
                                    "UnitPriceDiscount": "0.00",
                                    "LineTotal": "1020.594000"
                                },
                                {
                                    "OrderQty": "1",
                                    "unitPrice": "20.994",
                                    "UnitPriceDiscount": "0.00",
                                    "LineTotal": "20.994000"
                                },
                                {
                                    "OrderQty": "3",
                                    "unitPrice": "323.994",
                                    "UnitPriceDiscount": "0.00",
                                    "LineTotal": "971.982000"
                                },
                                {
                                    "OrderQty": "2",
                                    "unitPrice": "24.294",
                                    "UnitPriceDiscount": "0.00",
                                    "LineTotal": "48.588000"
                                },
                                {
                                    "OrderQty": "1",
                                    "unitPrice": "858.90",
                                    "UnitPriceDiscount": "0.00",
                                    "LineTotal": "858.900000"
                                },
                                {
                                    "OrderQty": "3",
                                    "unitPrice": "72.00",
                                    "UnitPriceDiscount": "0.00",
                                    "LineTotal": "216.000000"
                                },
                                {
                                    "OrderQty": "6",
                                    "unitPrice": "32.394",
                                    "UnitPriceDiscount": "0.00",
                                    "LineTotal": "194.364000"
                                },
                                {
                                    "OrderQty": "3",
                                    "unitPrice": "38.10",
                                    "UnitPriceDiscount": "0.00",
                                    "LineTotal": "114.300000"
                                },
                                {
                                    "OrderQty": "2",
                                    "unitPrice": "23.484",
                                    "UnitPriceDiscount": "0.00",
                                    "LineTotal": "46.968000"
                                },
                                {
                                    "OrderQty": "2",
                                    "unitPrice": "29.994",
                                    "UnitPriceDiscount": "0.00",
                                    "LineTotal": "59.988000"
                                },
                                {
                                    "OrderQty": "3",
                                    "unitPrice": "38.10",
                                    "UnitPriceDiscount": "0.00",
                                    "LineTotal": "114.300000"
                                },
                                {
                                    "OrderQty": "1",
                                    "unitPrice": "1430.442",
                                    "UnitPriceDiscount": "0.00",
                                    "LineTotal": "1430.442000"
                                },
                                {
                                    "OrderQty": "4",
                                    "unitPrice": "445.41",
                                    "UnitPriceDiscount": "0.00",
                                    "LineTotal": "1781.640000"
                                },
                                {
                                    "OrderQty": "3",
                                    "unitPrice": "1430.442",
                                    "UnitPriceDiscount": "0.00",
                                    "LineTotal": "4291.326000"
                                },
                                {
                                    "OrderQty": "3",
                                    "unitPrice": "32.394",
                                    "UnitPriceDiscount": "0.00",
                                    "LineTotal": "97.182000"
                                },
                                {
                                    "OrderQty": "4",
                                    "unitPrice": "5.394",
                                    "UnitPriceDiscount": "0.00",
                                    "LineTotal": "21.576000"
                                },
                                {
                                    "OrderQty": "2",
                                    "unitPrice": "1430.442",
                                    "UnitPriceDiscount": "0.00",
                                    "LineTotal": "2860.884000"
                                },
                                {
                                    "OrderQty": "1",
                                    "unitPrice": "38.10",
                                    "UnitPriceDiscount": "0.00",
                                    "LineTotal": "38.100000"
                                },
                                {
                                    "OrderQty": "1",
                                    "unitPrice": "63.90",
                                    "UnitPriceDiscount": "0.00",
                                    "LineTotal": "63.900000"
                                },
                                {
                                    "OrderQty": "3",
                                    "unitPrice": "1430.442",
                                    "UnitPriceDiscount": "0.00",
                                    "LineTotal": "4291.326000"
                                },
                                {
                                    "OrderQty": "4",
                                    "unitPrice": "445.41",
                                    "UnitPriceDiscount": "0.00",
                                    "LineTotal": "1781.640000"
                                },
                                {
                                    "OrderQty": "4",
                                    "unitPrice": "72.894",
                                    "UnitPriceDiscount": "0.00",
                                    "LineTotal": "291.576000"
                                },
                                {
                                    "OrderQty": "6",
                                    "unitPrice": "1430.442",
                                    "UnitPriceDiscount": "0.00",
                                    "LineTotal": "8582.652000"
                                },
                                {
                                    "OrderQty": "3",
                                    "unitPrice": "728.91",
                                    "UnitPriceDiscount": "0.00",
                                    "LineTotal": "2186.730000"
                                },
                                {
                                    "OrderQty": "1",
                                    "unitPrice": "1430.442",
                                    "UnitPriceDiscount": "0.00",
                                    "LineTotal": "1430.442000"
                                },
                                {
                                    "OrderQty": "3",
                                    "unitPrice": "445.41",
                                    "UnitPriceDiscount": "0.00",
                                    "LineTotal": "1336.230000"
                                },
                                {
                                    "OrderQty": "3",
                                    "unitPrice": "32.394",
                                    "UnitPriceDiscount": "0.00",
                                    "LineTotal": "97.182000"
                                },
                                {
                                    "OrderQty": "1",
                                    "unitPrice": "445.41",
                                    "UnitPriceDiscount": "0.00",
                                    "LineTotal": "445.410000"
                                },
                                {
                                    "OrderQty": "4",
                                    "unitPrice": "1430.442",
                                    "UnitPriceDiscount": "0.00",
                                    "LineTotal": "5721.768000"
                                },
                                {
                                    "OrderQty": "3",
                                    "unitPrice": "1430.442",
                                    "UnitPriceDiscount": "0.00",
                                    "LineTotal": "4291.326000"
                                },
                                {
                                    "OrderQty": "5",
                                    "unitPrice": "728.91",
                                    "UnitPriceDiscount": "0.00",
                                    "LineTotal": "3644.550000"
                                },
                                {
                                    "OrderQty": "4",
                                    "unitPrice": "105.294",
                                    "UnitPriceDiscount": "0.00",
                                    "LineTotal": "421.176000"
                                },
                                {
                                    "OrderQty": "1",
                                    "unitPrice": "445.41",
                                    "UnitPriceDiscount": "0.00",
                                    "LineTotal": "445.410000"
                                },
                                {
                                    "OrderQty": "3",
                                    "unitPrice": "54.894",
                                    "UnitPriceDiscount": "0.00",
                                    "LineTotal": "164.682000"
                                },
                                {
                                    "OrderQty": "5",
                                    "unitPrice": "728.91",
                                    "UnitPriceDiscount": "0.00",
                                    "LineTotal": "3644.550000"
                                },
                                {
                                    "OrderQty": "2",
                                    "unitPrice": "728.91",
                                    "UnitPriceDiscount": "0.00",
                                    "LineTotal": "1457.820000"
                                },
                                {
                                    "OrderQty": "1",
                                    "unitPrice": "602.346",
                                    "UnitPriceDiscount": "0.00",
                                    "LineTotal": "602.346000"
                                },
                                {
                                    "OrderQty": "1",
                                    "unitPrice": "1430.442",
                                    "UnitPriceDiscount": "0.00",
                                    "LineTotal": "1430.442000"
                                },
                                {
                                    "OrderQty": "3",
                                    "unitPrice": "445.41",
                                    "UnitPriceDiscount": "0.00",
                                    "LineTotal": "1336.230000"
                                },
                                {
                                    "OrderQty": "3",
                                    "unitPrice": "31.584",
                                    "UnitPriceDiscount": "0.00",
                                    "LineTotal": "94.752000"
                                },
                                {
                                    "OrderQty": "1",
                                    "unitPrice": "63.90",
                                    "UnitPriceDiscount": "0.00",
                                    "LineTotal": "63.900000"
                                },
                                {
                                    "OrderQty": "3",
                                    "unitPrice": "445.41",
                                    "UnitPriceDiscount": "0.00",
                                    "LineTotal": "1336.230000"
                                },
                                {
                                    "OrderQty": "3",
                                    "unitPrice": "242.994",
                                    "UnitPriceDiscount": "0.00",
                                    "LineTotal": "728.982000"
                                },
                                {
                                    "OrderQty": "3",
                                    "unitPrice": "1430.442",
                                    "UnitPriceDiscount": "0.00",
                                    "LineTotal": "4291.326000"
                                },
                                {
                                    "OrderQty": "1",
                                    "unitPrice": "12.144",
                                    "UnitPriceDiscount": "0.00",
                                    "LineTotal": "12.144000"
                                },
                                {
                                    "OrderQty": "5",
                                    "unitPrice": "445.41",
                                    "UnitPriceDiscount": "0.00",
                                    "LineTotal": "2227.050000"
                                },
                                {
                                    "OrderQty": "2",
                                    "unitPrice": "445.41",
                                    "UnitPriceDiscount": "0.00",
                                    "LineTotal": "890.820000"
                                },
                                {
                                    "OrderQty": "2",
                                    "unitPrice": "32.394",
                                    "UnitPriceDiscount": "0.00",
                                    "LineTotal": "64.788000"
                                },
                                {
                                    "OrderQty": "2",
                                    "unitPrice": "63.90",
                                    "UnitPriceDiscount": "0.00",
                                    "LineTotal": "127.800000"
                                },
                                {
                                    "OrderQty": "4",
                                    "unitPrice": "218.454",
                                    "UnitPriceDiscount": "0.00",
                                    "LineTotal": "873.816000"
                                },
                                {
                                    "OrderQty": "3",
                                    "unitPrice": "818.70",
                                    "UnitPriceDiscount": "0.00",
                                    "LineTotal": "2456.100000"
                                },
                                {
                                    "OrderQty": "2",
                                    "unitPrice": "1391.994",
                                    "UnitPriceDiscount": "0.00",
                                    "LineTotal": "2783.988000"
                                },
                                {
                                    "OrderQty": "1",
                                    "unitPrice": "54.894",
                                    "UnitPriceDiscount": "0.00",
                                    "LineTotal": "54.894000"
                                },
                                {
                                    "OrderQty": "3",
                                    "unitPrice": "105.294",
                                    "UnitPriceDiscount": "0.00",
                                    "LineTotal": "315.882000"
                                },
                                {
                                    "OrderQty": "2",
                                    "unitPrice": "48.594",
                                    "UnitPriceDiscount": "0.00",
                                    "LineTotal": "97.188000"
                                },
                                {
                                    "OrderQty": "2",
                                    "unitPrice": "41.994",
                                    "UnitPriceDiscount": "0.00",
                                    "LineTotal": "83.988000"
                                },
                                {
                                    "OrderQty": "1",
                                    "unitPrice": "818.70",
                                    "UnitPriceDiscount": "0.00",
                                    "LineTotal": "818.700000"
                                },
                                {
                                    "OrderQty": "2",
                                    "unitPrice": "218.454",
                                    "UnitPriceDiscount": "0.00",
                                    "LineTotal": "436.908000"
                                },
                                {
                                    "OrderQty": "2",
                                    "unitPrice": "1391.994",
                                    "UnitPriceDiscount": "0.00",
                                    "LineTotal": "2783.988000"
                                },
                                {
                                    "OrderQty": "3",
                                    "unitPrice": "41.994",
                                    "UnitPriceDiscount": "0.00",
                                    "LineTotal": "125.982000"
                                },
                                {
                                    "OrderQty": "5",
                                    "unitPrice": "1376.994",
                                    "UnitPriceDiscount": "0.00",
                                    "LineTotal": "6884.970000"
                                },
                                {
                                    "OrderQty": "2",
                                    "unitPrice": "1376.994",
                                    "UnitPriceDiscount": "0.00",
                                    "LineTotal": "2753.988000"
                                },
                                {
                                    "OrderQty": "1",
                                    "unitPrice": "242.994",
                                    "UnitPriceDiscount": "0.00",
                                    "LineTotal": "242.994000"
                                },
                                {
                                    "OrderQty": "3",
                                    "unitPrice": "809.76",
                                    "UnitPriceDiscount": "0.00",
                                    "LineTotal": "2429.280000"
                                },
                                {
                                    "OrderQty": "1",
                                    "unitPrice": "37.152",
                                    "UnitPriceDiscount": "0.00",
                                    "LineTotal": "37.152000"
                                },
                                {
                                    "OrderQty": "2",
                                    "unitPrice": "158.43",
                                    "UnitPriceDiscount": "0.00",
                                    "LineTotal": "316.860000"
                                },
                                {
                                    "OrderQty": "2",
                                    "unitPrice": "809.76",
                                    "UnitPriceDiscount": "0.00",
                                    "LineTotal": "1619.520000"
                                },
                                {
                                    "OrderQty": "2",
                                    "unitPrice": "29.994",
                                    "UnitPriceDiscount": "0.00",
                                    "LineTotal": "59.988000"
                                },
                                {
                                    "OrderQty": "2",
                                    "unitPrice": "158.43",
                                    "UnitPriceDiscount": "0.00",
                                    "LineTotal": "316.860000"
                                },
                                {
                                    "OrderQty": "1",
                                    "unitPrice": "26.724",
                                    "UnitPriceDiscount": "0.00",
                                    "LineTotal": "26.724000"
                                },
                                {
                                    "OrderQty": "8",
                                    "unitPrice": "23.484",
                                    "UnitPriceDiscount": "0.00",
                                    "LineTotal": "187.872000"
                                },
                                {
                                    "OrderQty": "2",
                                    "unitPrice": "149.874",
                                    "UnitPriceDiscount": "0.00",
                                    "LineTotal": "299.748000"
                                },
                                {
                                    "OrderQty": "2",
                                    "unitPrice": "1376.994",
                                    "UnitPriceDiscount": "0.00",
                                    "LineTotal": "2753.988000"
                                },
                                {
                                    "OrderQty": "2",
                                    "unitPrice": "31.584",
                                    "UnitPriceDiscount": "0.00",
                                    "LineTotal": "63.168000"
                                },
                                {
                                    "OrderQty": "3",
                                    "unitPrice": "72.894",
                                    "UnitPriceDiscount": "0.00",
                                    "LineTotal": "218.682000"
                                },
                                {
                                    "OrderQty": "3",
                                    "unitPrice": "1391.994",
                                    "UnitPriceDiscount": "0.00",
                                    "LineTotal": "4175.982000"
                                },
                                {
                                    "OrderQty": "4",
                                    "unitPrice": "149.874",
                                    "UnitPriceDiscount": "0.00",
                                    "LineTotal": "599.496000"
                                },
                                {
                                    "OrderQty": "3",
                                    "unitPrice": "12.144",
                                    "UnitPriceDiscount": "0.00",
                                    "LineTotal": "36.432000"
                                },
                                {
                                    "OrderQty": "2",
                                    "unitPrice": "37.254",
                                    "UnitPriceDiscount": "0.00",
                                    "LineTotal": "74.508000"
                                },
                                {
                                    "OrderQty": "1",
                                    "unitPrice": "818.70",
                                    "UnitPriceDiscount": "0.00",
                                    "LineTotal": "818.700000"
                                },
                                {
                                    "OrderQty": "2",
                                    "unitPrice": "356.898",
                                    "UnitPriceDiscount": "0.00",
                                    "LineTotal": "713.796000"
                                },
                                {
                                    "OrderQty": "1",
                                    "unitPrice": "202.332",
                                    "UnitPriceDiscount": "0.00",
                                    "LineTotal": "202.332000"
                                },
                                {
                                    "OrderQty": "2",
                                    "unitPrice": "356.898",
                                    "UnitPriceDiscount": "0.00",
                                    "LineTotal": "713.796000"
                                },
                                {
                                    "OrderQty": "2",
                                    "unitPrice": "5.394",
                                    "UnitPriceDiscount": "0.00",
                                    "LineTotal": "10.788000"
                                },
                                {
                                    "OrderQty": "1",
                                    "unitPrice": "728.91",
                                    "UnitPriceDiscount": "0.00",
                                    "LineTotal": "728.910000"
                                },
                                {
                                    "OrderQty": "1",
                                    "unitPrice": "1430.442",
                                    "UnitPriceDiscount": "0.00",
                                    "LineTotal": "1430.442000"
                                },
                                {
                                    "OrderQty": "2",
                                    "unitPrice": "29.994",
                                    "UnitPriceDiscount": "0.00",
                                    "LineTotal": "59.988000"
                                },
                                {
                                    "OrderQty": "4",
                                    "unitPrice": "5.394",
                                    "UnitPriceDiscount": "0.00",
                                    "LineTotal": "21.576000"
                                },
                                {
                                    "OrderQty": "3",
                                    "unitPrice": "32.394",
                                    "UnitPriceDiscount": "0.00",
                                    "LineTotal": "97.182000"
                                },
                                {
                                    "OrderQty": "1",
                                    "unitPrice": "445.41",
                                    "UnitPriceDiscount": "0.00",
                                    "LineTotal": "445.410000"
                                },
                                {
                                    "OrderQty": "1",
                                    "unitPrice": "63.90",
                                    "UnitPriceDiscount": "0.00",
                                    "LineTotal": "63.900000"
                                },
                                {
                                    "OrderQty": "2",
                                    "unitPrice": "41.994",
                                    "UnitPriceDiscount": "0.00",
                                    "LineTotal": "83.988000"
                                },
                                {
                                    "OrderQty": "1",
                                    "unitPrice": "1376.994",
                                    "UnitPriceDiscount": "0.00",
                                    "LineTotal": "1376.994000"
                                },
                                {
                                    "OrderQty": "6",
                                    "unitPrice": "41.994",
                                    "UnitPriceDiscount": "0.00",
                                    "LineTotal": "251.964000"
                                },
                                {
                                    "OrderQty": "4",
                                    "unitPrice": "158.43",
                                    "UnitPriceDiscount": "0.00",
                                    "LineTotal": "633.720000"
                                },
                                {
                                    "OrderQty": "3",
                                    "unitPrice": "461.694",
                                    "UnitPriceDiscount": "0.00",
                                    "LineTotal": "1385.082000"
                                },
                                {
                                    "OrderQty": "2",
                                    "unitPrice": "1391.994",
                                    "UnitPriceDiscount": "0.00",
                                    "LineTotal": "2783.988000"
                                },
                                {
                                    "OrderQty": "1",
                                    "unitPrice": "41.994",
                                    "UnitPriceDiscount": "0.00",
                                    "LineTotal": "41.994000"
                                },
                                {
                                    "OrderQty": "1",
                                    "unitPrice": "72.162",
                                    "UnitPriceDiscount": "0.00",
                                    "LineTotal": "72.162000"
                                },
                                {
                                    "OrderQty": "1",
                                    "unitPrice": "461.694",
                                    "UnitPriceDiscount": "0.00",
                                    "LineTotal": "461.694000"
                                },
                                {
                                    "OrderQty": "2",
                                    "unitPrice": "149.874",
                                    "UnitPriceDiscount": "0.00",
                                    "LineTotal": "299.748000"
                                },
                                {
                                    "OrderQty": "3",
                                    "unitPrice": "1376.994",
                                    "UnitPriceDiscount": "0.00",
                                    "LineTotal": "4130.982000"
                                },
                                {
                                    "OrderQty": "1",
                                    "unitPrice": "48.594",
                                    "UnitPriceDiscount": "0.00",
                                    "LineTotal": "48.594000"
                                },
                                {
                                    "OrderQty": "1",
                                    "unitPrice": "37.254",
                                    "UnitPriceDiscount": "0.00",
                                    "LineTotal": "37.254000"
                                },
                                {
                                    "OrderQty": "4",
                                    "unitPrice": "809.76",
                                    "UnitPriceDiscount": "0.00",
                                    "LineTotal": "3239.040000"
                                },
                                {
                                    "OrderQty": "5",
                                    "unitPrice": "218.454",
                                    "UnitPriceDiscount": "0.00",
                                    "LineTotal": "1092.270000"
                                },
                                {
                                    "OrderQty": "1",
                                    "unitPrice": "818.70",
                                    "UnitPriceDiscount": "0.00",
                                    "LineTotal": "818.700000"
                                },
                                {
                                    "OrderQty": "1",
                                    "unitPrice": "31.584",
                                    "UnitPriceDiscount": "0.00",
                                    "LineTotal": "31.584000"
                                },
                                {
                                    "OrderQty": "5",
                                    "unitPrice": "1376.994",
                                    "UnitPriceDiscount": "0.00",
                                    "LineTotal": "6884.970000"
                                },
                                {
                                    "OrderQty": "2",
                                    "unitPrice": "323.994",
                                    "UnitPriceDiscount": "0.00",
                                    "LineTotal": "647.988000"
                                },
                                {
                                    "OrderQty": "3",
                                    "unitPrice": "323.994",
                                    "UnitPriceDiscount": "0.00",
                                    "LineTotal": "971.982000"
                                },
                                {
                                    "OrderQty": "2",
                                    "unitPrice": "858.90",
                                    "UnitPriceDiscount": "0.00",
                                    "LineTotal": "1717.800000"
                                },
                                {
                                    "OrderQty": "4",
                                    "unitPrice": "14.694",
                                    "UnitPriceDiscount": "0.00",
                                    "LineTotal": "58.776000"
                                },
                                {
                                    "OrderQty": "4",
                                    "unitPrice": "356.898",
                                    "UnitPriceDiscount": "0.00",
                                    "LineTotal": "1427.592000"
                                },
                                {
                                    "OrderQty": "9",
                                    "unitPrice": "1020.594",
                                    "UnitPriceDiscount": "0.00",
                                    "LineTotal": "9185.346000"
                                },
                                {
                                    "OrderQty": "1",
                                    "unitPrice": "16.272",
                                    "UnitPriceDiscount": "0.00",
                                    "LineTotal": "16.272000"
                                },
                                {
                                    "OrderQty": "6",
                                    "unitPrice": "1466.01",
                                    "UnitPriceDiscount": "0.00",
                                    "LineTotal": "8796.060000"
                                },
                                {
                                    "OrderQty": "3",
                                    "unitPrice": "1020.594",
                                    "UnitPriceDiscount": "0.00",
                                    "LineTotal": "3061.782000"
                                },
                                {
                                    "OrderQty": "6",
                                    "unitPrice": "20.994",
                                    "UnitPriceDiscount": "0.00",
                                    "LineTotal": "125.964000"
                                },
                                {
                                    "OrderQty": "9",
                                    "unitPrice": "14.694",
                                    "UnitPriceDiscount": "0.00",
                                    "LineTotal": "132.246000"
                                },
                                {
                                    "OrderQty": "5",
                                    "unitPrice": "1020.594",
                                    "UnitPriceDiscount": "0.00",
                                    "LineTotal": "5102.970000"
                                },
                                {
                                    "OrderQty": "9",
                                    "unitPrice": "32.994",
                                    "UnitPriceDiscount": "0.00",
                                    "LineTotal": "296.946000"
                                },
                                {
                                    "OrderQty": "8",
                                    "unitPrice": "1.374",
                                    "UnitPriceDiscount": "0.00",
                                    "LineTotal": "10.992000"
                                },
                                {
                                    "OrderQty": "10",
                                    "unitPrice": "20.994",
                                    "UnitPriceDiscount": "0.00",
                                    "LineTotal": "209.940000"
                                },
                                {
                                    "OrderQty": "2",
                                    "unitPrice": "31.584",
                                    "UnitPriceDiscount": "0.00",
                                    "LineTotal": "63.168000"
                                },
                                {
                                    "OrderQty": "1",
                                    "unitPrice": "202.332",
                                    "UnitPriceDiscount": "0.00",
                                    "LineTotal": "202.332000"
                                },
                                {
                                    "OrderQty": "3",
                                    "unitPrice": "202.332",
                                    "UnitPriceDiscount": "0.00",
                                    "LineTotal": "606.996000"
                                },
                                {
                                    "OrderQty": "5",
                                    "unitPrice": "356.898",
                                    "UnitPriceDiscount": "0.00",
                                    "LineTotal": "1784.490000"
                                },
                                {
                                    "OrderQty": "1",
                                    "unitPrice": "858.90",
                                    "UnitPriceDiscount": "0.00",
                                    "LineTotal": "858.900000"
                                },
                                {
                                    "OrderQty": "4",
                                    "unitPrice": "29.994",
                                    "UnitPriceDiscount": "0.00",
                                    "LineTotal": "119.976000"
                                },
                                {
                                    "OrderQty": "5",
                                    "unitPrice": "29.994",
                                    "UnitPriceDiscount": "0.00",
                                    "LineTotal": "149.970000"
                                },
                                {
                                    "OrderQty": "3",
                                    "unitPrice": "5.394",
                                    "UnitPriceDiscount": "0.00",
                                    "LineTotal": "16.182000"
                                },
                                {
                                    "OrderQty": "4",
                                    "unitPrice": "14.694",
                                    "UnitPriceDiscount": "0.00",
                                    "LineTotal": "58.776000"
                                },
                                {
                                    "OrderQty": "6",
                                    "unitPrice": "5.394",
                                    "UnitPriceDiscount": "0.00",
                                    "LineTotal": "32.364000"
                                },
                                {
                                    "OrderQty": "10",
                                    "unitPrice": "32.994",
                                    "UnitPriceDiscount": "0.00",
                                    "LineTotal": "329.940000"
                                },
                                {
                                    "OrderQty": "6",
                                    "unitPrice": "1.374",
                                    "UnitPriceDiscount": "0.00",
                                    "LineTotal": "8.244000"
                                },
                                {
                                    "OrderQty": "10",
                                    "unitPrice": "72.00",
                                    "UnitPriceDiscount": "0.00",
                                    "LineTotal": "720.000000"
                                },
                                {
                                    "OrderQty": "7",
                                    "unitPrice": "323.994",
                                    "UnitPriceDiscount": "0.00",
                                    "LineTotal": "2267.958000"
                                },
                                {
                                    "OrderQty": "2",
                                    "unitPrice": "672.294",
                                    "UnitPriceDiscount": "0.00",
                                    "LineTotal": "1344.588000"
                                },
                                {
                                    "OrderQty": "2",
                                    "unitPrice": "72.162",
                                    "UnitPriceDiscount": "0.00",
                                    "LineTotal": "144.324000"
                                },
                                {
                                    "OrderQty": "4",
                                    "unitPrice": "37.254",
                                    "UnitPriceDiscount": "0.00",
                                    "LineTotal": "149.016000"
                                },
                                {
                                    "OrderQty": "2",
                                    "unitPrice": "672.294",
                                    "UnitPriceDiscount": "0.00",
                                    "LineTotal": "1344.588000"
                                },
                                {
                                    "OrderQty": "6",
                                    "unitPrice": "323.994",
                                    "UnitPriceDiscount": "0.00",
                                    "LineTotal": "1943.964000"
                                },
                                {
                                    "OrderQty": "4",
                                    "unitPrice": "323.994",
                                    "UnitPriceDiscount": "0.00",
                                    "LineTotal": "1295.976000"
                                },
                                {
                                    "OrderQty": "3",
                                    "unitPrice": "24.294",
                                    "UnitPriceDiscount": "0.00",
                                    "LineTotal": "72.882000"
                                },
                                {
                                    "OrderQty": "5",
                                    "unitPrice": "1466.01",
                                    "UnitPriceDiscount": "0.00",
                                    "LineTotal": "7330.050000"
                                },
                                {
                                    "OrderQty": "2",
                                    "unitPrice": "1466.01",
                                    "UnitPriceDiscount": "0.00",
                                    "LineTotal": "2932.020000"
                                },
                                {
                                    "OrderQty": "10",
                                    "unitPrice": "672.294",
                                    "UnitPriceDiscount": "0.00",
                                    "LineTotal": "6722.940000"
                                },
                                {
                                    "OrderQty": "8",
                                    "unitPrice": "32.394",
                                    "UnitPriceDiscount": "0.00",
                                    "LineTotal": "259.152000"
                                },
                                {
                                    "OrderQty": "1",
                                    "unitPrice": "38.10",
                                    "UnitPriceDiscount": "0.00",
                                    "LineTotal": "38.100000"
                                }
                            ]
                        },
                        "text/html": [
                            "<table>",
                            "<tr><th>OrderQty</th><th>unitPrice</th><th>UnitPriceDiscount</th><th>LineTotal</th></tr>",
                            "<tr><td>2</td><td>112.998</td><td>0.40</td><td>135.597600</td></tr>",
                            "<tr><td>3</td><td>112.998</td><td>0.40</td><td>203.396400</td></tr>",
                            "<tr><td>3</td><td>112.998</td><td>0.40</td><td>203.396400</td></tr>",
                            "<tr><td>6</td><td>112.998</td><td>0.40</td><td>406.792800</td></tr>",
                            "<tr><td>1</td><td>112.998</td><td>0.40</td><td>67.798800</td></tr>",
                            "<tr><td>2</td><td>112.998</td><td>0.40</td><td>135.597600</td></tr>",
                            "<tr><td>2</td><td>112.998</td><td>0.40</td><td>135.597600</td></tr>",
                            "<tr><td>1</td><td>112.998</td><td>0.40</td><td>67.798800</td></tr>",
                            "<tr><td>3</td><td>112.998</td><td>0.40</td><td>203.396400</td></tr>",
                            "<tr><td>1</td><td>112.998</td><td>0.40</td><td>67.798800</td></tr>",
                            "<tr><td>1</td><td>112.998</td><td>0.40</td><td>67.798800</td></tr>",
                            "<tr><td>4</td><td>112.998</td><td>0.40</td><td>271.195200</td></tr>",
                            "<tr><td>1</td><td>112.998</td><td>0.40</td><td>67.798800</td></tr>",
                            "<tr><td>3</td><td>112.998</td><td>0.40</td><td>203.396400</td></tr>",
                            "<tr><td>5</td><td>112.998</td><td>0.40</td><td>338.994000</td></tr>",
                            "<tr><td>5</td><td>112.998</td><td>0.40</td><td>338.994000</td></tr>",
                            "<tr><td>4</td><td>112.998</td><td>0.40</td><td>271.195200</td></tr>",
                            "<tr><td>1</td><td>112.998</td><td>0.40</td><td>67.798800</td></tr>",
                            "<tr><td>2</td><td>112.998</td><td>0.40</td><td>135.597600</td></tr>",
                            "<tr><td>25</td><td>850.495</td><td>0.10</td><td>19136.137500</td></tr>",
                            "<tr><td>17</td><td>27.4945</td><td>0.05</td><td>444.036175</td></tr>",
                            "<tr><td>15</td><td>34.925</td><td>0.05</td><td>497.681250</td></tr>",
                            "<tr><td>15</td><td>19.2445</td><td>0.05</td><td>274.234125</td></tr>",
                            "<tr><td>23</td><td>34.925</td><td>0.05</td><td>763.111250</td></tr>",
                            "<tr><td>15</td><td>29.6945</td><td>0.05</td><td>423.146625</td></tr>",
                            "<tr><td>16</td><td>29.6945</td><td>0.05</td><td>451.356400</td></tr>",
                            "<tr><td>23</td><td>34.925</td><td>0.05</td><td>763.111250</td></tr>",
                            "<tr><td>17</td><td>4.3725</td><td>0.05</td><td>70.615875</td></tr>",
                            "<tr><td>11</td><td>2.8942</td><td>0.02</td><td>31.199476</td></tr>",
                            "<tr><td>13</td><td>40.5942</td><td>0.02</td><td>517.170108</td></tr>",
                            "<tr><td>12</td><td>20.2942</td><td>0.02</td><td>238.659792</td></tr>",
                            "<tr><td>11</td><td>5.2142</td><td>0.02</td><td>56.209076</td></tr>",
                            "<tr><td>11</td><td>20.2942</td><td>0.02</td><td>218.771476</td></tr>",
                            "<tr><td>13</td><td>986.5742</td><td>0.02</td><td>12568.955308</td></tr>",
                            "<tr><td>11</td><td>2.8942</td><td>0.02</td><td>31.199476</td></tr>",
                            "<tr><td>11</td><td>430.563</td><td>0.02</td><td>4641.469140</td></tr>",
                            "<tr><td>12</td><td>1382.7606</td><td>0.02</td><td>16261.264656</td></tr>",
                            "<tr><td>12</td><td>20.2942</td><td>0.02</td><td>238.659792</td></tr>",
                            "<tr><td>11</td><td>31.3142</td><td>0.02</td><td>337.567076</td></tr>",
                            "<tr><td>11</td><td>5.2142</td><td>0.02</td><td>56.209076</td></tr>",
                            "<tr><td>13</td><td>5.2142</td><td>0.02</td><td>66.428908</td></tr>",
                            "<tr><td>14</td><td>5.2142</td><td>0.02</td><td>71.538824</td></tr>",
                            "<tr><td>14</td><td>40.5942</td><td>0.02</td><td>556.952424</td></tr>",
                            "<tr><td>3</td><td>24.294</td><td>0.00</td><td>72.882000</td></tr>",
                            "<tr><td>5</td><td>54.894</td><td>0.00</td><td>274.470000</td></tr>",
                            "<tr><td>5</td><td>149.874</td><td>0.00</td><td>749.370000</td></tr>",
                            "<tr><td>10</td><td>1376.994</td><td>0.00</td><td>13769.940000</td></tr>",
                            "<tr><td>5</td><td>1376.994</td><td>0.00</td><td>6884.970000</td></tr>",
                            "<tr><td>5</td><td>818.70</td><td>0.00</td><td>4093.500000</td></tr>",
                            "<tr><td>2</td><td>461.694</td><td>0.00</td><td>923.388000</td></tr>",
                            "<tr><td>5</td><td>72.876</td><td>0.00</td><td>364.380000</td></tr>",
                            "<tr><td>4</td><td>1391.994</td><td>0.00</td><td>5567.976000</td></tr>",
                            "<tr><td>8</td><td>1376.994</td><td>0.00</td><td>11015.952000</td></tr>",
                            "<tr><td>8</td><td>41.994</td><td>0.00</td><td>335.952000</td></tr>",
                            "<tr><td>3</td><td>12.144</td><td>0.00</td><td>36.432000</td></tr>",
                            "<tr><td>3</td><td>105.294</td><td>0.00</td><td>315.882000</td></tr>",
                            "<tr><td>5</td><td>48.594</td><td>0.00</td><td>242.970000</td></tr>",
                            "<tr><td>3</td><td>31.584</td><td>0.00</td><td>94.752000</td></tr>",
                            "<tr><td>2</td><td>158.43</td><td>0.00</td><td>316.860000</td></tr>",
                            "<tr><td>3</td><td>32.394</td><td>0.00</td><td>97.182000</td></tr>",
                            "<tr><td>3</td><td>5.394</td><td>0.00</td><td>16.182000</td></tr>",
                            "<tr><td>1</td><td>24.294</td><td>0.00</td><td>24.294000</td></tr>",
                            "<tr><td>3</td><td>1020.594</td><td>0.00</td><td>3061.782000</td></tr>",
                            "<tr><td>2</td><td>1020.594</td><td>0.00</td><td>2041.188000</td></tr>",
                            "<tr><td>1</td><td>323.994</td><td>0.00</td><td>323.994000</td></tr>",
                            "<tr><td>3</td><td>158.43</td><td>0.00</td><td>475.290000</td></tr>",
                            "<tr><td>7</td><td>20.994</td><td>0.00</td><td>146.958000</td></tr>",
                            "<tr><td>5</td><td>32.994</td><td>0.00</td><td>164.970000</td></tr>",
                            "<tr><td>1</td><td>37.254</td><td>0.00</td><td>37.254000</td></tr>",
                            "<tr><td>4</td><td>20.994</td><td>0.00</td><td>83.976000</td></tr>",
                            "<tr><td>3</td><td>1391.994</td><td>0.00</td><td>4175.982000</td></tr>",
                            "<tr><td>2</td><td>323.994</td><td>0.00</td><td>647.988000</td></tr>",
                            "<tr><td>5</td><td>32.394</td><td>0.00</td><td>161.970000</td></tr>",
                            "<tr><td>1</td><td>31.584</td><td>0.00</td><td>31.584000</td></tr>",
                            "<tr><td>2</td><td>32.394</td><td>0.00</td><td>64.788000</td></tr>",
                            "<tr><td>7</td><td>818.70</td><td>0.00</td><td>5730.900000</td></tr>",
                            "<tr><td>2</td><td>37.254</td><td>0.00</td><td>74.508000</td></tr>",
                            "<tr><td>6</td><td>23.484</td><td>0.00</td><td>140.904000</td></tr>",
                            "<tr><td>5</td><td>1020.594</td><td>0.00</td><td>5102.970000</td></tr>",
                            "<tr><td>3</td><td>72.00</td><td>0.00</td><td>216.000000</td></tr>",
                            "<tr><td>2</td><td>356.898</td><td>0.00</td><td>713.796000</td></tr>",
                            "<tr><td>3</td><td>1020.594</td><td>0.00</td><td>3061.782000</td></tr>",
                            "<tr><td>3</td><td>20.994</td><td>0.00</td><td>62.982000</td></tr>",
                            "<tr><td>1</td><td>72.162</td><td>0.00</td><td>72.162000</td></tr>",
                            "<tr><td>5</td><td>24.294</td><td>0.00</td><td>121.470000</td></tr>",
                            "<tr><td>5</td><td>32.394</td><td>0.00</td><td>161.970000</td></tr>",
                            "<tr><td>3</td><td>20.994</td><td>0.00</td><td>62.982000</td></tr>",
                            "<tr><td>1</td><td>5.394</td><td>0.00</td><td>5.394000</td></tr>",
                            "<tr><td>5</td><td>48.594</td><td>0.00</td><td>242.970000</td></tr>",
                            "<tr><td>3</td><td>1466.01</td><td>0.00</td><td>4398.030000</td></tr>",
                            "<tr><td>5</td><td>1020.594</td><td>0.00</td><td>5102.970000</td></tr>",
                            "<tr><td>5</td><td>672.294</td><td>0.00</td><td>3361.470000</td></tr>",
                            "<tr><td>4</td><td>672.294</td><td>0.00</td><td>2689.176000</td></tr>",
                            "<tr><td>4</td><td>38.10</td><td>0.00</td><td>152.400000</td></tr>",
                            "<tr><td>2</td><td>29.994</td><td>0.00</td><td>59.988000</td></tr>",
                            "<tr><td>4</td><td>323.994</td><td>0.00</td><td>1295.976000</td></tr>",
                            "<tr><td>5</td><td>323.994</td><td>0.00</td><td>1619.970000</td></tr>",
                            "<tr><td>6</td><td>4.77</td><td>0.00</td><td>28.620000</td></tr>",
                            "<tr><td>3</td><td>1466.01</td><td>0.00</td><td>4398.030000</td></tr>",
                            "<tr><td>5</td><td>20.994</td><td>0.00</td><td>104.970000</td></tr>",
                            "<tr><td>5</td><td>38.10</td><td>0.00</td><td>190.500000</td></tr>",
                            "<tr><td>3</td><td>202.332</td><td>0.00</td><td>606.996000</td></tr>",
                            "<tr><td>3</td><td>32.394</td><td>0.00</td><td>97.182000</td></tr>",
                            "<tr><td>3</td><td>323.994</td><td>0.00</td><td>971.982000</td></tr>",
                            "<tr><td>8</td><td>2.994</td><td>0.00</td><td>23.952000</td></tr>",
                            "<tr><td>6</td><td>1466.01</td><td>0.00</td><td>8796.060000</td></tr>",
                            "<tr><td>4</td><td>5.394</td><td>0.00</td><td>21.576000</td></tr>",
                            "<tr><td>2</td><td>14.694</td><td>0.00</td><td>29.388000</td></tr>",
                            "<tr><td>5</td><td>1020.594</td><td>0.00</td><td>5102.970000</td></tr>",
                            "<tr><td>3</td><td>1466.01</td><td>0.00</td><td>4398.030000</td></tr>",
                            "<tr><td>5</td><td>672.294</td><td>0.00</td><td>3361.470000</td></tr>",
                            "<tr><td>7</td><td>32.994</td><td>0.00</td><td>230.958000</td></tr>",
                            "<tr><td>4</td><td>323.994</td><td>0.00</td><td>1295.976000</td></tr>",
                            "<tr><td>5</td><td>672.294</td><td>0.00</td><td>3361.470000</td></tr>",
                            "<tr><td>7</td><td>1466.01</td><td>0.00</td><td>10262.070000</td></tr>",
                            "<tr><td>6</td><td>37.254</td><td>0.00</td><td>223.524000</td></tr>",
                            "<tr><td>3</td><td>29.994</td><td>0.00</td><td>89.982000</td></tr>",
                            "<tr><td>1</td><td>32.394</td><td>0.00</td><td>32.394000</td></tr>",
                            "<tr><td>2</td><td>5.394</td><td>0.00</td><td>10.788000</td></tr>",
                            "<tr><td>3</td><td>672.294</td><td>0.00</td><td>2016.882000</td></tr>",
                            "<tr><td>1</td><td>31.584</td><td>0.00</td><td>31.584000</td></tr>",
                            "<tr><td>7</td><td>818.70</td><td>0.00</td><td>5730.900000</td></tr>",
                            "<tr><td>5</td><td>32.394</td><td>0.00</td><td>161.970000</td></tr>",
                            "<tr><td>2</td><td>158.43</td><td>0.00</td><td>316.860000</td></tr>",
                            "<tr><td>3</td><td>218.454</td><td>0.00</td><td>655.362000</td></tr>",
                            "<tr><td>4</td><td>461.694</td><td>0.00</td><td>1846.776000</td></tr>",
                            "<tr><td>6</td><td>38.10</td><td>0.00</td><td>228.600000</td></tr>",
                            "<tr><td>3</td><td>356.898</td><td>0.00</td><td>1070.694000</td></tr>",
                            "<tr><td>2</td><td>202.332</td><td>0.00</td><td>404.664000</td></tr>",
                            "<tr><td>4</td><td>24.294</td><td>0.00</td><td>97.176000</td></tr>",
                            "<tr><td>3</td><td>37.254</td><td>0.00</td><td>111.762000</td></tr>",
                            "<tr><td>1</td><td>48.594</td><td>0.00</td><td>48.594000</td></tr>",
                            "<tr><td>7</td><td>5.394</td><td>0.00</td><td>37.758000</td></tr>",
                            "<tr><td>1</td><td>1020.594</td><td>0.00</td><td>1020.594000</td></tr>",
                            "<tr><td>3</td><td>24.294</td><td>0.00</td><td>72.882000</td></tr>",
                            "<tr><td>1</td><td>1020.594</td><td>0.00</td><td>1020.594000</td></tr>",
                            "<tr><td>7</td><td>32.394</td><td>0.00</td><td>226.758000</td></tr>",
                            "<tr><td>3</td><td>38.10</td><td>0.00</td><td>114.300000</td></tr>",
                            "<tr><td>1</td><td>72.00</td><td>0.00</td><td>72.000000</td></tr>",
                            "<tr><td>1</td><td>2.994</td><td>0.00</td><td>2.994000</td></tr>",
                            "<tr><td>4</td><td>5.394</td><td>0.00</td><td>21.576000</td></tr>",
                            "<tr><td>2</td><td>461.694</td><td>0.00</td><td>923.388000</td></tr>",
                            "<tr><td>8</td><td>1376.994</td><td>0.00</td><td>11015.952000</td></tr>",
                            "<tr><td>2</td><td>1376.994</td><td>0.00</td><td>2753.988000</td></tr>",
                            "<tr><td>1</td><td>72.162</td><td>0.00</td><td>72.162000</td></tr>",
                            "<tr><td>1</td><td>149.874</td><td>0.00</td><td>149.874000</td></tr>",
                            "<tr><td>3</td><td>29.994</td><td>0.00</td><td>89.982000</td></tr>",
                            "<tr><td>7</td><td>2.994</td><td>0.00</td><td>20.958000</td></tr>",
                            "<tr><td>4</td><td>72.00</td><td>0.00</td><td>288.000000</td></tr>",
                            "<tr><td>5</td><td>4.77</td><td>0.00</td><td>23.850000</td></tr>",
                            "<tr><td>2</td><td>20.994</td><td>0.00</td><td>41.988000</td></tr>",
                            "<tr><td>1</td><td>323.994</td><td>0.00</td><td>323.994000</td></tr>",
                            "<tr><td>6</td><td>38.10</td><td>0.00</td><td>228.600000</td></tr>",
                            "<tr><td>7</td><td>41.994</td><td>0.00</td><td>293.958000</td></tr>",
                            "<tr><td>2</td><td>37.152</td><td>0.00</td><td>74.304000</td></tr>",
                            "<tr><td>7</td><td>1376.994</td><td>0.00</td><td>9638.958000</td></tr>",
                            "<tr><td>5</td><td>1391.994</td><td>0.00</td><td>6959.970000</td></tr>",
                            "<tr><td>2</td><td>14.694</td><td>0.00</td><td>29.388000</td></tr>",
                            "<tr><td>7</td><td>41.994</td><td>0.00</td><td>293.958000</td></tr>",
                            "<tr><td>2</td><td>16.272</td><td>0.00</td><td>32.544000</td></tr>",
                            "<tr><td>3</td><td>5.394</td><td>0.00</td><td>16.182000</td></tr>",
                            "<tr><td>1</td><td>149.874</td><td>0.00</td><td>149.874000</td></tr>",
                            "<tr><td>2</td><td>48.594</td><td>0.00</td><td>97.188000</td></tr>",
                            "<tr><td>3</td><td>323.994</td><td>0.00</td><td>971.982000</td></tr>",
                            "<tr><td>3</td><td>461.694</td><td>0.00</td><td>1385.082000</td></tr>",
                            "<tr><td>3</td><td>29.994</td><td>0.00</td><td>89.982000</td></tr>",
                            "<tr><td>4</td><td>24.294</td><td>0.00</td><td>97.176000</td></tr>",
                            "<tr><td>1</td><td>323.994</td><td>0.00</td><td>323.994000</td></tr>",
                            "<tr><td>1</td><td>461.694</td><td>0.00</td><td>461.694000</td></tr>",
                            "<tr><td>1</td><td>809.76</td><td>0.00</td><td>809.760000</td></tr>",
                            "<tr><td>1</td><td>26.724</td><td>0.00</td><td>26.724000</td></tr>",
                            "<tr><td>2</td><td>29.994</td><td>0.00</td><td>59.988000</td></tr>",
                            "<tr><td>2</td><td>158.43</td><td>0.00</td><td>316.860000</td></tr>",
                            "<tr><td>1</td><td>48.594</td><td>0.00</td><td>48.594000</td></tr>",
                            "<tr><td>5</td><td>1391.994</td><td>0.00</td><td>6959.970000</td></tr>",
                            "<tr><td>2</td><td>461.694</td><td>0.00</td><td>923.388000</td></tr>",
                            "<tr><td>1</td><td>218.454</td><td>0.00</td><td>218.454000</td></tr>",
                            "<tr><td>1</td><td>1391.994</td><td>0.00</td><td>1391.994000</td></tr>",
                            "<tr><td>1</td><td>1391.994</td><td>0.00</td><td>1391.994000</td></tr>",
                            "<tr><td>2</td><td>158.43</td><td>0.00</td><td>316.860000</td></tr>",
                            "<tr><td>1</td><td>26.724</td><td>0.00</td><td>26.724000</td></tr>",
                            "<tr><td>1</td><td>37.152</td><td>0.00</td><td>37.152000</td></tr>",
                            "<tr><td>3</td><td>24.294</td><td>0.00</td><td>72.882000</td></tr>",
                            "<tr><td>1</td><td>149.874</td><td>0.00</td><td>149.874000</td></tr>",
                            "<tr><td>6</td><td>158.43</td><td>0.00</td><td>950.580000</td></tr>",
                            "<tr><td>1</td><td>158.43</td><td>0.00</td><td>158.430000</td></tr>",
                            "<tr><td>2</td><td>461.694</td><td>0.00</td><td>923.388000</td></tr>",
                            "<tr><td>1</td><td>445.41</td><td>0.00</td><td>445.410000</td></tr>",
                            "<tr><td>1</td><td>54.894</td><td>0.00</td><td>54.894000</td></tr>",
                            "<tr><td>3</td><td>445.41</td><td>0.00</td><td>1336.230000</td></tr>",
                            "<tr><td>1</td><td>445.41</td><td>0.00</td><td>445.410000</td></tr>",
                            "<tr><td>1</td><td>728.91</td><td>0.00</td><td>728.910000</td></tr>",
                            "<tr><td>2</td><td>29.994</td><td>0.00</td><td>59.988000</td></tr>",
                            "<tr><td>2</td><td>32.394</td><td>0.00</td><td>64.788000</td></tr>",
                            "<tr><td>1</td><td>1430.442</td><td>0.00</td><td>1430.442000</td></tr>",
                            "<tr><td>2</td><td>445.41</td><td>0.00</td><td>890.820000</td></tr>",
                            "<tr><td>1</td><td>12.144</td><td>0.00</td><td>12.144000</td></tr>",
                            "<tr><td>2</td><td>63.90</td><td>0.00</td><td>127.800000</td></tr>",
                            "<tr><td>1</td><td>54.894</td><td>0.00</td><td>54.894000</td></tr>",
                            "<tr><td>1</td><td>728.91</td><td>0.00</td><td>728.910000</td></tr>",
                            "<tr><td>1</td><td>4.77</td><td>0.00</td><td>4.770000</td></tr>",
                            "<tr><td>1</td><td>445.41</td><td>0.00</td><td>445.410000</td></tr>",
                            "<tr><td>1</td><td>1430.442</td><td>0.00</td><td>1430.442000</td></tr>",
                            "<tr><td>2</td><td>445.41</td><td>0.00</td><td>890.820000</td></tr>",
                            "<tr><td>2</td><td>1430.442</td><td>0.00</td><td>2860.884000</td></tr>",
                            "<tr><td>3</td><td>5.394</td><td>0.00</td><td>16.182000</td></tr>",
                            "<tr><td>5</td><td>37.152</td><td>0.00</td><td>185.760000</td></tr>",
                            "<tr><td>2</td><td>218.454</td><td>0.00</td><td>436.908000</td></tr>",
                            "<tr><td>4</td><td>1391.994</td><td>0.00</td><td>5567.976000</td></tr>",
                            "<tr><td>4</td><td>41.994</td><td>0.00</td><td>167.976000</td></tr>",
                            "<tr><td>6</td><td>14.694</td><td>0.00</td><td>88.164000</td></tr>",
                            "<tr><td>4</td><td>63.90</td><td>0.00</td><td>255.600000</td></tr>",
                            "<tr><td>6</td><td>149.874</td><td>0.00</td><td>899.244000</td></tr>",
                            "<tr><td>3</td><td>16.272</td><td>0.00</td><td>48.816000</td></tr>",
                            "<tr><td>1</td><td>158.43</td><td>0.00</td><td>158.430000</td></tr>",
                            "<tr><td>4</td><td>809.76</td><td>0.00</td><td>3239.040000</td></tr>",
                            "<tr><td>5</td><td>818.70</td><td>0.00</td><td>4093.500000</td></tr>",
                            "<tr><td>4</td><td>72.894</td><td>0.00</td><td>291.576000</td></tr>",
                            "<tr><td>1</td><td>20.994</td><td>0.00</td><td>20.994000</td></tr>",
                            "<tr><td>1</td><td>149.874</td><td>0.00</td><td>149.874000</td></tr>",
                            "<tr><td>4</td><td>26.724</td><td>0.00</td><td>106.896000</td></tr>",
                            "<tr><td>5</td><td>323.994</td><td>0.00</td><td>1619.970000</td></tr>",
                            "<tr><td>6</td><td>242.994</td><td>0.00</td><td>1457.964000</td></tr>",
                            "<tr><td>3</td><td>1391.994</td><td>0.00</td><td>4175.982000</td></tr>",
                            "<tr><td>2</td><td>218.454</td><td>0.00</td><td>436.908000</td></tr>",
                            "<tr><td>4</td><td>809.76</td><td>0.00</td><td>3239.040000</td></tr>",
                            "<tr><td>6</td><td>202.332</td><td>0.00</td><td>1213.992000</td></tr>",
                            "<tr><td>9</td><td>32.394</td><td>0.00</td><td>291.546000</td></tr>",
                            "<tr><td>7</td><td>323.994</td><td>0.00</td><td>2267.958000</td></tr>",
                            "<tr><td>5</td><td>323.994</td><td>0.00</td><td>1619.970000</td></tr>",
                            "<tr><td>4</td><td>672.294</td><td>0.00</td><td>2689.176000</td></tr>",
                            "<tr><td>1</td><td>672.294</td><td>0.00</td><td>672.294000</td></tr>",
                            "<tr><td>1</td><td>672.294</td><td>0.00</td><td>672.294000</td></tr>",
                            "<tr><td>5</td><td>1020.594</td><td>0.00</td><td>5102.970000</td></tr>",
                            "<tr><td>6</td><td>29.994</td><td>0.00</td><td>179.964000</td></tr>",
                            "<tr><td>8</td><td>4.77</td><td>0.00</td><td>38.160000</td></tr>",
                            "<tr><td>1</td><td>72.162</td><td>0.00</td><td>72.162000</td></tr>",
                            "<tr><td>6</td><td>32.394</td><td>0.00</td><td>194.364000</td></tr>",
                            "<tr><td>6</td><td>1.374</td><td>0.00</td><td>8.244000</td></tr>",
                            "<tr><td>10</td><td>2.994</td><td>0.00</td><td>29.940000</td></tr>",
                            "<tr><td>1</td><td>356.898</td><td>0.00</td><td>356.898000</td></tr>",
                            "<tr><td>1</td><td>672.294</td><td>0.00</td><td>672.294000</td></tr>",
                            "<tr><td>2</td><td>14.694</td><td>0.00</td><td>29.388000</td></tr>",
                            "<tr><td>9</td><td>14.694</td><td>0.00</td><td>132.246000</td></tr>",
                            "<tr><td>2</td><td>323.994</td><td>0.00</td><td>647.988000</td></tr>",
                            "<tr><td>3</td><td>323.994</td><td>0.00</td><td>971.982000</td></tr>",
                            "<tr><td>1</td><td>323.994</td><td>0.00</td><td>323.994000</td></tr>",
                            "<tr><td>2</td><td>323.994</td><td>0.00</td><td>647.988000</td></tr>",
                            "<tr><td>1</td><td>356.898</td><td>0.00</td><td>356.898000</td></tr>",
                            "<tr><td>1</td><td>356.898</td><td>0.00</td><td>356.898000</td></tr>",
                            "<tr><td>1</td><td>63.90</td><td>0.00</td><td>63.900000</td></tr>",
                            "<tr><td>4</td><td>218.454</td><td>0.00</td><td>873.816000</td></tr>",
                            "<tr><td>2</td><td>461.694</td><td>0.00</td><td>923.388000</td></tr>",
                            "<tr><td>2</td><td>818.70</td><td>0.00</td><td>1637.400000</td></tr>",
                            "<tr><td>1</td><td>323.994</td><td>0.00</td><td>323.994000</td></tr>",
                            "<tr><td>1</td><td>149.874</td><td>0.00</td><td>149.874000</td></tr>",
                            "<tr><td>1</td><td>809.76</td><td>0.00</td><td>809.760000</td></tr>",
                            "<tr><td>4</td><td>1376.994</td><td>0.00</td><td>5507.976000</td></tr>",
                            "<tr><td>2</td><td>158.43</td><td>0.00</td><td>316.860000</td></tr>",
                            "<tr><td>4</td><td>1391.994</td><td>0.00</td><td>5567.976000</td></tr>",
                            "<tr><td>1</td><td>48.594</td><td>0.00</td><td>48.594000</td></tr>",
                            "<tr><td>6</td><td>41.994</td><td>0.00</td><td>251.964000</td></tr>",
                            "<tr><td>2</td><td>461.694</td><td>0.00</td><td>923.388000</td></tr>",
                            "<tr><td>3</td><td>461.694</td><td>0.00</td><td>1385.082000</td></tr>",
                            "<tr><td>5</td><td>1376.994</td><td>0.00</td><td>6884.970000</td></tr>",
                            "<tr><td>3</td><td>37.152</td><td>0.00</td><td>111.456000</td></tr>",
                            "<tr><td>1</td><td>72.162</td><td>0.00</td><td>72.162000</td></tr>",
                            "<tr><td>2</td><td>24.294</td><td>0.00</td><td>48.588000</td></tr>",
                            "<tr><td>1</td><td>149.874</td><td>0.00</td><td>149.874000</td></tr>",
                            "<tr><td>7</td><td>41.994</td><td>0.00</td><td>293.958000</td></tr>",
                            "<tr><td>1</td><td>32.994</td><td>0.00</td><td>32.994000</td></tr>",
                            "<tr><td>3</td><td>29.994</td><td>0.00</td><td>89.982000</td></tr>",
                            "<tr><td>3</td><td>1430.442</td><td>0.00</td><td>4291.326000</td></tr>",
                            "<tr><td>1</td><td>1430.442</td><td>0.00</td><td>1430.442000</td></tr>",
                            "<tr><td>10</td><td>5.394</td><td>0.00</td><td>53.940000</td></tr>",
                            "<tr><td>10</td><td>4.77</td><td>0.00</td><td>47.700000</td></tr>",
                            "<tr><td>4</td><td>72.894</td><td>0.00</td><td>291.576000</td></tr>",
                            "<tr><td>6</td><td>38.10</td><td>0.00</td><td>228.600000</td></tr>",
                            "<tr><td>3</td><td>72.00</td><td>0.00</td><td>216.000000</td></tr>",
                            "<tr><td>4</td><td>445.41</td><td>0.00</td><td>1781.640000</td></tr>",
                            "<tr><td>4</td><td>728.91</td><td>0.00</td><td>2915.640000</td></tr>",
                            "<tr><td>6</td><td>2.994</td><td>0.00</td><td>17.964000</td></tr>",
                            "<tr><td>1</td><td>445.41</td><td>0.00</td><td>445.410000</td></tr>",
                            "<tr><td>1</td><td>1430.442</td><td>0.00</td><td>1430.442000</td></tr>",
                            "<tr><td>1</td><td>63.90</td><td>0.00</td><td>63.900000</td></tr>",
                            "<tr><td>1</td><td>32.394</td><td>0.00</td><td>32.394000</td></tr>",
                            "<tr><td>1</td><td>728.91</td><td>0.00</td><td>728.910000</td></tr>",
                            "<tr><td>2</td><td>1430.442</td><td>0.00</td><td>2860.884000</td></tr>",
                            "<tr><td>4</td><td>32.394</td><td>0.00</td><td>129.576000</td></tr>",
                            "<tr><td>2</td><td>602.346</td><td>0.00</td><td>1204.692000</td></tr>",
                            "<tr><td>8</td><td>29.994</td><td>0.00</td><td>239.952000</td></tr>",
                            "<tr><td>3</td><td>72.876</td><td>0.00</td><td>218.628000</td></tr>",
                            "<tr><td>1</td><td>1430.442</td><td>0.00</td><td>1430.442000</td></tr>",
                            "<tr><td>2</td><td>1430.442</td><td>0.00</td><td>2860.884000</td></tr>",
                            "<tr><td>7</td><td>20.994</td><td>0.00</td><td>146.958000</td></tr>",
                            "<tr><td>3</td><td>445.41</td><td>0.00</td><td>1336.230000</td></tr>",
                            "<tr><td>2</td><td>445.41</td><td>0.00</td><td>890.820000</td></tr>",
                            "<tr><td>2</td><td>445.41</td><td>0.00</td><td>890.820000</td></tr>",
                            "<tr><td>1</td><td>445.41</td><td>0.00</td><td>445.410000</td></tr>",
                            "<tr><td>1</td><td>728.91</td><td>0.00</td><td>728.910000</td></tr>",
                            "<tr><td>2</td><td>1430.442</td><td>0.00</td><td>2860.884000</td></tr>",
                            "<tr><td>2</td><td>242.994</td><td>0.00</td><td>485.988000</td></tr>",
                            "<tr><td>2</td><td>54.894</td><td>0.00</td><td>109.788000</td></tr>",
                            "<tr><td>1</td><td>31.584</td><td>0.00</td><td>31.584000</td></tr>",
                            "<tr><td>1</td><td>200.052</td><td>0.00</td><td>200.052000</td></tr>",
                            "<tr><td>1</td><td>602.346</td><td>0.00</td><td>602.346000</td></tr>",
                            "<tr><td>1</td><td>602.346</td><td>0.00</td><td>602.346000</td></tr>",
                            "<tr><td>6</td><td>32.394</td><td>0.00</td><td>194.364000</td></tr>",
                            "<tr><td>4</td><td>32.394</td><td>0.00</td><td>129.576000</td></tr>",
                            "<tr><td>1</td><td>14.694</td><td>0.00</td><td>14.694000</td></tr>",
                            "<tr><td>4</td><td>38.10</td><td>0.00</td><td>152.400000</td></tr>",
                            "<tr><td>9</td><td>32.994</td><td>0.00</td><td>296.946000</td></tr>",
                            "<tr><td>6</td><td>20.994</td><td>0.00</td><td>125.964000</td></tr>",
                            "<tr><td>3</td><td>20.994</td><td>0.00</td><td>62.982000</td></tr>",
                            "<tr><td>4</td><td>202.332</td><td>0.00</td><td>809.328000</td></tr>",
                            "<tr><td>6</td><td>37.254</td><td>0.00</td><td>223.524000</td></tr>",
                            "<tr><td>3</td><td>1466.01</td><td>0.00</td><td>4398.030000</td></tr>",
                            "<tr><td>4</td><td>323.994</td><td>0.00</td><td>1295.976000</td></tr>",
                            "<tr><td>9</td><td>32.994</td><td>0.00</td><td>296.946000</td></tr>",
                            "<tr><td>7</td><td>14.694</td><td>0.00</td><td>102.858000</td></tr>",
                            "<tr><td>1</td><td>602.346</td><td>0.00</td><td>602.346000</td></tr>",
                            "<tr><td>8</td><td>728.91</td><td>0.00</td><td>5831.280000</td></tr>",
                            "<tr><td>2</td><td>728.91</td><td>0.00</td><td>1457.820000</td></tr>",
                            "<tr><td>1</td><td>31.584</td><td>0.00</td><td>31.584000</td></tr>",
                            "<tr><td>5</td><td>445.41</td><td>0.00</td><td>2227.050000</td></tr>",
                            "<tr><td>3</td><td>1430.442</td><td>0.00</td><td>4291.326000</td></tr>",
                            "<tr><td>9</td><td>1430.442</td><td>0.00</td><td>12873.978000</td></tr>",
                            "<tr><td>2</td><td>1430.442</td><td>0.00</td><td>2860.884000</td></tr>",
                            "<tr><td>3</td><td>445.41</td><td>0.00</td><td>1336.230000</td></tr>",
                            "<tr><td>7</td><td>445.41</td><td>0.00</td><td>3117.870000</td></tr>",
                            "<tr><td>2</td><td>445.41</td><td>0.00</td><td>890.820000</td></tr>",
                            "<tr><td>1</td><td>728.91</td><td>0.00</td><td>728.910000</td></tr>",
                            "<tr><td>3</td><td>1430.442</td><td>0.00</td><td>4291.326000</td></tr>",
                            "<tr><td>1</td><td>1430.442</td><td>0.00</td><td>1430.442000</td></tr>",
                            "<tr><td>1</td><td>54.942</td><td>0.00</td><td>54.942000</td></tr>",
                            "<tr><td>1</td><td>200.052</td><td>0.00</td><td>200.052000</td></tr>",
                            "<tr><td>1</td><td>200.052</td><td>0.00</td><td>200.052000</td></tr>",
                            "<tr><td>6</td><td>602.346</td><td>0.00</td><td>3614.076000</td></tr>",
                            "<tr><td>1</td><td>602.346</td><td>0.00</td><td>602.346000</td></tr>",
                            "<tr><td>2</td><td>602.346</td><td>0.00</td><td>1204.692000</td></tr>",
                            "<tr><td>4</td><td>20.994</td><td>0.00</td><td>83.976000</td></tr>",
                            "<tr><td>2</td><td>858.90</td><td>0.00</td><td>1717.800000</td></tr>",
                            "<tr><td>1</td><td>29.994</td><td>0.00</td><td>29.994000</td></tr>",
                            "<tr><td>4</td><td>48.594</td><td>0.00</td><td>194.376000</td></tr>",
                            "<tr><td>8</td><td>445.41</td><td>0.00</td><td>3563.280000</td></tr>",
                            "<tr><td>3</td><td>445.41</td><td>0.00</td><td>1336.230000</td></tr>",
                            "<tr><td>5</td><td>445.41</td><td>0.00</td><td>2227.050000</td></tr>",
                            "<tr><td>3</td><td>728.91</td><td>0.00</td><td>2186.730000</td></tr>",
                            "<tr><td>4</td><td>1430.442</td><td>0.00</td><td>5721.768000</td></tr>",
                            "<tr><td>6</td><td>1430.442</td><td>0.00</td><td>8582.652000</td></tr>",
                            "<tr><td>10</td><td>1430.442</td><td>0.00</td><td>14304.420000</td></tr>",
                            "<tr><td>2</td><td>1430.442</td><td>0.00</td><td>2860.884000</td></tr>",
                            "<tr><td>2</td><td>31.584</td><td>0.00</td><td>63.168000</td></tr>",
                            "<tr><td>3</td><td>200.052</td><td>0.00</td><td>600.156000</td></tr>",
                            "<tr><td>1</td><td>200.052</td><td>0.00</td><td>200.052000</td></tr>",
                            "<tr><td>1</td><td>602.346</td><td>0.00</td><td>602.346000</td></tr>",
                            "<tr><td>8</td><td>29.994</td><td>0.00</td><td>239.952000</td></tr>",
                            "<tr><td>6</td><td>32.394</td><td>0.00</td><td>194.364000</td></tr>",
                            "<tr><td>7</td><td>32.394</td><td>0.00</td><td>226.758000</td></tr>",
                            "<tr><td>3</td><td>32.394</td><td>0.00</td><td>97.182000</td></tr>",
                            "<tr><td>5</td><td>14.694</td><td>0.00</td><td>73.470000</td></tr>",
                            "<tr><td>6</td><td>445.41</td><td>0.00</td><td>2672.460000</td></tr>",
                            "<tr><td>6</td><td>72.00</td><td>0.00</td><td>432.000000</td></tr>",
                            "<tr><td>2</td><td>200.052</td><td>0.00</td><td>400.104000</td></tr>",
                            "<tr><td>6</td><td>14.694</td><td>0.00</td><td>88.164000</td></tr>",
                            "<tr><td>4</td><td>602.346</td><td>0.00</td><td>2409.384000</td></tr>",
                            "<tr><td>7</td><td>445.41</td><td>0.00</td><td>3117.870000</td></tr>",
                            "<tr><td>2</td><td>200.052</td><td>0.00</td><td>400.104000</td></tr>",
                            "<tr><td>8</td><td>38.10</td><td>0.00</td><td>304.800000</td></tr>",
                            "<tr><td>4</td><td>728.91</td><td>0.00</td><td>2915.640000</td></tr>",
                            "<tr><td>1</td><td>445.41</td><td>0.00</td><td>445.410000</td></tr>",
                            "<tr><td>9</td><td>29.994</td><td>0.00</td><td>269.946000</td></tr>",
                            "<tr><td>10</td><td>5.394</td><td>0.00</td><td>53.940000</td></tr>",
                            "<tr><td>4</td><td>728.91</td><td>0.00</td><td>2915.640000</td></tr>",
                            "<tr><td>8</td><td>4.77</td><td>0.00</td><td>38.160000</td></tr>",
                            "<tr><td>5</td><td>29.994</td><td>0.00</td><td>149.970000</td></tr>",
                            "<tr><td>4</td><td>48.594</td><td>0.00</td><td>194.376000</td></tr>",
                            "<tr><td>3</td><td>356.898</td><td>0.00</td><td>1070.694000</td></tr>",
                            "<tr><td>4</td><td>356.898</td><td>0.00</td><td>1427.592000</td></tr>",
                            "<tr><td>4</td><td>858.90</td><td>0.00</td><td>3435.600000</td></tr>",
                            "<tr><td>2</td><td>858.90</td><td>0.00</td><td>1717.800000</td></tr>",
                            "<tr><td>4</td><td>29.994</td><td>0.00</td><td>119.976000</td></tr>",
                            "<tr><td>1</td><td>5.394</td><td>0.00</td><td>5.394000</td></tr>",
                            "<tr><td>10</td><td>38.10</td><td>0.00</td><td>381.000000</td></tr>",
                            "<tr><td>2</td><td>20.994</td><td>0.00</td><td>41.988000</td></tr>",
                            "<tr><td>8</td><td>602.346</td><td>0.00</td><td>4818.768000</td></tr>",
                            "<tr><td>2</td><td>1430.442</td><td>0.00</td><td>2860.884000</td></tr>",
                            "<tr><td>2</td><td>72.00</td><td>0.00</td><td>144.000000</td></tr>",
                            "<tr><td>10</td><td>20.994</td><td>0.00</td><td>209.940000</td></tr>",
                            "<tr><td>3</td><td>24.294</td><td>0.00</td><td>72.882000</td></tr>",
                            "<tr><td>2</td><td>5.394</td><td>0.00</td><td>10.788000</td></tr>",
                            "<tr><td>2</td><td>323.994</td><td>0.00</td><td>647.988000</td></tr>",
                            "<tr><td>1</td><td>1020.594</td><td>0.00</td><td>1020.594000</td></tr>",
                            "<tr><td>1</td><td>20.994</td><td>0.00</td><td>20.994000</td></tr>",
                            "<tr><td>3</td><td>323.994</td><td>0.00</td><td>971.982000</td></tr>",
                            "<tr><td>2</td><td>24.294</td><td>0.00</td><td>48.588000</td></tr>",
                            "<tr><td>1</td><td>858.90</td><td>0.00</td><td>858.900000</td></tr>",
                            "<tr><td>3</td><td>72.00</td><td>0.00</td><td>216.000000</td></tr>",
                            "<tr><td>6</td><td>32.394</td><td>0.00</td><td>194.364000</td></tr>",
                            "<tr><td>3</td><td>38.10</td><td>0.00</td><td>114.300000</td></tr>",
                            "<tr><td>2</td><td>23.484</td><td>0.00</td><td>46.968000</td></tr>",
                            "<tr><td>2</td><td>29.994</td><td>0.00</td><td>59.988000</td></tr>",
                            "<tr><td>3</td><td>38.10</td><td>0.00</td><td>114.300000</td></tr>",
                            "<tr><td>1</td><td>1430.442</td><td>0.00</td><td>1430.442000</td></tr>",
                            "<tr><td>4</td><td>445.41</td><td>0.00</td><td>1781.640000</td></tr>",
                            "<tr><td>3</td><td>1430.442</td><td>0.00</td><td>4291.326000</td></tr>",
                            "<tr><td>3</td><td>32.394</td><td>0.00</td><td>97.182000</td></tr>",
                            "<tr><td>4</td><td>5.394</td><td>0.00</td><td>21.576000</td></tr>",
                            "<tr><td>2</td><td>1430.442</td><td>0.00</td><td>2860.884000</td></tr>",
                            "<tr><td>1</td><td>38.10</td><td>0.00</td><td>38.100000</td></tr>",
                            "<tr><td>1</td><td>63.90</td><td>0.00</td><td>63.900000</td></tr>",
                            "<tr><td>3</td><td>1430.442</td><td>0.00</td><td>4291.326000</td></tr>",
                            "<tr><td>4</td><td>445.41</td><td>0.00</td><td>1781.640000</td></tr>",
                            "<tr><td>4</td><td>72.894</td><td>0.00</td><td>291.576000</td></tr>",
                            "<tr><td>6</td><td>1430.442</td><td>0.00</td><td>8582.652000</td></tr>",
                            "<tr><td>3</td><td>728.91</td><td>0.00</td><td>2186.730000</td></tr>",
                            "<tr><td>1</td><td>1430.442</td><td>0.00</td><td>1430.442000</td></tr>",
                            "<tr><td>3</td><td>445.41</td><td>0.00</td><td>1336.230000</td></tr>",
                            "<tr><td>3</td><td>32.394</td><td>0.00</td><td>97.182000</td></tr>",
                            "<tr><td>1</td><td>445.41</td><td>0.00</td><td>445.410000</td></tr>",
                            "<tr><td>4</td><td>1430.442</td><td>0.00</td><td>5721.768000</td></tr>",
                            "<tr><td>3</td><td>1430.442</td><td>0.00</td><td>4291.326000</td></tr>",
                            "<tr><td>5</td><td>728.91</td><td>0.00</td><td>3644.550000</td></tr>",
                            "<tr><td>4</td><td>105.294</td><td>0.00</td><td>421.176000</td></tr>",
                            "<tr><td>1</td><td>445.41</td><td>0.00</td><td>445.410000</td></tr>",
                            "<tr><td>3</td><td>54.894</td><td>0.00</td><td>164.682000</td></tr>",
                            "<tr><td>5</td><td>728.91</td><td>0.00</td><td>3644.550000</td></tr>",
                            "<tr><td>2</td><td>728.91</td><td>0.00</td><td>1457.820000</td></tr>",
                            "<tr><td>1</td><td>602.346</td><td>0.00</td><td>602.346000</td></tr>",
                            "<tr><td>1</td><td>1430.442</td><td>0.00</td><td>1430.442000</td></tr>",
                            "<tr><td>3</td><td>445.41</td><td>0.00</td><td>1336.230000</td></tr>",
                            "<tr><td>3</td><td>31.584</td><td>0.00</td><td>94.752000</td></tr>",
                            "<tr><td>1</td><td>63.90</td><td>0.00</td><td>63.900000</td></tr>",
                            "<tr><td>3</td><td>445.41</td><td>0.00</td><td>1336.230000</td></tr>",
                            "<tr><td>3</td><td>242.994</td><td>0.00</td><td>728.982000</td></tr>",
                            "<tr><td>3</td><td>1430.442</td><td>0.00</td><td>4291.326000</td></tr>",
                            "<tr><td>1</td><td>12.144</td><td>0.00</td><td>12.144000</td></tr>",
                            "<tr><td>5</td><td>445.41</td><td>0.00</td><td>2227.050000</td></tr>",
                            "<tr><td>2</td><td>445.41</td><td>0.00</td><td>890.820000</td></tr>",
                            "<tr><td>2</td><td>32.394</td><td>0.00</td><td>64.788000</td></tr>",
                            "<tr><td>2</td><td>63.90</td><td>0.00</td><td>127.800000</td></tr>",
                            "<tr><td>4</td><td>218.454</td><td>0.00</td><td>873.816000</td></tr>",
                            "<tr><td>3</td><td>818.70</td><td>0.00</td><td>2456.100000</td></tr>",
                            "<tr><td>2</td><td>1391.994</td><td>0.00</td><td>2783.988000</td></tr>",
                            "<tr><td>1</td><td>54.894</td><td>0.00</td><td>54.894000</td></tr>",
                            "<tr><td>3</td><td>105.294</td><td>0.00</td><td>315.882000</td></tr>",
                            "<tr><td>2</td><td>48.594</td><td>0.00</td><td>97.188000</td></tr>",
                            "<tr><td>2</td><td>41.994</td><td>0.00</td><td>83.988000</td></tr>",
                            "<tr><td>1</td><td>818.70</td><td>0.00</td><td>818.700000</td></tr>",
                            "<tr><td>2</td><td>218.454</td><td>0.00</td><td>436.908000</td></tr>",
                            "<tr><td>2</td><td>1391.994</td><td>0.00</td><td>2783.988000</td></tr>",
                            "<tr><td>3</td><td>41.994</td><td>0.00</td><td>125.982000</td></tr>",
                            "<tr><td>5</td><td>1376.994</td><td>0.00</td><td>6884.970000</td></tr>",
                            "<tr><td>2</td><td>1376.994</td><td>0.00</td><td>2753.988000</td></tr>",
                            "<tr><td>1</td><td>242.994</td><td>0.00</td><td>242.994000</td></tr>",
                            "<tr><td>3</td><td>809.76</td><td>0.00</td><td>2429.280000</td></tr>",
                            "<tr><td>1</td><td>37.152</td><td>0.00</td><td>37.152000</td></tr>",
                            "<tr><td>2</td><td>158.43</td><td>0.00</td><td>316.860000</td></tr>",
                            "<tr><td>2</td><td>809.76</td><td>0.00</td><td>1619.520000</td></tr>",
                            "<tr><td>2</td><td>29.994</td><td>0.00</td><td>59.988000</td></tr>",
                            "<tr><td>2</td><td>158.43</td><td>0.00</td><td>316.860000</td></tr>",
                            "<tr><td>1</td><td>26.724</td><td>0.00</td><td>26.724000</td></tr>",
                            "<tr><td>8</td><td>23.484</td><td>0.00</td><td>187.872000</td></tr>",
                            "<tr><td>2</td><td>149.874</td><td>0.00</td><td>299.748000</td></tr>",
                            "<tr><td>2</td><td>1376.994</td><td>0.00</td><td>2753.988000</td></tr>",
                            "<tr><td>2</td><td>31.584</td><td>0.00</td><td>63.168000</td></tr>",
                            "<tr><td>3</td><td>72.894</td><td>0.00</td><td>218.682000</td></tr>",
                            "<tr><td>3</td><td>1391.994</td><td>0.00</td><td>4175.982000</td></tr>",
                            "<tr><td>4</td><td>149.874</td><td>0.00</td><td>599.496000</td></tr>",
                            "<tr><td>3</td><td>12.144</td><td>0.00</td><td>36.432000</td></tr>",
                            "<tr><td>2</td><td>37.254</td><td>0.00</td><td>74.508000</td></tr>",
                            "<tr><td>1</td><td>818.70</td><td>0.00</td><td>818.700000</td></tr>",
                            "<tr><td>2</td><td>356.898</td><td>0.00</td><td>713.796000</td></tr>",
                            "<tr><td>1</td><td>202.332</td><td>0.00</td><td>202.332000</td></tr>",
                            "<tr><td>2</td><td>356.898</td><td>0.00</td><td>713.796000</td></tr>",
                            "<tr><td>2</td><td>5.394</td><td>0.00</td><td>10.788000</td></tr>",
                            "<tr><td>1</td><td>728.91</td><td>0.00</td><td>728.910000</td></tr>",
                            "<tr><td>1</td><td>1430.442</td><td>0.00</td><td>1430.442000</td></tr>",
                            "<tr><td>2</td><td>29.994</td><td>0.00</td><td>59.988000</td></tr>",
                            "<tr><td>4</td><td>5.394</td><td>0.00</td><td>21.576000</td></tr>",
                            "<tr><td>3</td><td>32.394</td><td>0.00</td><td>97.182000</td></tr>",
                            "<tr><td>1</td><td>445.41</td><td>0.00</td><td>445.410000</td></tr>",
                            "<tr><td>1</td><td>63.90</td><td>0.00</td><td>63.900000</td></tr>",
                            "<tr><td>2</td><td>41.994</td><td>0.00</td><td>83.988000</td></tr>",
                            "<tr><td>1</td><td>1376.994</td><td>0.00</td><td>1376.994000</td></tr>",
                            "<tr><td>6</td><td>41.994</td><td>0.00</td><td>251.964000</td></tr>",
                            "<tr><td>4</td><td>158.43</td><td>0.00</td><td>633.720000</td></tr>",
                            "<tr><td>3</td><td>461.694</td><td>0.00</td><td>1385.082000</td></tr>",
                            "<tr><td>2</td><td>1391.994</td><td>0.00</td><td>2783.988000</td></tr>",
                            "<tr><td>1</td><td>41.994</td><td>0.00</td><td>41.994000</td></tr>",
                            "<tr><td>1</td><td>72.162</td><td>0.00</td><td>72.162000</td></tr>",
                            "<tr><td>1</td><td>461.694</td><td>0.00</td><td>461.694000</td></tr>",
                            "<tr><td>2</td><td>149.874</td><td>0.00</td><td>299.748000</td></tr>",
                            "<tr><td>3</td><td>1376.994</td><td>0.00</td><td>4130.982000</td></tr>",
                            "<tr><td>1</td><td>48.594</td><td>0.00</td><td>48.594000</td></tr>",
                            "<tr><td>1</td><td>37.254</td><td>0.00</td><td>37.254000</td></tr>",
                            "<tr><td>4</td><td>809.76</td><td>0.00</td><td>3239.040000</td></tr>",
                            "<tr><td>5</td><td>218.454</td><td>0.00</td><td>1092.270000</td></tr>",
                            "<tr><td>1</td><td>818.70</td><td>0.00</td><td>818.700000</td></tr>",
                            "<tr><td>1</td><td>31.584</td><td>0.00</td><td>31.584000</td></tr>",
                            "<tr><td>5</td><td>1376.994</td><td>0.00</td><td>6884.970000</td></tr>",
                            "<tr><td>2</td><td>323.994</td><td>0.00</td><td>647.988000</td></tr>",
                            "<tr><td>3</td><td>323.994</td><td>0.00</td><td>971.982000</td></tr>",
                            "<tr><td>2</td><td>858.90</td><td>0.00</td><td>1717.800000</td></tr>",
                            "<tr><td>4</td><td>14.694</td><td>0.00</td><td>58.776000</td></tr>",
                            "<tr><td>4</td><td>356.898</td><td>0.00</td><td>1427.592000</td></tr>",
                            "<tr><td>9</td><td>1020.594</td><td>0.00</td><td>9185.346000</td></tr>",
                            "<tr><td>1</td><td>16.272</td><td>0.00</td><td>16.272000</td></tr>",
                            "<tr><td>6</td><td>1466.01</td><td>0.00</td><td>8796.060000</td></tr>",
                            "<tr><td>3</td><td>1020.594</td><td>0.00</td><td>3061.782000</td></tr>",
                            "<tr><td>6</td><td>20.994</td><td>0.00</td><td>125.964000</td></tr>",
                            "<tr><td>9</td><td>14.694</td><td>0.00</td><td>132.246000</td></tr>",
                            "<tr><td>5</td><td>1020.594</td><td>0.00</td><td>5102.970000</td></tr>",
                            "<tr><td>9</td><td>32.994</td><td>0.00</td><td>296.946000</td></tr>",
                            "<tr><td>8</td><td>1.374</td><td>0.00</td><td>10.992000</td></tr>",
                            "<tr><td>10</td><td>20.994</td><td>0.00</td><td>209.940000</td></tr>",
                            "<tr><td>2</td><td>31.584</td><td>0.00</td><td>63.168000</td></tr>",
                            "<tr><td>1</td><td>202.332</td><td>0.00</td><td>202.332000</td></tr>",
                            "<tr><td>3</td><td>202.332</td><td>0.00</td><td>606.996000</td></tr>",
                            "<tr><td>5</td><td>356.898</td><td>0.00</td><td>1784.490000</td></tr>",
                            "<tr><td>1</td><td>858.90</td><td>0.00</td><td>858.900000</td></tr>",
                            "<tr><td>4</td><td>29.994</td><td>0.00</td><td>119.976000</td></tr>",
                            "<tr><td>5</td><td>29.994</td><td>0.00</td><td>149.970000</td></tr>",
                            "<tr><td>3</td><td>5.394</td><td>0.00</td><td>16.182000</td></tr>",
                            "<tr><td>4</td><td>14.694</td><td>0.00</td><td>58.776000</td></tr>",
                            "<tr><td>6</td><td>5.394</td><td>0.00</td><td>32.364000</td></tr>",
                            "<tr><td>10</td><td>32.994</td><td>0.00</td><td>329.940000</td></tr>",
                            "<tr><td>6</td><td>1.374</td><td>0.00</td><td>8.244000</td></tr>",
                            "<tr><td>10</td><td>72.00</td><td>0.00</td><td>720.000000</td></tr>",
                            "<tr><td>7</td><td>323.994</td><td>0.00</td><td>2267.958000</td></tr>",
                            "<tr><td>2</td><td>672.294</td><td>0.00</td><td>1344.588000</td></tr>",
                            "<tr><td>2</td><td>72.162</td><td>0.00</td><td>144.324000</td></tr>",
                            "<tr><td>4</td><td>37.254</td><td>0.00</td><td>149.016000</td></tr>",
                            "<tr><td>2</td><td>672.294</td><td>0.00</td><td>1344.588000</td></tr>",
                            "<tr><td>6</td><td>323.994</td><td>0.00</td><td>1943.964000</td></tr>",
                            "<tr><td>4</td><td>323.994</td><td>0.00</td><td>1295.976000</td></tr>",
                            "<tr><td>3</td><td>24.294</td><td>0.00</td><td>72.882000</td></tr>",
                            "<tr><td>5</td><td>1466.01</td><td>0.00</td><td>7330.050000</td></tr>",
                            "<tr><td>2</td><td>1466.01</td><td>0.00</td><td>2932.020000</td></tr>",
                            "<tr><td>10</td><td>672.294</td><td>0.00</td><td>6722.940000</td></tr>",
                            "<tr><td>8</td><td>32.394</td><td>0.00</td><td>259.152000</td></tr>",
                            "<tr><td>1</td><td>38.10</td><td>0.00</td><td>38.100000</td></tr>",
                            "</table>"
                        ]
                    }
                }
            ],
            "execution_count": 16
        },
        {
            "cell_type": "code",
            "source": [
                "-- line total to cena z rabatem\r\n",
                "-- LineTotal = orderQty * (1 - UnitPriceDiscoutn) * UnitPrice\r\n",
                "-- LineTotal = orderQty * UnitPrice - OrderQty * UnitPriceDiscoutn * UnitPrice \r\n",
                "-- orderQty * UnitPrice - LineTotal = OrderQty * UnitPriceDiscoutn * UnitPrice \r\n",
                "\r\n",
                "select \r\n",
                "    h.SalesOrderID, \r\n",
                "    h.SalesOrderNumber,\r\n",
                "    h.PurchaseOrderNumber,\r\n",
                "    Sum(d.LineTotal) WithDiscout,\r\n",
                "    Sum(d.UnitPrice * d.OrderQty) WithoutDiscount,\r\n",
                "    Sum(d.UnitPrice * d.OrderQty) - sum(d.LineTotal) Discount\r\n",
                "from SalesLT.SalesOrderHeader h \r\n",
                "join SalesLT.SalesOrderDetail d on h.SalesOrderID = d.SalesOrderID\r\n",
                "group by h.SalesOrderID, h.SalesOrderNumber, h.PurchaseOrderNumber\r\n",
                "order by Discount desc\r\n",
                ""
            ],
            "metadata": {
                "azdata_cell_guid": "f5f668fd-0503-48ee-a16a-e72ce9d4d774",
                "language": "sql"
            },
            "outputs": [
                {
                    "output_type": "display_data",
                    "data": {
                        "text/html": "(32 rows affected)"
                    },
                    "metadata": {}
                },
                {
                    "output_type": "display_data",
                    "data": {
                        "text/html": "Total execution time: 00:00:00.022"
                    },
                    "metadata": {}
                },
                {
                    "output_type": "execute_result",
                    "metadata": {},
                    "execution_count": 14,
                    "data": {
                        "application/vnd.dataresource+json": {
                            "schema": {
                                "fields": [
                                    {
                                        "name": "SalesOrderID"
                                    },
                                    {
                                        "name": "SalesOrderNumber"
                                    },
                                    {
                                        "name": "PurchaseOrderNumber"
                                    },
                                    {
                                        "name": "WithoutDiscout"
                                    },
                                    {
                                        "name": "WithoutDiscount"
                                    },
                                    {
                                        "name": "Discount"
                                    }
                                ]
                            },
                            "data": [
                                {
                                    "SalesOrderID": "71783",
                                    "SalesOrderNumber": "SO71783",
                                    "PurchaseOrderNumber": "PO19343113609",
                                    "WithoutDiscout": "65683.367986",
                                    "WithoutDiscount": "68142.6132",
                                    "Discount": "2459.245214"
                                },
                                {
                                    "SalesOrderID": "71780",
                                    "SalesOrderNumber": "SO71780",
                                    "PurchaseOrderNumber": "PO19604173239",
                                    "WithoutDiscout": "29923.008000",
                                    "WithoutDiscount": "30600.996",
                                    "Discount": "677.988000"
                                },
                                {
                                    "SalesOrderID": "71902",
                                    "SalesOrderNumber": "SO71902",
                                    "PurchaseOrderNumber": "PO5539125166",
                                    "WithoutDiscout": "59894.209200",
                                    "WithoutDiscount": "60526.998",
                                    "Discount": "632.788800"
                                },
                                {
                                    "SalesOrderID": "71936",
                                    "SalesOrderNumber": "SO71936",
                                    "PurchaseOrderNumber": "PO8671170385",
                                    "WithoutDiscout": "79589.616024",
                                    "WithoutDiscount": "80143.3728",
                                    "Discount": "553.756776"
                                },
                                {
                                    "SalesOrderID": "71784",
                                    "SalesOrderNumber": "SO71784",
                                    "PurchaseOrderNumber": "PO19285135919",
                                    "WithoutDiscout": "89869.276314",
                                    "WithoutDiscount": "90341.5338",
                                    "Discount": "472.257486"
                                },
                                {
                                    "SalesOrderID": "71832",
                                    "SalesOrderNumber": "SO71832",
                                    "PurchaseOrderNumber": "PO10353140756",
                                    "WithoutDiscout": "28950.678108",
                                    "WithoutDiscount": "29187.2286",
                                    "Discount": "236.550492"
                                },
                                {
                                    "SalesOrderID": "71797",
                                    "SalesOrderNumber": "SO71797",
                                    "PurchaseOrderNumber": "PO16501134889",
                                    "WithoutDiscout": "65123.463418",
                                    "WithoutDiscount": "65218.8776",
                                    "Discount": "95.414182"
                                },
                                {
                                    "SalesOrderID": "71845",
                                    "SalesOrderNumber": "SO71845",
                                    "PurchaseOrderNumber": "PO2697119362",
                                    "WithoutDiscout": "34118.535600",
                                    "WithoutDiscount": "34208.934",
                                    "Discount": "90.398400"
                                },
                                {
                                    "SalesOrderID": "71846",
                                    "SalesOrderNumber": "SO71846",
                                    "PurchaseOrderNumber": "PO2378131604",
                                    "WithoutDiscout": "1884.394800",
                                    "WithoutDiscount": "1929.594",
                                    "Discount": "45.199200"
                                },
                                {
                                    "SalesOrderID": "71899",
                                    "SalesOrderNumber": "SO71899",
                                    "PurchaseOrderNumber": "PO4582142611",
                                    "WithoutDiscout": "1856.206800",
                                    "WithoutDiscount": "1901.406",
                                    "Discount": "45.199200"
                                },
                                {
                                    "SalesOrderID": "71923",
                                    "SalesOrderNumber": "SO71923",
                                    "PurchaseOrderNumber": "PO174173096",
                                    "WithoutDiscout": "96.108824",
                                    "WithoutDiscount": "97.5688",
                                    "Discount": "1.459976"
                                },
                                {
                                    "SalesOrderID": "71935",
                                    "SalesOrderNumber": "SO71935",
                                    "PurchaseOrderNumber": "PO7946145876",
                                    "WithoutDiscout": "5533.868908",
                                    "WithoutDiscount": "5535.2246",
                                    "Discount": "1.355692"
                                },
                                {
                                    "SalesOrderID": "71863",
                                    "SalesOrderNumber": "SO71863",
                                    "PurchaseOrderNumber": "PO16124166561",
                                    "WithoutDiscout": "2777.143076",
                                    "WithoutDiscount": "2778.2902",
                                    "Discount": "1.147124"
                                },
                                {
                                    "SalesOrderID": "71867",
                                    "SalesOrderNumber": "SO71867",
                                    "PurchaseOrderNumber": "PO13050111529",
                                    "WithoutDiscout": "858.900000",
                                    "WithoutDiscount": "858.90",
                                    "Discount": "0.000000"
                                },
                                {
                                    "SalesOrderID": "71885",
                                    "SalesOrderNumber": "SO71885",
                                    "PurchaseOrderNumber": "PO6119130779",
                                    "WithoutDiscout": "524.664000",
                                    "WithoutDiscount": "524.664",
                                    "Discount": "0.000000"
                                },
                                {
                                    "SalesOrderID": "71895",
                                    "SalesOrderNumber": "SO71895",
                                    "PurchaseOrderNumber": "PO3770176273",
                                    "WithoutDiscout": "221.256000",
                                    "WithoutDiscount": "221.256",
                                    "Discount": "0.000000"
                                },
                                {
                                    "SalesOrderID": "71897",
                                    "SalesOrderNumber": "SO71897",
                                    "PurchaseOrderNumber": "PO4785152479",
                                    "WithoutDiscout": "10585.050000",
                                    "WithoutDiscount": "10585.05",
                                    "Discount": "0.000000"
                                },
                                {
                                    "SalesOrderID": "71898",
                                    "SalesOrderNumber": "SO71898",
                                    "PurchaseOrderNumber": "PO5713190501",
                                    "WithoutDiscout": "53248.692000",
                                    "WithoutDiscount": "53248.692",
                                    "Discount": "0.000000"
                                },
                                {
                                    "SalesOrderID": "71856",
                                    "SalesOrderNumber": "SO71856",
                                    "PurchaseOrderNumber": "PO16530177647",
                                    "WithoutDiscout": "500.304000",
                                    "WithoutDiscount": "500.304",
                                    "Discount": "0.000000"
                                },
                                {
                                    "SalesOrderID": "71858",
                                    "SalesOrderNumber": "SO71858",
                                    "PurchaseOrderNumber": "PO16153112278",
                                    "WithoutDiscout": "11528.844000",
                                    "WithoutDiscount": "11528.844",
                                    "Discount": "0.000000"
                                },
                                {
                                    "SalesOrderID": "71815",
                                    "SalesOrderNumber": "SO71815",
                                    "PurchaseOrderNumber": "PO13021155785",
                                    "WithoutDiscout": "926.916000",
                                    "WithoutDiscount": "926.916",
                                    "Discount": "0.000000"
                                },
                                {
                                    "SalesOrderID": "71816",
                                    "SalesOrderNumber": "SO71816",
                                    "PurchaseOrderNumber": "PO12992180445",
                                    "WithoutDiscout": "2847.408000",
                                    "WithoutDiscount": "2847.408",
                                    "Discount": "0.000000"
                                },
                                {
                                    "SalesOrderID": "71831",
                                    "SalesOrderNumber": "SO71831",
                                    "PurchaseOrderNumber": "PO10295111084",
                                    "WithoutDiscout": "1712.946000",
                                    "WithoutDiscount": "1712.946",
                                    "Discount": "0.000000"
                                },
                                {
                                    "SalesOrderID": "71782",
                                    "SalesOrderNumber": "SO71782",
                                    "PurchaseOrderNumber": "PO19372114749",
                                    "WithoutDiscout": "33319.986000",
                                    "WithoutDiscount": "33319.986",
                                    "Discount": "0.000000"
                                },
                                {
                                    "SalesOrderID": "71774",
                                    "SalesOrderNumber": "SO71774",
                                    "PurchaseOrderNumber": "PO348186287",
                                    "WithoutDiscout": "713.796000",
                                    "WithoutDiscount": "713.796",
                                    "Discount": "0.000000"
                                },
                                {
                                    "SalesOrderID": "71776",
                                    "SalesOrderNumber": "SO71776",
                                    "PurchaseOrderNumber": "PO19952192051",
                                    "WithoutDiscout": "63.900000",
                                    "WithoutDiscount": "63.90",
                                    "Discount": "0.000000"
                                },
                                {
                                    "SalesOrderID": "71796",
                                    "SalesOrderNumber": "SO71796",
                                    "PurchaseOrderNumber": "PO17052159664",
                                    "WithoutDiscout": "47848.026000",
                                    "WithoutDiscount": "47848.026",
                                    "Discount": "0.000000"
                                },
                                {
                                    "SalesOrderID": "71915",
                                    "SalesOrderNumber": "SO71915",
                                    "PurchaseOrderNumber": "PO2349143275",
                                    "WithoutDiscout": "1732.890000",
                                    "WithoutDiscount": "1732.89",
                                    "Discount": "0.000000"
                                },
                                {
                                    "SalesOrderID": "71917",
                                    "SalesOrderNumber": "SO71917",
                                    "PurchaseOrderNumber": "PO29111718",
                                    "WithoutDiscout": "37.758000",
                                    "WithoutDiscount": "37.758",
                                    "Discount": "0.000000"
                                },
                                {
                                    "SalesOrderID": "71920",
                                    "SalesOrderNumber": "SO71920",
                                    "PurchaseOrderNumber": "PO4002189853",
                                    "WithoutDiscout": "2527.128000",
                                    "WithoutDiscount": "2527.128",
                                    "Discount": "0.000000"
                                },
                                {
                                    "SalesOrderID": "71938",
                                    "SalesOrderNumber": "SO71938",
                                    "PurchaseOrderNumber": "PO8468183315",
                                    "WithoutDiscout": "74160.228000",
                                    "WithoutDiscount": "74160.228",
                                    "Discount": "0.000000"
                                },
                                {
                                    "SalesOrderID": "71946",
                                    "SalesOrderNumber": "SO71946",
                                    "PurchaseOrderNumber": "PO8961158629",
                                    "WithoutDiscout": "31.584000",
                                    "WithoutDiscount": "31.584",
                                    "Discount": "0.000000"
                                }
                            ]
                        },
                        "text/html": [
                            "<table>",
                            "<tr><th>SalesOrderID</th><th>SalesOrderNumber</th><th>PurchaseOrderNumber</th><th>WithoutDiscout</th><th>WithoutDiscount</th><th>Discount</th></tr>",
                            "<tr><td>71783</td><td>SO71783</td><td>PO19343113609</td><td>65683.367986</td><td>68142.6132</td><td>2459.245214</td></tr>",
                            "<tr><td>71780</td><td>SO71780</td><td>PO19604173239</td><td>29923.008000</td><td>30600.996</td><td>677.988000</td></tr>",
                            "<tr><td>71902</td><td>SO71902</td><td>PO5539125166</td><td>59894.209200</td><td>60526.998</td><td>632.788800</td></tr>",
                            "<tr><td>71936</td><td>SO71936</td><td>PO8671170385</td><td>79589.616024</td><td>80143.3728</td><td>553.756776</td></tr>",
                            "<tr><td>71784</td><td>SO71784</td><td>PO19285135919</td><td>89869.276314</td><td>90341.5338</td><td>472.257486</td></tr>",
                            "<tr><td>71832</td><td>SO71832</td><td>PO10353140756</td><td>28950.678108</td><td>29187.2286</td><td>236.550492</td></tr>",
                            "<tr><td>71797</td><td>SO71797</td><td>PO16501134889</td><td>65123.463418</td><td>65218.8776</td><td>95.414182</td></tr>",
                            "<tr><td>71845</td><td>SO71845</td><td>PO2697119362</td><td>34118.535600</td><td>34208.934</td><td>90.398400</td></tr>",
                            "<tr><td>71846</td><td>SO71846</td><td>PO2378131604</td><td>1884.394800</td><td>1929.594</td><td>45.199200</td></tr>",
                            "<tr><td>71899</td><td>SO71899</td><td>PO4582142611</td><td>1856.206800</td><td>1901.406</td><td>45.199200</td></tr>",
                            "<tr><td>71923</td><td>SO71923</td><td>PO174173096</td><td>96.108824</td><td>97.5688</td><td>1.459976</td></tr>",
                            "<tr><td>71935</td><td>SO71935</td><td>PO7946145876</td><td>5533.868908</td><td>5535.2246</td><td>1.355692</td></tr>",
                            "<tr><td>71863</td><td>SO71863</td><td>PO16124166561</td><td>2777.143076</td><td>2778.2902</td><td>1.147124</td></tr>",
                            "<tr><td>71867</td><td>SO71867</td><td>PO13050111529</td><td>858.900000</td><td>858.90</td><td>0.000000</td></tr>",
                            "<tr><td>71885</td><td>SO71885</td><td>PO6119130779</td><td>524.664000</td><td>524.664</td><td>0.000000</td></tr>",
                            "<tr><td>71895</td><td>SO71895</td><td>PO3770176273</td><td>221.256000</td><td>221.256</td><td>0.000000</td></tr>",
                            "<tr><td>71897</td><td>SO71897</td><td>PO4785152479</td><td>10585.050000</td><td>10585.05</td><td>0.000000</td></tr>",
                            "<tr><td>71898</td><td>SO71898</td><td>PO5713190501</td><td>53248.692000</td><td>53248.692</td><td>0.000000</td></tr>",
                            "<tr><td>71856</td><td>SO71856</td><td>PO16530177647</td><td>500.304000</td><td>500.304</td><td>0.000000</td></tr>",
                            "<tr><td>71858</td><td>SO71858</td><td>PO16153112278</td><td>11528.844000</td><td>11528.844</td><td>0.000000</td></tr>",
                            "<tr><td>71815</td><td>SO71815</td><td>PO13021155785</td><td>926.916000</td><td>926.916</td><td>0.000000</td></tr>",
                            "<tr><td>71816</td><td>SO71816</td><td>PO12992180445</td><td>2847.408000</td><td>2847.408</td><td>0.000000</td></tr>",
                            "<tr><td>71831</td><td>SO71831</td><td>PO10295111084</td><td>1712.946000</td><td>1712.946</td><td>0.000000</td></tr>",
                            "<tr><td>71782</td><td>SO71782</td><td>PO19372114749</td><td>33319.986000</td><td>33319.986</td><td>0.000000</td></tr>",
                            "<tr><td>71774</td><td>SO71774</td><td>PO348186287</td><td>713.796000</td><td>713.796</td><td>0.000000</td></tr>",
                            "<tr><td>71776</td><td>SO71776</td><td>PO19952192051</td><td>63.900000</td><td>63.90</td><td>0.000000</td></tr>",
                            "<tr><td>71796</td><td>SO71796</td><td>PO17052159664</td><td>47848.026000</td><td>47848.026</td><td>0.000000</td></tr>",
                            "<tr><td>71915</td><td>SO71915</td><td>PO2349143275</td><td>1732.890000</td><td>1732.89</td><td>0.000000</td></tr>",
                            "<tr><td>71917</td><td>SO71917</td><td>PO29111718</td><td>37.758000</td><td>37.758</td><td>0.000000</td></tr>",
                            "<tr><td>71920</td><td>SO71920</td><td>PO4002189853</td><td>2527.128000</td><td>2527.128</td><td>0.000000</td></tr>",
                            "<tr><td>71938</td><td>SO71938</td><td>PO8468183315</td><td>74160.228000</td><td>74160.228</td><td>0.000000</td></tr>",
                            "<tr><td>71946</td><td>SO71946</td><td>PO8961158629</td><td>31.584000</td><td>31.584</td><td>0.000000</td></tr>",
                            "</table>"
                        ]
                    }
                }
            ],
            "execution_count": 14
        },
        {
            "cell_type": "code",
            "source": [
                "with OrderRes as (\r\n",
                "    select \r\n",
                "        h.SalesOrderID, \r\n",
                "        h.SalesOrderNumber,\r\n",
                "        h.PurchaseOrderNumber,\r\n",
                "        Sum(d.LineTotal) WithoutDiscout,\r\n",
                "        Sum(d.UnitPrice * d.OrderQty) WithoutDiscount,\r\n",
                "        Sum(d.UnitPrice * d.OrderQty) - sum(d.LineTotal) Discount\r\n",
                "    from SalesLT.SalesOrderHeader h \r\n",
                "    join SalesLT.SalesOrderDetail d on h.SalesOrderID = d.SalesOrderID\r\n",
                "    group by h.SalesOrderID, h.SalesOrderNumber, h.PurchaseOrderNumber\r\n",
                "    having sum(d.UnitPrice * d.OrderQty) - sum(d.LineTotal) > 230\r\n",
                ")\r\n",
                "select *\r\n",
                "from OrderRes\r\n",
                "order by Discount desc"
            ],
            "metadata": {
                "azdata_cell_guid": "9f3963d1-6ef4-42f1-9ff2-7d94a11071fe",
                "language": "sql"
            },
            "outputs": [
                {
                    "output_type": "display_data",
                    "data": {
                        "text/html": "(6 rows affected)"
                    },
                    "metadata": {}
                },
                {
                    "output_type": "display_data",
                    "data": {
                        "text/html": "Total execution time: 00:00:00.015"
                    },
                    "metadata": {}
                },
                {
                    "output_type": "execute_result",
                    "metadata": {},
                    "execution_count": 15,
                    "data": {
                        "application/vnd.dataresource+json": {
                            "schema": {
                                "fields": [
                                    {
                                        "name": "SalesOrderID"
                                    },
                                    {
                                        "name": "SalesOrderNumber"
                                    },
                                    {
                                        "name": "PurchaseOrderNumber"
                                    },
                                    {
                                        "name": "WithoutDiscout"
                                    },
                                    {
                                        "name": "WithoutDiscount"
                                    },
                                    {
                                        "name": "Discount"
                                    }
                                ]
                            },
                            "data": [
                                {
                                    "SalesOrderID": "71783",
                                    "SalesOrderNumber": "SO71783",
                                    "PurchaseOrderNumber": "PO19343113609",
                                    "WithoutDiscout": "65683.367986",
                                    "WithoutDiscount": "68142.6132",
                                    "Discount": "2459.245214"
                                },
                                {
                                    "SalesOrderID": "71780",
                                    "SalesOrderNumber": "SO71780",
                                    "PurchaseOrderNumber": "PO19604173239",
                                    "WithoutDiscout": "29923.008000",
                                    "WithoutDiscount": "30600.996",
                                    "Discount": "677.988000"
                                },
                                {
                                    "SalesOrderID": "71902",
                                    "SalesOrderNumber": "SO71902",
                                    "PurchaseOrderNumber": "PO5539125166",
                                    "WithoutDiscout": "59894.209200",
                                    "WithoutDiscount": "60526.998",
                                    "Discount": "632.788800"
                                },
                                {
                                    "SalesOrderID": "71936",
                                    "SalesOrderNumber": "SO71936",
                                    "PurchaseOrderNumber": "PO8671170385",
                                    "WithoutDiscout": "79589.616024",
                                    "WithoutDiscount": "80143.3728",
                                    "Discount": "553.756776"
                                },
                                {
                                    "SalesOrderID": "71784",
                                    "SalesOrderNumber": "SO71784",
                                    "PurchaseOrderNumber": "PO19285135919",
                                    "WithoutDiscout": "89869.276314",
                                    "WithoutDiscount": "90341.5338",
                                    "Discount": "472.257486"
                                },
                                {
                                    "SalesOrderID": "71832",
                                    "SalesOrderNumber": "SO71832",
                                    "PurchaseOrderNumber": "PO10353140756",
                                    "WithoutDiscout": "28950.678108",
                                    "WithoutDiscount": "29187.2286",
                                    "Discount": "236.550492"
                                }
                            ]
                        },
                        "text/html": [
                            "<table>",
                            "<tr><th>SalesOrderID</th><th>SalesOrderNumber</th><th>PurchaseOrderNumber</th><th>WithoutDiscout</th><th>WithoutDiscount</th><th>Discount</th></tr>",
                            "<tr><td>71783</td><td>SO71783</td><td>PO19343113609</td><td>65683.367986</td><td>68142.6132</td><td>2459.245214</td></tr>",
                            "<tr><td>71780</td><td>SO71780</td><td>PO19604173239</td><td>29923.008000</td><td>30600.996</td><td>677.988000</td></tr>",
                            "<tr><td>71902</td><td>SO71902</td><td>PO5539125166</td><td>59894.209200</td><td>60526.998</td><td>632.788800</td></tr>",
                            "<tr><td>71936</td><td>SO71936</td><td>PO8671170385</td><td>79589.616024</td><td>80143.3728</td><td>553.756776</td></tr>",
                            "<tr><td>71784</td><td>SO71784</td><td>PO19285135919</td><td>89869.276314</td><td>90341.5338</td><td>472.257486</td></tr>",
                            "<tr><td>71832</td><td>SO71832</td><td>PO10353140756</td><td>28950.678108</td><td>29187.2286</td><td>236.550492</td></tr>",
                            "</table>"
                        ]
                    }
                }
            ],
            "execution_count": 15
        }
    ]
}