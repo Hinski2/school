{
    "metadata": {
        "kernelspec": {
            "name": "SQL",
            "display_name": "SQL",
            "language": "sql"
        },
        "language_info": {
            "name": "sql",
            "version": ""
        }
    },
    "nbformat_minor": 2,
    "nbformat": 4,
    "cells": [
        {
            "cell_type": "code",
            "source": [
                "create table t (\r\n",
                "    ID int identity(1000, 10) primary key, \r\n",
                "    val int,\r\n",
                ")"
            ],
            "metadata": {
                "azdata_cell_guid": "c9f6e3b5-652d-46e3-b0f5-4645ebc06381",
                "language": "sql",
                "tags": []
            },
            "outputs": [
                {
                    "output_type": "display_data",
                    "data": {
                        "text/html": "Commands completed successfully."
                    },
                    "metadata": {}
                },
                {
                    "output_type": "display_data",
                    "data": {
                        "text/html": "Total execution time: 00:00:00.016"
                    },
                    "metadata": {}
                }
            ],
            "execution_count": 40
        },
        {
            "cell_type": "code",
            "source": [
                "insert into t (val)\r\n",
                "values (1), (2), (3), (4), (5)"
            ],
            "metadata": {
                "azdata_cell_guid": "c872fc12-fce3-41f5-ae07-e8fead4eedf8",
                "language": "sql",
                "tags": []
            },
            "outputs": [
                {
                    "output_type": "display_data",
                    "data": {
                        "text/html": "(5 rows affected)"
                    },
                    "metadata": {}
                },
                {
                    "output_type": "display_data",
                    "data": {
                        "text/html": "Total execution time: 00:00:00.018"
                    },
                    "metadata": {}
                }
            ],
            "execution_count": 41
        },
        {
            "cell_type": "code",
            "source": [
                "select * \r\n",
                "from t"
            ],
            "metadata": {
                "language": "sql",
                "azdata_cell_guid": "64296d4e-3c2b-4c18-9eff-8ddf51370769"
            },
            "outputs": [
                {
                    "output_type": "display_data",
                    "data": {
                        "text/html": "(5 rows affected)"
                    },
                    "metadata": {}
                },
                {
                    "output_type": "display_data",
                    "data": {
                        "text/html": "Total execution time: 00:00:00.014"
                    },
                    "metadata": {}
                },
                {
                    "output_type": "execute_result",
                    "metadata": {},
                    "execution_count": 42,
                    "data": {
                        "application/vnd.dataresource+json": {
                            "schema": {
                                "fields": [
                                    {
                                        "name": "ID"
                                    },
                                    {
                                        "name": "val"
                                    }
                                ]
                            },
                            "data": [
                                {
                                    "ID": "1000",
                                    "val": "1"
                                },
                                {
                                    "ID": "1010",
                                    "val": "2"
                                },
                                {
                                    "ID": "1020",
                                    "val": "3"
                                },
                                {
                                    "ID": "1030",
                                    "val": "4"
                                },
                                {
                                    "ID": "1040",
                                    "val": "5"
                                }
                            ]
                        },
                        "text/html": [
                            "<table>",
                            "<tr><th>ID</th><th>val</th></tr>",
                            "<tr><td>1000</td><td>1</td></tr>",
                            "<tr><td>1010</td><td>2</td></tr>",
                            "<tr><td>1020</td><td>3</td></tr>",
                            "<tr><td>1030</td><td>4</td></tr>",
                            "<tr><td>1040</td><td>5</td></tr>",
                            "</table>"
                        ]
                    }
                }
            ],
            "execution_count": 42
        },
        {
            "cell_type": "code",
            "source": [
                "select @@identity aaidentity; -- zwraca ostatni numer który został nadany w tej sesji"
            ],
            "metadata": {
                "language": "sql",
                "azdata_cell_guid": "566d189f-c3a7-4598-ad78-71e3dfe0eb88"
            },
            "outputs": [
                {
                    "output_type": "display_data",
                    "data": {
                        "text/html": "(1 row affected)"
                    },
                    "metadata": {}
                },
                {
                    "output_type": "display_data",
                    "data": {
                        "text/html": "Total execution time: 00:00:00.013"
                    },
                    "metadata": {}
                },
                {
                    "output_type": "execute_result",
                    "metadata": {},
                    "execution_count": 43,
                    "data": {
                        "application/vnd.dataresource+json": {
                            "schema": {
                                "fields": [
                                    {
                                        "name": "@@identity"
                                    }
                                ]
                            },
                            "data": [
                                {
                                    "@@identity": "1040"
                                }
                            ]
                        },
                        "text/html": [
                            "<table>",
                            "<tr><th>@@identity</th></tr>",
                            "<tr><td>1040</td></tr>",
                            "</table>"
                        ]
                    }
                }
            ],
            "execution_count": 43
        },
        {
            "cell_type": "code",
            "source": [
                "select @@identity aaidentity, IDENT_CURRENT('t') ident_current\r\n",
                ""
            ],
            "metadata": {
                "azdata_cell_guid": "7e8e97ac-c427-4bab-9c46-ae9e28a60f19",
                "language": "sql"
            },
            "outputs": [
                {
                    "output_type": "display_data",
                    "data": {
                        "text/html": "(1 row affected)"
                    },
                    "metadata": {}
                },
                {
                    "output_type": "display_data",
                    "data": {
                        "text/html": "Total execution time: 00:00:00.019"
                    },
                    "metadata": {}
                },
                {
                    "output_type": "execute_result",
                    "metadata": {},
                    "execution_count": 44,
                    "data": {
                        "application/vnd.dataresource+json": {
                            "schema": {
                                "fields": [
                                    {
                                        "name": "aaidentity"
                                    },
                                    {
                                        "name": "ident_current"
                                    }
                                ]
                            },
                            "data": [
                                {
                                    "aaidentity": "1040",
                                    "ident_current": "1040"
                                }
                            ]
                        },
                        "text/html": [
                            "<table>",
                            "<tr><th>aaidentity</th><th>ident_current</th></tr>",
                            "<tr><td>1040</td><td>1040</td></tr>",
                            "</table>"
                        ]
                    }
                }
            ],
            "execution_count": 44
        },
        {
            "cell_type": "code",
            "source": [
                "drop table t"
            ],
            "metadata": {
                "azdata_cell_guid": "bd4777e7-ece3-4c87-a5e1-080e99b8c7ef",
                "language": "sql"
            },
            "outputs": [
                {
                    "output_type": "display_data",
                    "data": {
                        "text/html": "Commands completed successfully."
                    },
                    "metadata": {}
                },
                {
                    "output_type": "display_data",
                    "data": {
                        "text/html": "Total execution time: 00:00:00.030"
                    },
                    "metadata": {}
                }
            ],
            "execution_count": 39
        }
    ]
}