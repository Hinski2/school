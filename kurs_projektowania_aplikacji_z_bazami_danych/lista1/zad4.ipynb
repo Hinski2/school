{
    "metadata": {
        "kernelspec": {
            "name": "SQL",
            "display_name": "SQL",
            "language": "sql"
        },
        "language_info": {
            "name": "sql",
            "version": ""
        }
    },
    "nbformat_minor": 2,
    "nbformat": 4,
    "cells": [
        {
            "cell_type": "code",
            "source": [
                "select pc.ProductCategoryID, pc.ParentProductCategoryID\r\n",
                "from SalesLT.ProductCategory pc"
            ],
            "metadata": {
                "azdata_cell_guid": "90c7930d-4607-48f6-bd33-6ccbeafeccc2",
                "language": "sql",
                "tags": []
            },
            "outputs": [
                {
                    "output_type": "display_data",
                    "data": {
                        "text/html": "(41 rows affected)"
                    },
                    "metadata": {}
                },
                {
                    "output_type": "display_data",
                    "data": {
                        "text/html": "Total execution time: 00:00:00.013"
                    },
                    "metadata": {}
                },
                {
                    "output_type": "execute_result",
                    "metadata": {},
                    "execution_count": 2,
                    "data": {
                        "application/vnd.dataresource+json": {
                            "schema": {
                                "fields": [
                                    {
                                        "name": "ProductCategoryID"
                                    },
                                    {
                                        "name": "ParentProductCategoryID"
                                    }
                                ]
                            },
                            "data": [
                                {
                                    "ProductCategoryID": "1",
                                    "ParentProductCategoryID": "NULL"
                                },
                                {
                                    "ProductCategoryID": "2",
                                    "ParentProductCategoryID": "NULL"
                                },
                                {
                                    "ProductCategoryID": "3",
                                    "ParentProductCategoryID": "NULL"
                                },
                                {
                                    "ProductCategoryID": "4",
                                    "ParentProductCategoryID": "NULL"
                                },
                                {
                                    "ProductCategoryID": "5",
                                    "ParentProductCategoryID": "1"
                                },
                                {
                                    "ProductCategoryID": "6",
                                    "ParentProductCategoryID": "1"
                                },
                                {
                                    "ProductCategoryID": "7",
                                    "ParentProductCategoryID": "1"
                                },
                                {
                                    "ProductCategoryID": "8",
                                    "ParentProductCategoryID": "2"
                                },
                                {
                                    "ProductCategoryID": "9",
                                    "ParentProductCategoryID": "2"
                                },
                                {
                                    "ProductCategoryID": "10",
                                    "ParentProductCategoryID": "2"
                                },
                                {
                                    "ProductCategoryID": "11",
                                    "ParentProductCategoryID": "2"
                                },
                                {
                                    "ProductCategoryID": "12",
                                    "ParentProductCategoryID": "2"
                                },
                                {
                                    "ProductCategoryID": "13",
                                    "ParentProductCategoryID": "2"
                                },
                                {
                                    "ProductCategoryID": "14",
                                    "ParentProductCategoryID": "2"
                                },
                                {
                                    "ProductCategoryID": "15",
                                    "ParentProductCategoryID": "2"
                                },
                                {
                                    "ProductCategoryID": "16",
                                    "ParentProductCategoryID": "2"
                                },
                                {
                                    "ProductCategoryID": "17",
                                    "ParentProductCategoryID": "2"
                                },
                                {
                                    "ProductCategoryID": "18",
                                    "ParentProductCategoryID": "2"
                                },
                                {
                                    "ProductCategoryID": "19",
                                    "ParentProductCategoryID": "2"
                                },
                                {
                                    "ProductCategoryID": "20",
                                    "ParentProductCategoryID": "2"
                                },
                                {
                                    "ProductCategoryID": "21",
                                    "ParentProductCategoryID": "2"
                                },
                                {
                                    "ProductCategoryID": "22",
                                    "ParentProductCategoryID": "3"
                                },
                                {
                                    "ProductCategoryID": "23",
                                    "ParentProductCategoryID": "3"
                                },
                                {
                                    "ProductCategoryID": "24",
                                    "ParentProductCategoryID": "3"
                                },
                                {
                                    "ProductCategoryID": "25",
                                    "ParentProductCategoryID": "3"
                                },
                                {
                                    "ProductCategoryID": "26",
                                    "ParentProductCategoryID": "3"
                                },
                                {
                                    "ProductCategoryID": "27",
                                    "ParentProductCategoryID": "3"
                                },
                                {
                                    "ProductCategoryID": "28",
                                    "ParentProductCategoryID": "3"
                                },
                                {
                                    "ProductCategoryID": "29",
                                    "ParentProductCategoryID": "3"
                                },
                                {
                                    "ProductCategoryID": "30",
                                    "ParentProductCategoryID": "4"
                                },
                                {
                                    "ProductCategoryID": "31",
                                    "ParentProductCategoryID": "4"
                                },
                                {
                                    "ProductCategoryID": "32",
                                    "ParentProductCategoryID": "4"
                                },
                                {
                                    "ProductCategoryID": "33",
                                    "ParentProductCategoryID": "4"
                                },
                                {
                                    "ProductCategoryID": "34",
                                    "ParentProductCategoryID": "4"
                                },
                                {
                                    "ProductCategoryID": "35",
                                    "ParentProductCategoryID": "4"
                                },
                                {
                                    "ProductCategoryID": "36",
                                    "ParentProductCategoryID": "4"
                                },
                                {
                                    "ProductCategoryID": "37",
                                    "ParentProductCategoryID": "4"
                                },
                                {
                                    "ProductCategoryID": "38",
                                    "ParentProductCategoryID": "4"
                                },
                                {
                                    "ProductCategoryID": "39",
                                    "ParentProductCategoryID": "4"
                                },
                                {
                                    "ProductCategoryID": "40",
                                    "ParentProductCategoryID": "4"
                                },
                                {
                                    "ProductCategoryID": "41",
                                    "ParentProductCategoryID": "4"
                                }
                            ]
                        },
                        "text/html": [
                            "<table>",
                            "<tr><th>ProductCategoryID</th><th>ParentProductCategoryID</th></tr>",
                            "<tr><td>1</td><td>NULL</td></tr>",
                            "<tr><td>2</td><td>NULL</td></tr>",
                            "<tr><td>3</td><td>NULL</td></tr>",
                            "<tr><td>4</td><td>NULL</td></tr>",
                            "<tr><td>5</td><td>1</td></tr>",
                            "<tr><td>6</td><td>1</td></tr>",
                            "<tr><td>7</td><td>1</td></tr>",
                            "<tr><td>8</td><td>2</td></tr>",
                            "<tr><td>9</td><td>2</td></tr>",
                            "<tr><td>10</td><td>2</td></tr>",
                            "<tr><td>11</td><td>2</td></tr>",
                            "<tr><td>12</td><td>2</td></tr>",
                            "<tr><td>13</td><td>2</td></tr>",
                            "<tr><td>14</td><td>2</td></tr>",
                            "<tr><td>15</td><td>2</td></tr>",
                            "<tr><td>16</td><td>2</td></tr>",
                            "<tr><td>17</td><td>2</td></tr>",
                            "<tr><td>18</td><td>2</td></tr>",
                            "<tr><td>19</td><td>2</td></tr>",
                            "<tr><td>20</td><td>2</td></tr>",
                            "<tr><td>21</td><td>2</td></tr>",
                            "<tr><td>22</td><td>3</td></tr>",
                            "<tr><td>23</td><td>3</td></tr>",
                            "<tr><td>24</td><td>3</td></tr>",
                            "<tr><td>25</td><td>3</td></tr>",
                            "<tr><td>26</td><td>3</td></tr>",
                            "<tr><td>27</td><td>3</td></tr>",
                            "<tr><td>28</td><td>3</td></tr>",
                            "<tr><td>29</td><td>3</td></tr>",
                            "<tr><td>30</td><td>4</td></tr>",
                            "<tr><td>31</td><td>4</td></tr>",
                            "<tr><td>32</td><td>4</td></tr>",
                            "<tr><td>33</td><td>4</td></tr>",
                            "<tr><td>34</td><td>4</td></tr>",
                            "<tr><td>35</td><td>4</td></tr>",
                            "<tr><td>36</td><td>4</td></tr>",
                            "<tr><td>37</td><td>4</td></tr>",
                            "<tr><td>38</td><td>4</td></tr>",
                            "<tr><td>39</td><td>4</td></tr>",
                            "<tr><td>40</td><td>4</td></tr>",
                            "<tr><td>41</td><td>4</td></tr>",
                            "</table>"
                        ]
                    }
                }
            ],
            "execution_count": 2
        },
        {
            "cell_type": "code",
            "source": [
                "select distinct p.ParentProductCategoryID\r\n",
                "from SalesLT.ProductCategory p\r\n",
                "where p.ParentProductCategoryID is not null"
            ],
            "metadata": {
                "azdata_cell_guid": "ba96d56c-77ea-443a-8ad2-b7ea1394d8bf",
                "language": "sql"
            },
            "outputs": [
                {
                    "output_type": "display_data",
                    "data": {
                        "text/html": "(4 rows affected)"
                    },
                    "metadata": {}
                },
                {
                    "output_type": "display_data",
                    "data": {
                        "text/html": "Total execution time: 00:00:00.014"
                    },
                    "metadata": {}
                },
                {
                    "output_type": "execute_result",
                    "metadata": {},
                    "execution_count": 3,
                    "data": {
                        "application/vnd.dataresource+json": {
                            "schema": {
                                "fields": [
                                    {
                                        "name": "ParentProductCategoryID"
                                    }
                                ]
                            },
                            "data": [
                                {
                                    "ParentProductCategoryID": "1"
                                },
                                {
                                    "ParentProductCategoryID": "2"
                                },
                                {
                                    "ParentProductCategoryID": "3"
                                },
                                {
                                    "ParentProductCategoryID": "4"
                                }
                            ]
                        },
                        "text/html": [
                            "<table>",
                            "<tr><th>ParentProductCategoryID</th></tr>",
                            "<tr><td>1</td></tr>",
                            "<tr><td>2</td></tr>",
                            "<tr><td>3</td></tr>",
                            "<tr><td>4</td></tr>",
                            "</table>"
                        ]
                    }
                }
            ],
            "execution_count": 3
        },
        {
            "cell_type": "code",
            "source": [
                "select pc.name CategoryName, p.name ProductName\r\n",
                "from SalesLT.Product p \r\n",
                "join SalesLT.ProductCategory as pc on pc.ProductCategoryID = p.ProductCategoryID\r\n",
                "where pc.ProductCategoryID in (\r\n",
                "    select distinct pc.ParentProductCategoryID\r\n",
                "    from SalesLT.ProductCategory pc\r\n",
                "    where pc.ParentProductCategoryID is not null\r\n",
                ")"
            ],
            "metadata": {
                "azdata_cell_guid": "069fdc11-b4ca-442e-8cbb-fbdd1a7f96ea",
                "language": "sql"
            },
            "outputs": [
                {
                    "output_type": "display_data",
                    "data": {
                        "text/html": "(0 rows affected)"
                    },
                    "metadata": {}
                },
                {
                    "output_type": "display_data",
                    "data": {
                        "text/html": "Total execution time: 00:00:00.022"
                    },
                    "metadata": {}
                },
                {
                    "output_type": "execute_result",
                    "metadata": {},
                    "execution_count": 13,
                    "data": {
                        "application/vnd.dataresource+json": {
                            "schema": {
                                "fields": [
                                    {
                                        "name": "CategoryName"
                                    },
                                    {
                                        "name": "ProductName"
                                    }
                                ]
                            },
                            "data": []
                        },
                        "text/html": [
                            "<table>",
                            "<tr><th>CategoryName</th><th>ProductName</th></tr>",
                            "</table>"
                        ]
                    }
                }
            ],
            "execution_count": 13
        },
        {
            "cell_type": "code",
            "source": [
                "begin TRAN\r\n",
                "\r\n",
                "insert into SalesLT.Product (Name, ProductNumber, ProductCategoryID, StandardCost, ListPrice, SellStartDate)\r\n",
                "values ('test', 2137, 1, 42, 42, SYSDATETIME())\r\n",
                "\r\n",
                "select pc.name CategoryName, p.name ProductName\r\n",
                "from SalesLT.Product p \r\n",
                "join SalesLT.ProductCategory as pc on pc.ProductCategoryID = p.ProductCategoryID\r\n",
                "where pc.ProductCategoryID in (\r\n",
                "    select distinct pc.ParentProductCategoryID\r\n",
                "    from SalesLT.ProductCategory pc\r\n",
                "    where pc.ParentProductCategoryID is not null\r\n",
                ")\r\n",
                "\r\n",
                "rollback "
            ],
            "metadata": {
                "azdata_cell_guid": "81bae3be-bd92-440f-ba87-3af8bd4d23ac",
                "language": "sql"
            },
            "outputs": [
                {
                    "output_type": "display_data",
                    "data": {
                        "text/html": "(1 row affected)"
                    },
                    "metadata": {}
                },
                {
                    "output_type": "display_data",
                    "data": {
                        "text/html": "(1 row affected)"
                    },
                    "metadata": {}
                },
                {
                    "output_type": "display_data",
                    "data": {
                        "text/html": "Total execution time: 00:00:00.032"
                    },
                    "metadata": {}
                },
                {
                    "output_type": "execute_result",
                    "metadata": {},
                    "execution_count": 14,
                    "data": {
                        "application/vnd.dataresource+json": {
                            "schema": {
                                "fields": [
                                    {
                                        "name": "CategoryName"
                                    },
                                    {
                                        "name": "ProductName"
                                    }
                                ]
                            },
                            "data": [
                                {
                                    "CategoryName": "Bikes",
                                    "ProductName": "test"
                                }
                            ]
                        },
                        "text/html": [
                            "<table>",
                            "<tr><th>CategoryName</th><th>ProductName</th></tr>",
                            "<tr><td>Bikes</td><td>test</td></tr>",
                            "</table>"
                        ]
                    }
                }
            ],
            "execution_count": 14
        }
    ]
}